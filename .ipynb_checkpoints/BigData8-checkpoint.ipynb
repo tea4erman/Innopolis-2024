{
 "cells": [
  {
   "cell_type": "code",
   "execution_count": null,
   "metadata": {
    "id": "ocFB-PnW2HbD"
   },
   "outputs": [],
   "source": [
    "from bs4 import BeautifulSoup\n",
    "import requests"
   ]
  },
  {
   "cell_type": "markdown",
   "metadata": {
    "id": "q6AncLWD_iry"
   },
   "source": [
    "# Парсим одну страницу новостей"
   ]
  },
  {
   "cell_type": "code",
   "execution_count": null,
   "metadata": {
    "id": "wFrO965Z-7rE"
   },
   "outputs": [],
   "source": [
    "url = \"https://ria.ru/20241119/sderzhivanie-1984545626.html\""
   ]
  },
  {
   "cell_type": "code",
   "execution_count": null,
   "metadata": {
    "id": "thFzM-Qe-7os"
   },
   "outputs": [],
   "source": [
    "page = requests.get(url)"
   ]
  },
  {
   "cell_type": "code",
   "execution_count": null,
   "metadata": {
    "colab": {
     "base_uri": "https://localhost:8080/"
    },
    "id": "_x5SuVv8-7mT",
    "outputId": "5a873fb8-95cd-4078-f8c6-300d851f5c6f"
   },
   "outputs": [
    {
     "name": "stdout",
     "output_type": "stream",
     "text": [
      "200\n"
     ]
    }
   ],
   "source": [
    "print(page.status_code)"
   ]
  },
  {
   "cell_type": "code",
   "execution_count": null,
   "metadata": {
    "id": "0saMM1aM-7jv"
   },
   "outputs": [],
   "source": [
    "soup = BeautifulSoup(page.text, \"html.parser\")"
   ]
  },
  {
   "cell_type": "code",
   "execution_count": null,
   "metadata": {
    "colab": {
     "base_uri": "https://localhost:8080/"
    },
    "id": "2oT1OTKU-7gn",
    "outputId": "43183146-4f64-4dd1-d8d9-1018995fddad"
   },
   "outputs": [
    {
     "data": {
      "text/plain": [
       "<title>Путин утвердил основы госполитики в области ядерного сдерживания - РИА Новости, 19.11.2024</title>"
      ]
     },
     "execution_count": 99,
     "metadata": {},
     "output_type": "execute_result"
    }
   ],
   "source": [
    "soup.title"
   ]
  },
  {
   "cell_type": "code",
   "execution_count": null,
   "metadata": {
    "colab": {
     "base_uri": "https://localhost:8080/",
     "height": 35
    },
    "id": "p7-UXCXl8fvb",
    "outputId": "21c99fd5-b8eb-4e17-ad7f-8411c5130ee9"
   },
   "outputs": [
    {
     "data": {
      "application/vnd.google.colaboratory.intrinsic+json": {
       "type": "string"
      },
      "text/plain": [
       "'title'"
      ]
     },
     "execution_count": 100,
     "metadata": {},
     "output_type": "execute_result"
    }
   ],
   "source": [
    "soup.title.name"
   ]
  },
  {
   "cell_type": "code",
   "execution_count": null,
   "metadata": {
    "colab": {
     "base_uri": "https://localhost:8080/",
     "height": 35
    },
    "id": "T9DIMG0U8kxc",
    "outputId": "26eb55ec-8d99-42f4-971f-c7226a0c9d30"
   },
   "outputs": [
    {
     "data": {
      "application/vnd.google.colaboratory.intrinsic+json": {
       "type": "string"
      },
      "text/plain": [
       "'Путин утвердил основы госполитики в области ядерного сдерживания - РИА Новости, 19.11.2024'"
      ]
     },
     "execution_count": 101,
     "metadata": {},
     "output_type": "execute_result"
    }
   ],
   "source": [
    "soup.title.string"
   ]
  },
  {
   "cell_type": "code",
   "execution_count": null,
   "metadata": {
    "colab": {
     "base_uri": "https://localhost:8080/",
     "height": 35
    },
    "id": "KtwWppvm8kop",
    "outputId": "c510daf4-0ef7-4dec-8a73-5359f3d449fb"
   },
   "outputs": [
    {
     "data": {
      "application/vnd.google.colaboratory.intrinsic+json": {
       "type": "string"
      },
      "text/plain": [
       "'head'"
      ]
     },
     "execution_count": 102,
     "metadata": {},
     "output_type": "execute_result"
    }
   ],
   "source": [
    "soup.title.parent.name"
   ]
  },
  {
   "cell_type": "code",
   "execution_count": null,
   "metadata": {
    "colab": {
     "base_uri": "https://localhost:8080/"
    },
    "id": "dKMNdLg88kCj",
    "outputId": "1decf219-4e01-4812-8d13-75f092a42314"
   },
   "outputs": [
    {
     "data": {
      "text/plain": [
       "<a href=\"https://ria.ru\" itemprop=\"url\"> </a>"
      ]
     },
     "execution_count": 105,
     "metadata": {},
     "output_type": "execute_result"
    }
   ],
   "source": [
    "soup.a"
   ]
  },
  {
   "cell_type": "code",
   "execution_count": null,
   "metadata": {
    "colab": {
     "base_uri": "https://localhost:8080/"
    },
    "id": "uC4oG9UsC5B1",
    "outputId": "30741959-653d-408d-a3b4-e0954ce7ff68"
   },
   "outputs": [
    {
     "data": {
      "text/plain": [
       "[<div class=\"article__block\" data-type=\"text\"><div class=\"article__text\"><strong>МОСКВА, 19 ноя — РИА Новости. </strong>Владимир Путин утвердил Основы государственной политики в области ядерного сдерживания, президентский указ и <a href=\"http://publication.pravo.gov.ru/document/0001202411190001\" rel=\"nofollow noopener\" target=\"_blank\">текст</a> самого документа разместили на сайте официального опубликования правовых актов.</div></div>,\n",
       " <div class=\"article__block\" data-type=\"quote\"><div class=\"article__quote\"><div class=\"article__quote-bg color-font\">«</div><div class=\"article__quote-text m-small\" data-text-length=\"309\">\"Гарантированное сдерживание потенциального противника от агрессии против Российской Федерации и (или) ее союзников относится к числу высших государственных приоритетов. Сдерживание агрессии обеспечивается всей совокупностью военной мощи Российской Федерации, включая ядерное оружие\", — говорится в документе.</div></div></div>,\n",
       " <div class=\"article__block\" data-article=\"main-photo\" data-id=\"1984555644\" data-nosnippet=\"true\" data-type=\"article\"><div class=\"article__article color-font-hover-only m-image\"><div class=\"article__article-image\"><img alt=\"Президент России Владимир Путин на пленарной сессии XXI Ежегодного заседания Международного дискуссионного клуба Валдай  - РИА Новости, 1920, 07.11.2024\" class=\"lazyload\" data-crop-height=\"366\" data-crop-ratio=\"0.5625\" data-crop-width=\"650\" data-source-sid=\"rian_photo\" data-srcset=\"https://cdnn21.img.ria.ru/images/07e8/0b/07/1982516532_0:108:3215:1916_640x0_80_0_0_1b90b6553229db200456be0ef0f73928.jpg 640w,https://cdnn21.img.ria.ru/images/07e8/0b/07/1982516532_0:108:3215:1916_1280x0_80_0_0_b2f55a56e7f46828f352af29f72bdf81.jpg 1280w,https://cdnn21.img.ria.ru/images/07e8/0b/07/1982516532_0:108:3215:1916_1920x0_80_0_0_a6439b8c2670b7c694f2753b901e1e66.jpg 1920w\" decoding=\"async\" height=\"1080\" media-type=\"ar16x9\" sizes=\"(max-width: 690px) calc(100vw - 40px), 200px\" src=\"https://cdnn21.img.ria.ru/images/07e8/0b/07/1982516532_0:108:3215:1916_1920x1080_80_0_0_8b7cfb91473809c0801bca7f4405e3fa.jpg\" srcset=\"\n",
       "                         data:image/svg+xml,%3Csvg%20xmlns=%22http://www.w3.org/2000/svg%22%20width=%221920%22%20height=%221080%22%3E%3C/svg%3E 100w\n",
       "                     \" title=\"Президент России Владимир Путин на пленарной сессии XXI Ежегодного заседания Международного дискуссионного клуба Валдай \" width=\"1920\"/><script type=\"application/ld+json\">\n",
       "                 {\n",
       "                     \"@context\": \"http://schema.org\",\n",
       "                     \"@type\": \"ImageObject\",\n",
       "                     \"url\": \"https://cdnn21.img.ria.ru/images/07e8/0b/07/1982516532_0:108:3215:1916_640x0_80_0_0_1b90b6553229db200456be0ef0f73928.jpg\",\n",
       "                     \n",
       "                         \"thumbnail\": [\n",
       "                             \n",
       "                                 {\n",
       "                                     \"@type\": \"ImageObject\",\n",
       "                                     \"url\": \"https://cdnn21.img.ria.ru/images/07e8/0b/07/1982516532_0:108:3215:1916_640x0_80_0_0_1b90b6553229db200456be0ef0f73928.jpg\",\n",
       "                                     \"image\": \"https://cdnn21.img.ria.ru/images/07e8/0b/07/1982516532_0:108:3215:1916_640x0_80_0_0_1b90b6553229db200456be0ef0f73928.jpg\"\n",
       "                                 }\n",
       "                             ,\n",
       "                                 {\n",
       "                                     \"@type\": \"ImageObject\",\n",
       "                                     \"url\": \"https://cdnn21.img.ria.ru/images/07e8/0b/07/1982516532_400:0:3131:2048_640x0_80_0_0_f00760a9c40f3c20a530d71fdbd1e5c6.jpg\",\n",
       "                                     \"image\": \"https://cdnn21.img.ria.ru/images/07e8/0b/07/1982516532_400:0:3131:2048_640x0_80_0_0_f00760a9c40f3c20a530d71fdbd1e5c6.jpg\"\n",
       "                                 }\n",
       "                             ,\n",
       "                                 {\n",
       "                                     \"@type\": \"ImageObject\",\n",
       "                                     \"url\": \"https://cdnn21.img.ria.ru/images/07e8/0b/07/1982516532_741:0:2789:2048_640x0_80_0_0_30e28ba2233241fe18dc5bf550ede860.jpg\",\n",
       "                                     \"image\": \"https://cdnn21.img.ria.ru/images/07e8/0b/07/1982516532_741:0:2789:2048_640x0_80_0_0_30e28ba2233241fe18dc5bf550ede860.jpg\"\n",
       "                                 }\n",
       "                             \n",
       "                         ],\n",
       "                     \n",
       "                     \"width\": 640,\n",
       "                         \"height\": 360\n",
       "                 }\n",
       "             </script><script type=\"application/ld+json\">\n",
       "                 {\n",
       "                     \"@context\": \"http://schema.org\",\n",
       "                     \"@type\": \"ImageObject\",\n",
       "                     \"url\": \"https://cdnn21.img.ria.ru/images/07e8/0b/07/1982516532_0:108:3215:1916_1280x0_80_0_0_b2f55a56e7f46828f352af29f72bdf81.jpg\",\n",
       "                     \n",
       "                         \"thumbnail\": [\n",
       "                             \n",
       "                                 {\n",
       "                                     \"@type\": \"ImageObject\",\n",
       "                                     \"url\": \"https://cdnn21.img.ria.ru/images/07e8/0b/07/1982516532_0:108:3215:1916_1280x0_80_0_0_b2f55a56e7f46828f352af29f72bdf81.jpg\",\n",
       "                                     \"image\": \"https://cdnn21.img.ria.ru/images/07e8/0b/07/1982516532_0:108:3215:1916_1280x0_80_0_0_b2f55a56e7f46828f352af29f72bdf81.jpg\"\n",
       "                                 }\n",
       "                             ,\n",
       "                                 {\n",
       "                                     \"@type\": \"ImageObject\",\n",
       "                                     \"url\": \"https://cdnn21.img.ria.ru/images/07e8/0b/07/1982516532_400:0:3131:2048_1280x0_80_0_0_955a4105e9f90de8436a39bc9e8283b1.jpg\",\n",
       "                                     \"image\": \"https://cdnn21.img.ria.ru/images/07e8/0b/07/1982516532_400:0:3131:2048_1280x0_80_0_0_955a4105e9f90de8436a39bc9e8283b1.jpg\"\n",
       "                                 }\n",
       "                             ,\n",
       "                                 {\n",
       "                                     \"@type\": \"ImageObject\",\n",
       "                                     \"url\": \"https://cdnn21.img.ria.ru/images/07e8/0b/07/1982516532_741:0:2789:2048_1280x0_80_0_0_fdfc2393fa9a655e70d63b864828980b.jpg\",\n",
       "                                     \"image\": \"https://cdnn21.img.ria.ru/images/07e8/0b/07/1982516532_741:0:2789:2048_1280x0_80_0_0_fdfc2393fa9a655e70d63b864828980b.jpg\"\n",
       "                                 }\n",
       "                             \n",
       "                         ],\n",
       "                     \n",
       "                     \"width\": 1280,\n",
       "                         \"height\": 720\n",
       "                 }\n",
       "             </script><script type=\"application/ld+json\">\n",
       "                 {\n",
       "                     \"@context\": \"http://schema.org\",\n",
       "                     \"@type\": \"ImageObject\",\n",
       "                     \"url\": \"https://cdnn21.img.ria.ru/images/07e8/0b/07/1982516532_0:108:3215:1916_1920x0_80_0_0_a6439b8c2670b7c694f2753b901e1e66.jpg\",\n",
       "                     \n",
       "                         \"thumbnail\": [\n",
       "                             \n",
       "                                 {\n",
       "                                     \"@type\": \"ImageObject\",\n",
       "                                     \"url\": \"https://cdnn21.img.ria.ru/images/07e8/0b/07/1982516532_0:108:3215:1916_1920x0_80_0_0_a6439b8c2670b7c694f2753b901e1e66.jpg\",\n",
       "                                     \"image\": \"https://cdnn21.img.ria.ru/images/07e8/0b/07/1982516532_0:108:3215:1916_1920x0_80_0_0_a6439b8c2670b7c694f2753b901e1e66.jpg\"\n",
       "                                 }\n",
       "                             ,\n",
       "                                 {\n",
       "                                     \"@type\": \"ImageObject\",\n",
       "                                     \"url\": \"https://cdnn21.img.ria.ru/images/07e8/0b/07/1982516532_400:0:3131:2048_1920x0_80_0_0_d70e971cff75a6258bb8d453cae94ac6.jpg\",\n",
       "                                     \"image\": \"https://cdnn21.img.ria.ru/images/07e8/0b/07/1982516532_400:0:3131:2048_1920x0_80_0_0_d70e971cff75a6258bb8d453cae94ac6.jpg\"\n",
       "                                 }\n",
       "                             ,\n",
       "                                 {\n",
       "                                     \"@type\": \"ImageObject\",\n",
       "                                     \"url\": \"https://cdnn21.img.ria.ru/images/07e8/0b/07/1982516532_741:0:2789:2048_1920x0_80_0_0_ceafa31a833cd095110c8024bc9aa397.jpg\",\n",
       "                                     \"image\": \"https://cdnn21.img.ria.ru/images/07e8/0b/07/1982516532_741:0:2789:2048_1920x0_80_0_0_ceafa31a833cd095110c8024bc9aa397.jpg\"\n",
       "                                 }\n",
       "                             \n",
       "                         ],\n",
       "                     \n",
       "                     \"width\": 1920,\n",
       "                         \"height\": 1080\n",
       "                 }\n",
       "             </script></div><span class=\"article__article-desc\"><a class=\"article__article-title\" data-ab=\"a\" href=\"https://ria.ru/20241107/putin-1982456651.html?in=t\" inject-number=\"1\" inject-position=\"\">\"Буду говорить откровенно\". Путин раскрыл новое устройство мира</a><div class=\"article__article-info\" data-type=\"article\"><div class=\"article__block-date\">7 ноября, 23:42</div><span class=\"share\" data-id=\"1982456651\" data-nosnippet=\"true\" data-title='\"Буду говорить откровенно\". Путин раскрыл новое устройство мира' data-url=\"https://ria.ru/20241107/putin-1982456651.html\"></span></div></span><a class=\"article__article-link\" data-ab=\"a\" href=\"https://ria.ru/20241107/putin-1982456651.html?in=t\" inject-number=\"1\" inject-position=\"\"></a></div></div>,\n",
       " <div class=\"article__block\" data-type=\"text\"><div class=\"article__text\">В Основах госполитики указаны характеристики ядерного сдерживания и приведены условия перехода России к использованию ядерного оружия:</div></div>,\n",
       " <div class=\"article__block\" data-type=\"list\"><ul class=\"article__list m-circle\"><li class=\"article__list-item\"><div class=\"article__list-label\"></div>госполитика в области ядерного сдерживания носит оборонительный характер;</li><li class=\"article__list-item\"><div class=\"article__list-label\"></div>Россия рассматривает ядерное оружие как средство сдерживания, применение которого является крайней и вынужденной мерой;</li><li class=\"article__list-item\"><div class=\"article__list-label\"></div>сдерживание потенциального противника от агрессии против России и ее союзников относится к числу высших государственных приоритетов;</li><li class=\"article__list-item\"><div class=\"article__list-label\"></div>Россия может применить ядерное оружие в случае агрессии против себя или Белоруссии, если создается критическая угроза территориальной целостности;</li><li class=\"article__list-item\"><div class=\"article__list-label\"></div>агрессия любого государства из состава военной коалиции против России или ее союзников рассматривается как агрессия этой коалиции в целом;</li><li class=\"article__list-item\"><div class=\"article__list-label\"></div>агрессия против России или ее союзников со стороны неядерного государства при поддержке ядерного рассматривается как совместное нападение;</li><li class=\"article__list-item\"><div class=\"article__list-label\"></div>Россия оставляет за собой право применить ядерное оружие в ответ на использование против нее или союзников оружия массового поражения;</li><li class=\"article__list-item\"><div class=\"article__list-label\"></div>Россия осуществляет ядерное сдерживание против потенциального противника: государств, блоков и союзов, рассматривающих Россию как противника.</li></ul></div>,\n",
       " <div class=\"article__block\" data-article=\"main-photo\" data-id=\"1984557759\" data-nosnippet=\"true\" data-type=\"article\"><div class=\"article__article color-font-hover-only m-image\"><div class=\"article__article-image\"><img alt=\"Белоусов: Задачи, предусмотренные в ходе тренировки стратегических сил сдерживания, выполнены - РИА Новости, 1920, 29.10.2024\" class=\"lazyload\" data-crop-height=\"366\" data-crop-ratio=\"0.5625\" data-crop-width=\"650\" data-source-sid=\"mil_video\" data-srcset=\"https://cdnn21.img.ria.ru/images/07e8/0a/1d/1980753375_0:0:1920:1080_640x0_80_0_0_37d8570c45881a015ec03a3a55d79473.jpg 640w,https://cdnn21.img.ria.ru/images/07e8/0a/1d/1980753375_0:0:1920:1080_1280x0_80_0_0_14b5a6d0eb4afdeaa70ed62cebfeb924.jpg 1280w,https://cdnn21.img.ria.ru/images/07e8/0a/1d/1980753375_0:0:1920:1080_1920x0_80_0_0_9be402ce2cde2470e84c33baf043b4d6.jpg 1920w\" decoding=\"async\" height=\"1080\" media-type=\"ar16x9\" sizes=\"(max-width: 690px) calc(100vw - 40px), 200px\" src=\"https://cdnn21.img.ria.ru/images/07e8/0a/1d/1980753375_0:0:1920:1080_1920x1080_80_0_0_4beed5a0169540cc422f4a699952016a.jpg\" srcset=\"\n",
       "                         data:image/svg+xml,%3Csvg%20xmlns=%22http://www.w3.org/2000/svg%22%20width=%221920%22%20height=%221080%22%3E%3C/svg%3E 100w\n",
       "                     \" title=\"Белоусов: Задачи, предусмотренные в ходе тренировки стратегических сил сдерживания, выполнены\" width=\"1920\"/><script type=\"application/ld+json\">\n",
       "                 {\n",
       "                     \"@context\": \"http://schema.org\",\n",
       "                     \"@type\": \"ImageObject\",\n",
       "                     \"url\": \"https://cdnn21.img.ria.ru/images/07e8/0a/1d/1980753375_0:0:1920:1080_640x0_80_0_0_37d8570c45881a015ec03a3a55d79473.jpg\",\n",
       "                     \n",
       "                         \"thumbnail\": [\n",
       "                             \n",
       "                                 {\n",
       "                                     \"@type\": \"ImageObject\",\n",
       "                                     \"url\": \"https://cdnn21.img.ria.ru/images/07e8/0a/1d/1980753375_0:0:1920:1080_640x0_80_0_0_37d8570c45881a015ec03a3a55d79473.jpg\",\n",
       "                                     \"image\": \"https://cdnn21.img.ria.ru/images/07e8/0a/1d/1980753375_0:0:1920:1080_640x0_80_0_0_37d8570c45881a015ec03a3a55d79473.jpg\"\n",
       "                                 }\n",
       "                             ,\n",
       "                                 {\n",
       "                                     \"@type\": \"ImageObject\",\n",
       "                                     \"url\": \"https://cdnn21.img.ria.ru/images/07e8/0a/1d/1980753375_240:0:1680:1080_640x0_80_0_0_1abd9255a1d235f6d8674fc96e44188b.jpg\",\n",
       "                                     \"image\": \"https://cdnn21.img.ria.ru/images/07e8/0a/1d/1980753375_240:0:1680:1080_640x0_80_0_0_1abd9255a1d235f6d8674fc96e44188b.jpg\"\n",
       "                                 }\n",
       "                             ,\n",
       "                                 {\n",
       "                                     \"@type\": \"ImageObject\",\n",
       "                                     \"url\": \"https://cdnn21.img.ria.ru/images/07e8/0a/1d/1980753375_420:0:1500:1080_640x0_80_0_0_b4e1aa15db34a5af72e5f5f5791cdab1.jpg\",\n",
       "                                     \"image\": \"https://cdnn21.img.ria.ru/images/07e8/0a/1d/1980753375_420:0:1500:1080_640x0_80_0_0_b4e1aa15db34a5af72e5f5f5791cdab1.jpg\"\n",
       "                                 }\n",
       "                             \n",
       "                         ],\n",
       "                     \n",
       "                     \"width\": 640,\n",
       "                         \"height\": 360\n",
       "                 }\n",
       "             </script><script type=\"application/ld+json\">\n",
       "                 {\n",
       "                     \"@context\": \"http://schema.org\",\n",
       "                     \"@type\": \"ImageObject\",\n",
       "                     \"url\": \"https://cdnn21.img.ria.ru/images/07e8/0a/1d/1980753375_0:0:1920:1080_1280x0_80_0_0_14b5a6d0eb4afdeaa70ed62cebfeb924.jpg\",\n",
       "                     \n",
       "                         \"thumbnail\": [\n",
       "                             \n",
       "                                 {\n",
       "                                     \"@type\": \"ImageObject\",\n",
       "                                     \"url\": \"https://cdnn21.img.ria.ru/images/07e8/0a/1d/1980753375_0:0:1920:1080_1280x0_80_0_0_14b5a6d0eb4afdeaa70ed62cebfeb924.jpg\",\n",
       "                                     \"image\": \"https://cdnn21.img.ria.ru/images/07e8/0a/1d/1980753375_0:0:1920:1080_1280x0_80_0_0_14b5a6d0eb4afdeaa70ed62cebfeb924.jpg\"\n",
       "                                 }\n",
       "                             ,\n",
       "                                 {\n",
       "                                     \"@type\": \"ImageObject\",\n",
       "                                     \"url\": \"https://cdnn21.img.ria.ru/images/07e8/0a/1d/1980753375_240:0:1680:1080_1280x0_80_0_0_09b4d53d8cbdb626f1b1ad86efff38e4.jpg\",\n",
       "                                     \"image\": \"https://cdnn21.img.ria.ru/images/07e8/0a/1d/1980753375_240:0:1680:1080_1280x0_80_0_0_09b4d53d8cbdb626f1b1ad86efff38e4.jpg\"\n",
       "                                 }\n",
       "                             ,\n",
       "                                 {\n",
       "                                     \"@type\": \"ImageObject\",\n",
       "                                     \"url\": \"https://cdnn21.img.ria.ru/images/07e8/0a/1d/1980753375_420:0:1500:1080_1280x0_80_0_0_e101388a06fe15738246c2a43415acdb.jpg\",\n",
       "                                     \"image\": \"https://cdnn21.img.ria.ru/images/07e8/0a/1d/1980753375_420:0:1500:1080_1280x0_80_0_0_e101388a06fe15738246c2a43415acdb.jpg\"\n",
       "                                 }\n",
       "                             \n",
       "                         ],\n",
       "                     \n",
       "                     \"width\": 1280,\n",
       "                         \"height\": 720\n",
       "                 }\n",
       "             </script><script type=\"application/ld+json\">\n",
       "                 {\n",
       "                     \"@context\": \"http://schema.org\",\n",
       "                     \"@type\": \"ImageObject\",\n",
       "                     \"url\": \"https://cdnn21.img.ria.ru/images/07e8/0a/1d/1980753375_0:0:1920:1080_1920x0_80_0_0_9be402ce2cde2470e84c33baf043b4d6.jpg\",\n",
       "                     \n",
       "                         \"thumbnail\": [\n",
       "                             \n",
       "                                 {\n",
       "                                     \"@type\": \"ImageObject\",\n",
       "                                     \"url\": \"https://cdnn21.img.ria.ru/images/07e8/0a/1d/1980753375_0:0:1920:1080_1920x0_80_0_0_9be402ce2cde2470e84c33baf043b4d6.jpg\",\n",
       "                                     \"image\": \"https://cdnn21.img.ria.ru/images/07e8/0a/1d/1980753375_0:0:1920:1080_1920x0_80_0_0_9be402ce2cde2470e84c33baf043b4d6.jpg\"\n",
       "                                 }\n",
       "                             ,\n",
       "                                 {\n",
       "                                     \"@type\": \"ImageObject\",\n",
       "                                     \"url\": \"https://cdnn21.img.ria.ru/images/07e8/0a/1d/1980753375_240:0:1680:1080_1920x0_80_0_0_764965d804d727c29b94adabd8a5e798.jpg\",\n",
       "                                     \"image\": \"https://cdnn21.img.ria.ru/images/07e8/0a/1d/1980753375_240:0:1680:1080_1920x0_80_0_0_764965d804d727c29b94adabd8a5e798.jpg\"\n",
       "                                 }\n",
       "                             ,\n",
       "                                 {\n",
       "                                     \"@type\": \"ImageObject\",\n",
       "                                     \"url\": \"https://cdnn21.img.ria.ru/images/07e8/0a/1d/1980753375_420:0:1500:1080_1920x0_80_0_0_6bdce255dada41d152e46ae105bcfd6a.jpg\",\n",
       "                                     \"image\": \"https://cdnn21.img.ria.ru/images/07e8/0a/1d/1980753375_420:0:1500:1080_1920x0_80_0_0_6bdce255dada41d152e46ae105bcfd6a.jpg\"\n",
       "                                 }\n",
       "                             \n",
       "                         ],\n",
       "                     \n",
       "                     \"width\": 1920,\n",
       "                         \"height\": 1080\n",
       "                 }\n",
       "             </script></div><span class=\"article__article-desc\"><a class=\"article__article-title\" data-ab=\"a\" href=\"https://ria.ru/20241029/udar-1980752662.html?in=t\" inject-number=\"2\" inject-position=\"\">Белоусов доложил Путину об отработке массированного ядерного удара</a><div class=\"article__article-info\" data-type=\"article\"><div class=\"article__block-date\">29 октября, 17:10</div><span class=\"share\" data-id=\"1980752662\" data-nosnippet=\"true\" data-title=\"Белоусов доложил Путину об отработке массированного ядерного удара\" data-url=\"https://ria.ru/20241029/udar-1980752662.html\"></span></div></span><a class=\"article__article-link\" data-ab=\"a\" href=\"https://ria.ru/20241029/udar-1980752662.html?in=t\" inject-number=\"2\" inject-position=\"\"></a></div></div>,\n",
       " <div class=\"article__block\" data-type=\"text\"><div class=\"article__text\">Также в документе раскрывается суть ядерного сдерживания: </div></div>,\n",
       " <div class=\"article__block\" data-type=\"list\"><ul class=\"article__list m-circle\"><li class=\"article__list-item\"><div class=\"article__list-label\"></div>госполитика по ядерному сдерживанию направлена на поддержание потенциала ядерных сил на достаточном для ядерного сдерживания уровне;</li><li class=\"article__list-item\"><div class=\"article__list-label\"></div>неопределенность для потенциального противника масштаба и места применения ядерных сил отнесено к принципам ядерного сдерживания;</li><li class=\"article__list-item\"><div class=\"article__list-label\"></div>ядерное сдерживание направлено на обеспечение понимания потенциальным противником неотвратимости возмездия в случае агрессии против России;</li><li class=\"article__list-item\"><div class=\"article__list-label\"></div>госполитика в области ядерного сдерживания при военном конфликте гарантирует прекращение военных действий на приемлемых для России условиях;</li><li class=\"article__list-item\"><div class=\"article__list-label\"></div>поддержание постоянной готовности выделенной части сил ядерного сдерживания к применению отнесено к принципам ядерного сдерживания России.</li><li class=\"article__list-item\"><div class=\"article__list-label\"></div>Россия предпринимает все необходимые усилия для уменьшения ядерной угрозы;</li><li class=\"article__list-item\"><div class=\"article__list-label\"></div>размещение в космосе противником средств ПРО является опасностью, для нейтрализации которой осуществляется ядерное сдерживание;</li><li class=\"article__list-item\"><div class=\"article__list-label\"></div>централизация управления ядерными силами, которые в том числе находятся за пределами территории России, отнесена к принципам ядерного сдерживания;</li><li class=\"article__list-item\"><div class=\"article__list-label\"></div>ядерное сдерживание обеспечивается наличием у Вооруженных сил России сил и средств, способных ядерным оружием нанести неприемлемый ущерб противнику.</li></ul></div>,\n",
       " <div class=\"article__block\" data-type=\"text\"><div class=\"article__text\">Обновить Основы госполитики Путин предложил 25 сентября на совещании Совета безопасности по ядерному сдерживанию.</div></div>,\n",
       " <div class=\"article__block\" data-article=\"main-photo\" data-id=\"1984555645\" data-nosnippet=\"true\" data-type=\"article\"><div class=\"article__article color-font-hover-only m-image\"><div class=\"article__article-image\"><img alt=\"Кандидат в президенты от республиканской партии, бывший президент США Дональд Трамп во время выступления в Уэст-Палм-Бич, штат Флорида - РИА Новости, 1920, 07.11.2024\" class=\"lazyload\" data-crop-height=\"366\" data-crop-ratio=\"0.5625\" data-crop-width=\"650\" data-source-sid=\"ap_photo\" data-srcset=\"https://cdnn21.img.ria.ru/images/07e8/0b/06/1982137791_0:0:3068:1727_640x0_80_0_0_c9444594ddd45edf0d24755c1a2fc904.jpg 640w,https://cdnn21.img.ria.ru/images/07e8/0b/06/1982137791_0:0:3068:1727_1280x0_80_0_0_18878f05d4972edf0993a974cbd5be0a.jpg 1280w,https://cdnn21.img.ria.ru/images/07e8/0b/06/1982137791_0:0:3068:1727_1920x0_80_0_0_60e148c1ecbcbe06660eb1940be6d2f3.jpg 1920w\" decoding=\"async\" height=\"1080\" media-type=\"ar16x9\" sizes=\"(max-width: 690px) calc(100vw - 40px), 200px\" src=\"https://cdnn21.img.ria.ru/images/07e8/0b/06/1982137791_0:0:3068:1727_1920x1080_80_0_0_ff3ae8fc08458be36ce5d6e7120b4b22.jpg\" srcset=\"\n",
       "                         data:image/svg+xml,%3Csvg%20xmlns=%22http://www.w3.org/2000/svg%22%20width=%221920%22%20height=%221080%22%3E%3C/svg%3E 100w\n",
       "                     \" title=\"Кандидат в президенты от республиканской партии, бывший президент США Дональд Трамп во время выступления в Уэст-Палм-Бич, штат Флорида\" width=\"1920\"/><script type=\"application/ld+json\">\n",
       "                 {\n",
       "                     \"@context\": \"http://schema.org\",\n",
       "                     \"@type\": \"ImageObject\",\n",
       "                     \"url\": \"https://cdnn21.img.ria.ru/images/07e8/0b/06/1982137791_0:0:3068:1727_640x0_80_0_0_c9444594ddd45edf0d24755c1a2fc904.jpg\",\n",
       "                     \n",
       "                         \"thumbnail\": [\n",
       "                             \n",
       "                                 {\n",
       "                                     \"@type\": \"ImageObject\",\n",
       "                                     \"url\": \"https://cdnn21.img.ria.ru/images/07e8/0b/06/1982137791_0:0:3068:1727_640x0_80_0_0_c9444594ddd45edf0d24755c1a2fc904.jpg\",\n",
       "                                     \"image\": \"https://cdnn21.img.ria.ru/images/07e8/0b/06/1982137791_0:0:3068:1727_640x0_80_0_0_c9444594ddd45edf0d24755c1a2fc904.jpg\"\n",
       "                                 }\n",
       "                             ,\n",
       "                                 {\n",
       "                                     \"@type\": \"ImageObject\",\n",
       "                                     \"url\": \"https://cdnn21.img.ria.ru/images/07e8/0b/06/1982137791_174:0:2905:2048_640x0_80_0_0_0b08d294ed92a106022f06f3c9fbc784.jpg\",\n",
       "                                     \"image\": \"https://cdnn21.img.ria.ru/images/07e8/0b/06/1982137791_174:0:2905:2048_640x0_80_0_0_0b08d294ed92a106022f06f3c9fbc784.jpg\"\n",
       "                                 }\n",
       "                             ,\n",
       "                                 {\n",
       "                                     \"@type\": \"ImageObject\",\n",
       "                                     \"url\": \"https://cdnn21.img.ria.ru/images/07e8/0b/06/1982137791_515:0:2563:2048_640x0_80_0_0_90453e45e9a764d585efadf09c8001b8.jpg\",\n",
       "                                     \"image\": \"https://cdnn21.img.ria.ru/images/07e8/0b/06/1982137791_515:0:2563:2048_640x0_80_0_0_90453e45e9a764d585efadf09c8001b8.jpg\"\n",
       "                                 }\n",
       "                             \n",
       "                         ],\n",
       "                     \n",
       "                     \"width\": 640,\n",
       "                         \"height\": 360\n",
       "                 }\n",
       "             </script><script type=\"application/ld+json\">\n",
       "                 {\n",
       "                     \"@context\": \"http://schema.org\",\n",
       "                     \"@type\": \"ImageObject\",\n",
       "                     \"url\": \"https://cdnn21.img.ria.ru/images/07e8/0b/06/1982137791_0:0:3068:1727_1280x0_80_0_0_18878f05d4972edf0993a974cbd5be0a.jpg\",\n",
       "                     \n",
       "                         \"thumbnail\": [\n",
       "                             \n",
       "                                 {\n",
       "                                     \"@type\": \"ImageObject\",\n",
       "                                     \"url\": \"https://cdnn21.img.ria.ru/images/07e8/0b/06/1982137791_0:0:3068:1727_1280x0_80_0_0_18878f05d4972edf0993a974cbd5be0a.jpg\",\n",
       "                                     \"image\": \"https://cdnn21.img.ria.ru/images/07e8/0b/06/1982137791_0:0:3068:1727_1280x0_80_0_0_18878f05d4972edf0993a974cbd5be0a.jpg\"\n",
       "                                 }\n",
       "                             ,\n",
       "                                 {\n",
       "                                     \"@type\": \"ImageObject\",\n",
       "                                     \"url\": \"https://cdnn21.img.ria.ru/images/07e8/0b/06/1982137791_174:0:2905:2048_1280x0_80_0_0_f3c2ff29480a7f16397c1c513ec01ea1.jpg\",\n",
       "                                     \"image\": \"https://cdnn21.img.ria.ru/images/07e8/0b/06/1982137791_174:0:2905:2048_1280x0_80_0_0_f3c2ff29480a7f16397c1c513ec01ea1.jpg\"\n",
       "                                 }\n",
       "                             ,\n",
       "                                 {\n",
       "                                     \"@type\": \"ImageObject\",\n",
       "                                     \"url\": \"https://cdnn21.img.ria.ru/images/07e8/0b/06/1982137791_515:0:2563:2048_1280x0_80_0_0_860b20262aa591f02c3974935533b0a9.jpg\",\n",
       "                                     \"image\": \"https://cdnn21.img.ria.ru/images/07e8/0b/06/1982137791_515:0:2563:2048_1280x0_80_0_0_860b20262aa591f02c3974935533b0a9.jpg\"\n",
       "                                 }\n",
       "                             \n",
       "                         ],\n",
       "                     \n",
       "                     \"width\": 1280,\n",
       "                         \"height\": 720\n",
       "                 }\n",
       "             </script><script type=\"application/ld+json\">\n",
       "                 {\n",
       "                     \"@context\": \"http://schema.org\",\n",
       "                     \"@type\": \"ImageObject\",\n",
       "                     \"url\": \"https://cdnn21.img.ria.ru/images/07e8/0b/06/1982137791_0:0:3068:1727_1920x0_80_0_0_60e148c1ecbcbe06660eb1940be6d2f3.jpg\",\n",
       "                     \n",
       "                         \"thumbnail\": [\n",
       "                             \n",
       "                                 {\n",
       "                                     \"@type\": \"ImageObject\",\n",
       "                                     \"url\": \"https://cdnn21.img.ria.ru/images/07e8/0b/06/1982137791_0:0:3068:1727_1920x0_80_0_0_60e148c1ecbcbe06660eb1940be6d2f3.jpg\",\n",
       "                                     \"image\": \"https://cdnn21.img.ria.ru/images/07e8/0b/06/1982137791_0:0:3068:1727_1920x0_80_0_0_60e148c1ecbcbe06660eb1940be6d2f3.jpg\"\n",
       "                                 }\n",
       "                             ,\n",
       "                                 {\n",
       "                                     \"@type\": \"ImageObject\",\n",
       "                                     \"url\": \"https://cdnn21.img.ria.ru/images/07e8/0b/06/1982137791_174:0:2905:2048_1920x0_80_0_0_85411f83dfecaa0706d85ad11b9bcb5f.jpg\",\n",
       "                                     \"image\": \"https://cdnn21.img.ria.ru/images/07e8/0b/06/1982137791_174:0:2905:2048_1920x0_80_0_0_85411f83dfecaa0706d85ad11b9bcb5f.jpg\"\n",
       "                                 }\n",
       "                             ,\n",
       "                                 {\n",
       "                                     \"@type\": \"ImageObject\",\n",
       "                                     \"url\": \"https://cdnn21.img.ria.ru/images/07e8/0b/06/1982137791_515:0:2563:2048_1920x0_80_0_0_000b8974a495981cb70033c5b6367a55.jpg\",\n",
       "                                     \"image\": \"https://cdnn21.img.ria.ru/images/07e8/0b/06/1982137791_515:0:2563:2048_1920x0_80_0_0_000b8974a495981cb70033c5b6367a55.jpg\"\n",
       "                                 }\n",
       "                             \n",
       "                         ],\n",
       "                     \n",
       "                     \"width\": 1920,\n",
       "                         \"height\": 1080\n",
       "                 }\n",
       "             </script></div><span class=\"article__article-desc\"><a class=\"article__article-title\" data-ab=\"a\" href=\"https://ria.ru/20241107/tramp-1982335853.html?in=t\" inject-number=\"3\" inject-position=\"\">Эксперт исключил ядерную войну при Трампе</a><div class=\"article__article-info\" data-type=\"article\"><div class=\"article__block-date\">7 ноября, 03:18</div><span class=\"share\" data-id=\"1982335853\" data-nosnippet=\"true\" data-title=\"Эксперт исключил ядерную войну при Трампе\" data-url=\"https://ria.ru/20241107/tramp-1982335853.html\"></span></div></span><a class=\"article__article-link\" data-ab=\"a\" href=\"https://ria.ru/20241107/tramp-1982335853.html?in=t\" inject-number=\"3\" inject-position=\"\"></a></div></div>]"
      ]
     },
     "execution_count": 138,
     "metadata": {},
     "output_type": "execute_result"
    }
   ],
   "source": [
    "soup.find_all(class_ = 'article__block')"
   ]
  },
  {
   "cell_type": "code",
   "execution_count": null,
   "metadata": {
    "id": "ssJeMXlg_hUf"
   },
   "outputs": [],
   "source": [
    "text = ''\n",
    "for block in soup.find_all(class_ = 'article__block'):\n",
    "  if block.find('div', class_=\"article__article\"):\n",
    "    pass\n",
    "  else:\n",
    "    text = ''.join([text, block.get_text()])"
   ]
  },
  {
   "cell_type": "code",
   "execution_count": null,
   "metadata": {
    "colab": {
     "base_uri": "https://localhost:8080/",
     "height": 157
    },
    "id": "RNz-CJ6vNSfh",
    "outputId": "878e62dd-c13c-468b-c41f-7e1c1431f86f"
   },
   "outputs": [
    {
     "data": {
      "application/vnd.google.colaboratory.intrinsic+json": {
       "type": "string"
      },
      "text/plain": [
       "'МОСКВА, 19 ноя — РИА Новости. Владимир Путин утвердил Основы государственной политики в области ядерного сдерживания, президентский указ и текст самого документа разместили на сайте официального опубликования правовых актов.«\"Гарантированное сдерживание потенциального противника от агрессии против Российской Федерации и (или) ее союзников относится к числу высших государственных приоритетов. Сдерживание агрессии обеспечивается всей совокупностью военной мощи Российской Федерации, включая ядерное оружие\", — говорится в документе.В Основах госполитики указаны характеристики ядерного сдерживания и приведены условия перехода России к использованию ядерного оружия:госполитика в области ядерного сдерживания носит оборонительный характер;Россия рассматривает ядерное оружие как средство сдерживания, применение которого является крайней и вынужденной мерой;сдерживание потенциального противника от агрессии против России и ее союзников относится к числу высших государственных приоритетов;Россия может применить ядерное оружие в случае агрессии против себя или Белоруссии, если создается критическая угроза территориальной целостности;агрессия любого государства из состава военной коалиции против России или ее союзников рассматривается как агрессия этой коалиции в целом;агрессия против России или ее союзников со стороны неядерного государства при поддержке ядерного рассматривается как совместное нападение;Россия оставляет за собой право применить ядерное оружие в ответ на использование против нее или союзников оружия массового поражения;Россия осуществляет ядерное сдерживание против потенциального противника: государств, блоков и союзов, рассматривающих Россию как противника.Также в документе раскрывается суть ядерного сдерживания: госполитика по ядерному сдерживанию направлена на поддержание потенциала ядерных сил на достаточном для ядерного сдерживания уровне;неопределенность для потенциального противника масштаба и места применения ядерных сил отнесено к принципам ядерного сдерживания;ядерное сдерживание направлено на обеспечение понимания потенциальным противником неотвратимости возмездия в случае агрессии против России;госполитика в области ядерного сдерживания при военном конфликте гарантирует прекращение военных действий на приемлемых для России условиях;поддержание постоянной готовности выделенной части сил ядерного сдерживания к применению отнесено к принципам ядерного сдерживания России.Россия предпринимает все необходимые усилия для уменьшения ядерной угрозы;размещение в космосе противником средств ПРО является опасностью, для нейтрализации которой осуществляется ядерное сдерживание;централизация управления ядерными силами, которые в том числе находятся за пределами территории России, отнесена к принципам ядерного сдерживания;ядерное сдерживание обеспечивается наличием у Вооруженных сил России сил и средств, способных ядерным оружием нанести неприемлемый ущерб противнику.Обновить Основы госполитики Путин предложил 25 сентября на совещании Совета безопасности по ядерному сдерживанию.'"
      ]
     },
     "execution_count": 154,
     "metadata": {},
     "output_type": "execute_result"
    }
   ],
   "source": [
    "text\n"
   ]
  },
  {
   "cell_type": "markdown",
   "metadata": {
    "id": "GYI3dAkwONZa"
   },
   "source": [
    "# Анализ настроения новости"
   ]
  },
  {
   "cell_type": "code",
   "execution_count": 3,
   "metadata": {},
   "outputs": [
    {
     "name": "stdout",
     "output_type": "stream",
     "text": [
      "Collecting dostoevskyNote: you may need to restart the kernel to use updated packages.\n"
     ]
    },
    {
     "name": "stderr",
     "output_type": "stream",
     "text": [
      "  error: subprocess-exited-with-error\n",
      "  \n",
      "  python setup.py bdist_wheel did not run successfully.\n",
      "  exit code: 1\n",
      "  \n",
      "  [75 lines of output]\n",
      "  C:\\Anaconda\\Lib\\site-packages\\setuptools\\dist.py:745: SetuptoolsDeprecationWarning: Invalid dash-separated options\n",
      "  !!\n",
      "  \n",
      "          ********************************************************************************\n",
      "          Usage of dash-separated 'description-file' will not be supported in future\n",
      "          versions. Please use the underscore name 'description_file' instead.\n",
      "  \n",
      "          This deprecation is overdue, please update your project and remove deprecated\n",
      "          calls to avoid build errors in the future.\n",
      "  \n",
      "          See https://setuptools.pypa.io/en/latest/userguide/declarative_config.html for details.\n",
      "          ********************************************************************************\n",
      "  \n",
      "  !!\n",
      "    opt = self.warn_dash_deprecation(opt, section)\n",
      "  running bdist_wheel\n",
      "  running build\n",
      "  running build_py\n",
      "  creating build\n",
      "  creating build\\lib.win-amd64-cpython-311\n",
      "  creating build\\lib.win-amd64-cpython-311\\fasttext\n",
      "  copying python\\fasttext_module\\fasttext\\FastText.py -> build\\lib.win-amd64-cpython-311\\fasttext\n",
      "  copying python\\fasttext_module\\fasttext\\__init__.py -> build\\lib.win-amd64-cpython-311\\fasttext\n",
      "  creating build\\lib.win-amd64-cpython-311\\fasttext\\util\n",
      "  copying python\\fasttext_module\\fasttext\\util\\util.py -> build\\lib.win-amd64-cpython-311\\fasttext\\util\n",
      "  copying python\\fasttext_module\\fasttext\\util\\__init__.py -> build\\lib.win-amd64-cpython-311\\fasttext\\util\n",
      "  creating build\\lib.win-amd64-cpython-311\\fasttext\\tests\n",
      "  copying python\\fasttext_module\\fasttext\\tests\\test_configurations.py -> build\\lib.win-amd64-cpython-311\\fasttext\\tests\n",
      "  copying python\\fasttext_module\\fasttext\\tests\\test_script.py -> build\\lib.win-amd64-cpython-311\\fasttext\\tests\n",
      "  copying python\\fasttext_module\\fasttext\\tests\\__init__.py -> build\\lib.win-amd64-cpython-311\\fasttext\\tests\n",
      "  running build_ext\n",
      "  building 'fasttext_pybind' extension\n",
      "  creating build\\temp.win-amd64-cpython-311\n",
      "  creating build\\temp.win-amd64-cpython-311\\Release\n",
      "  creating build\\temp.win-amd64-cpython-311\\Release\\python\n",
      "  creating build\\temp.win-amd64-cpython-311\\Release\\python\\fasttext_module\n",
      "  creating build\\temp.win-amd64-cpython-311\\Release\\python\\fasttext_module\\fasttext\n",
      "  creating build\\temp.win-amd64-cpython-311\\Release\\python\\fasttext_module\\fasttext\\pybind\n",
      "  creating build\\temp.win-amd64-cpython-311\\Release\\src\n",
      "  \"C:\\Program Files (x86)\\Microsoft Visual Studio\\2022\\BuildTools\\VC\\Tools\\MSVC\\14.42.34433\\bin\\HostX86\\x64\\cl.exe\" /c /nologo /O2 /W3 /GL /DNDEBUG /MD -IC:\\Anaconda\\Lib\\site-packages\\pybind11\\include -IC:\\Anaconda\\Lib\\site-packages\\pybind11\\include -Isrc -IC:\\Anaconda\\include -IC:\\Anaconda\\Include \"-IC:\\Program Files (x86)\\Microsoft Visual Studio\\2022\\BuildTools\\VC\\Tools\\MSVC\\14.42.34433\\include\" \"-IC:\\Program Files (x86)\\Microsoft Visual Studio\\2022\\BuildTools\\VC\\Auxiliary\\VS\\include\" \"-IC:\\Program Files (x86)\\Windows Kits\\10\\include\\10.0.22621.0\\ucrt\" \"-IC:\\Program Files (x86)\\Windows Kits\\10\\\\include\\10.0.22621.0\\\\um\" \"-IC:\\Program Files (x86)\\Windows Kits\\10\\\\include\\10.0.22621.0\\\\shared\" \"-IC:\\Program Files (x86)\\Windows Kits\\10\\\\include\\10.0.22621.0\\\\winrt\" \"-IC:\\Program Files (x86)\\Windows Kits\\10\\\\include\\10.0.22621.0\\\\cppwinrt\" \"-IC:\\Program Files (x86)\\Windows Kits\\NETFXSDK\\4.8\\include\\um\" /EHsc /Tppython/fasttext_module/fasttext/pybind/fasttext_pybind.cc /Fobuild\\temp.win-amd64-cpython-311\\Release\\python/fasttext_module/fasttext/pybind/fasttext_pybind.obj /EHsc /DVERSION_INFO=\\\\\\\"0.9.2\\\\\\\"\n",
      "  fasttext_pybind.cc\n",
      "  python/fasttext_module/fasttext/pybind/fasttext_pybind.cc(171): error C2065: ssize_t: необъявленный идентификатор\n",
      "  python/fasttext_module/fasttext/pybind/fasttext_pybind.cc(171): error C2672: \"pybind11::init\": не найдена соответствующая перегруженная функция\n",
      "  C:\\Anaconda\\Lib\\site-packages\\pybind11\\include\\pybind11\\pybind11.h(1978): note: может быть \"Ret pybind11::init(CFunc &&,AFunc &&)\"\n",
      "  python/fasttext_module/fasttext/pybind/fasttext_pybind.cc(171): note: \"pybind11::init\": недопустимый аргумент шаблон для \"CFunc\", ожидается тип\n",
      "  C:\\Anaconda\\Lib\\site-packages\\pybind11\\include\\pybind11\\pybind11.h(1970): note: или       \"Ret pybind11::init(Func &&)\"\n",
      "  python/fasttext_module/fasttext/pybind/fasttext_pybind.cc(171): note: \"pybind11::init\": недопустимый аргумент шаблон для \"Func\", ожидается тип\n",
      "  C:\\Anaconda\\Lib\\site-packages\\pybind11\\include\\pybind11\\pybind11.h(1958): note: или       \"pybind11::detail::initimpl::constructor<Args...> pybind11::init(void)\"\n",
      "  python/fasttext_module/fasttext/pybind/fasttext_pybind.cc(171): note: \"pybind11::init\": недопустимый аргумент шаблон для \"Args\", ожидается тип\n",
      "  python/fasttext_module/fasttext/pybind/fasttext_pybind.cc(171): error C2672: \"pybind11::class_<fasttext::Vector>::def\": не найдена соответствующая перегруженная функция\n",
      "  C:\\Anaconda\\Lib\\site-packages\\pybind11\\include\\pybind11\\pybind11.h(1677): note: может быть \"pybind11::class_<fasttext::Vector> &pybind11::class_<fasttext::Vector>::def(pybind11::detail::initimpl::pickle_factory<Args...> &&,const Extra ...)\"\n",
      "  C:\\Anaconda\\Lib\\site-packages\\pybind11\\include\\pybind11\\pybind11.h(1671): note: или       \"pybind11::class_<fasttext::Vector> &pybind11::class_<fasttext::Vector>::def(pybind11::detail::initimpl::factory<Args...> &&,const Extra ...)\"\n",
      "  C:\\Anaconda\\Lib\\site-packages\\pybind11\\include\\pybind11\\pybind11.h(1664): note: или       \"pybind11::class_<fasttext::Vector> &pybind11::class_<fasttext::Vector>::def(const pybind11::detail::initimpl::alias_constructor<Args...> &,const Extra ...)\"\n",
      "  C:\\Anaconda\\Lib\\site-packages\\pybind11\\include\\pybind11\\pybind11.h(1657): note: или       \"pybind11::class_<fasttext::Vector> &pybind11::class_<fasttext::Vector>::def(const pybind11::detail::initimpl::constructor<Args...> &,const Extra ...)\"\n",
      "  C:\\Anaconda\\Lib\\site-packages\\pybind11\\include\\pybind11\\pybind11.h(1645): note: или       \"pybind11::class_<fasttext::Vector> &pybind11::class_<fasttext::Vector>::def(const T &,const Extra ...)\"\n",
      "  C:\\Anaconda\\Lib\\site-packages\\pybind11\\include\\pybind11\\pybind11.h(1620): note: или       \"pybind11::class_<fasttext::Vector> &pybind11::class_<fasttext::Vector>::def(const char *,Func &&,const Extra ...)\"\n",
      "  python/fasttext_module/fasttext/pybind/fasttext_pybind.cc(171): note: \"pybind11::class_<fasttext::Vector> &pybind11::class_<fasttext::Vector>::def(const char *,Func &&,const Extra ...)\": ожидаются аргументы 3 — 1 предоставлены\n",
      "  python/fasttext_module/fasttext/pybind/fasttext_pybind.cc(185): error C2065: ssize_t: необъявленный идентификатор\n",
      "  python/fasttext_module/fasttext/pybind/fasttext_pybind.cc(185): error C2065: ssize_t: необъявленный идентификатор\n",
      "  python/fasttext_module/fasttext/pybind/fasttext_pybind.cc(185): error C2672: \"pybind11::init\": не найдена соответствующая перегруженная функция\n",
      "  C:\\Anaconda\\Lib\\site-packages\\pybind11\\include\\pybind11\\pybind11.h(1978): note: может быть \"Ret pybind11::init(CFunc &&,AFunc &&)\"\n",
      "  python/fasttext_module/fasttext/pybind/fasttext_pybind.cc(185): note: \"pybind11::init\": недопустимый аргумент шаблон для \"CFunc\", ожидается тип\n",
      "  C:\\Anaconda\\Lib\\site-packages\\pybind11\\include\\pybind11\\pybind11.h(1970): note: или       \"Ret pybind11::init(Func &&)\"\n",
      "  python/fasttext_module/fasttext/pybind/fasttext_pybind.cc(185): note: \"pybind11::init\": недопустимый аргумент шаблон для \"Func\", ожидается тип\n",
      "  C:\\Anaconda\\Lib\\site-packages\\pybind11\\include\\pybind11\\pybind11.h(1958): note: или       \"pybind11::detail::initimpl::constructor<Args...> pybind11::init(void)\"\n",
      "  python/fasttext_module/fasttext/pybind/fasttext_pybind.cc(185): note: \"pybind11::init\": недопустимый аргумент шаблон для \"Args\", ожидается тип\n",
      "  python/fasttext_module/fasttext/pybind/fasttext_pybind.cc(185): error C2672: \"pybind11::class_<fasttext::DenseMatrix>::def\": не найдена соответствующая перегруженная функция\n",
      "  C:\\Anaconda\\Lib\\site-packages\\pybind11\\include\\pybind11\\pybind11.h(1677): note: может быть \"pybind11::class_<fasttext::DenseMatrix> &pybind11::class_<fasttext::DenseMatrix>::def(pybind11::detail::initimpl::pickle_factory<Args...> &&,const Extra ...)\"\n",
      "  C:\\Anaconda\\Lib\\site-packages\\pybind11\\include\\pybind11\\pybind11.h(1671): note: или       \"pybind11::class_<fasttext::DenseMatrix> &pybind11::class_<fasttext::DenseMatrix>::def(pybind11::detail::initimpl::factory<Args...> &&,const Extra ...)\"\n",
      "  C:\\Anaconda\\Lib\\site-packages\\pybind11\\include\\pybind11\\pybind11.h(1664): note: или       \"pybind11::class_<fasttext::DenseMatrix> &pybind11::class_<fasttext::DenseMatrix>::def(const pybind11::detail::initimpl::alias_constructor<Args...> &,const Extra ...)\"\n",
      "  C:\\Anaconda\\Lib\\site-packages\\pybind11\\include\\pybind11\\pybind11.h(1657): note: или       \"pybind11::class_<fasttext::DenseMatrix> &pybind11::class_<fasttext::DenseMatrix>::def(const pybind11::detail::initimpl::constructor<Args...> &,const Extra ...)\"\n",
      "  C:\\Anaconda\\Lib\\site-packages\\pybind11\\include\\pybind11\\pybind11.h(1645): note: или       \"pybind11::class_<fasttext::DenseMatrix> &pybind11::class_<fasttext::DenseMatrix>::def(const T &,const Extra ...)\"\n",
      "  C:\\Anaconda\\Lib\\site-packages\\pybind11\\include\\pybind11\\pybind11.h(1620): note: или       \"pybind11::class_<fasttext::DenseMatrix> &pybind11::class_<fasttext::DenseMatrix>::def(const char *,Func &&,const Extra ...)\"\n",
      "  python/fasttext_module/fasttext/pybind/fasttext_pybind.cc(185): note: \"pybind11::class_<fasttext::DenseMatrix> &pybind11::class_<fasttext::DenseMatrix>::def(const char *,Func &&,const Extra ...)\": ожидаются аргументы 3 — 1 предоставлены\n",
      "  error: command 'C:\\\\Program Files (x86)\\\\Microsoft Visual Studio\\\\2022\\\\BuildTools\\\\VC\\\\Tools\\\\MSVC\\\\14.42.34433\\\\bin\\\\HostX86\\\\x64\\\\cl.exe' failed with exit code 2\n",
      "  [end of output]\n",
      "  \n",
      "  note: This error originates from a subprocess, and is likely not a problem with pip.\n",
      "  ERROR: Failed building wheel for fasttext\n",
      "ERROR: ERROR: Failed to build installable wheels for some pyproject.toml based projects (fasttext)\n"
     ]
    },
    {
     "name": "stdout",
     "output_type": "stream",
     "text": [
      "\n",
      "  Using cached dostoevsky-0.6.0-py2.py3-none-any.whl.metadata (3.4 kB)\n",
      "Collecting fasttext==0.9.2 (from dostoevsky)\n",
      "  Using cached fasttext-0.9.2.tar.gz (68 kB)\n",
      "  Preparing metadata (setup.py): started\n",
      "  Preparing metadata (setup.py): finished with status 'done'\n",
      "Collecting razdel==0.5.0 (from dostoevsky)\n",
      "  Using cached razdel-0.5.0-py3-none-any.whl.metadata (10.0 kB)\n",
      "Requirement already satisfied: pybind11>=2.2 in c:\\anaconda\\lib\\site-packages (from fasttext==0.9.2->dostoevsky) (2.13.6)\n",
      "Requirement already satisfied: setuptools>=0.7.0 in c:\\anaconda\\lib\\site-packages (from fasttext==0.9.2->dostoevsky) (68.0.0)\n",
      "Requirement already satisfied: numpy in c:\\anaconda\\lib\\site-packages (from fasttext==0.9.2->dostoevsky) (2.0.2)\n",
      "Using cached dostoevsky-0.6.0-py2.py3-none-any.whl (8.5 kB)\n",
      "Using cached razdel-0.5.0-py3-none-any.whl (21 kB)\n",
      "Building wheels for collected packages: fasttext\n",
      "  Building wheel for fasttext (setup.py): started\n",
      "  Building wheel for fasttext (setup.py): finished with status 'error'\n",
      "  Running setup.py clean for fasttext\n",
      "Failed to build fasttext\n"
     ]
    }
   ],
   "source": [
    "pip install dostoevsky"
   ]
  },
  {
   "cell_type": "code",
   "execution_count": 1,
   "metadata": {
    "id": "dcfRdEqbP7X6"
   },
   "outputs": [
    {
     "ename": "ModuleNotFoundError",
     "evalue": "No module named 'dostoevsky'",
     "output_type": "error",
     "traceback": [
      "\u001b[1;31m---------------------------------------------------------------------------\u001b[0m",
      "\u001b[1;31mModuleNotFoundError\u001b[0m                       Traceback (most recent call last)",
      "Cell \u001b[1;32mIn[1], line 1\u001b[0m\n\u001b[1;32m----> 1\u001b[0m \u001b[38;5;28;01mfrom\u001b[39;00m \u001b[38;5;21;01mdostoevsky\u001b[39;00m\u001b[38;5;21;01m.\u001b[39;00m\u001b[38;5;21;01mtokenization\u001b[39;00m \u001b[38;5;28;01mimport\u001b[39;00m RegexTokenizer\n\u001b[0;32m      2\u001b[0m \u001b[38;5;28;01mfrom\u001b[39;00m \u001b[38;5;21;01mdostoevsky\u001b[39;00m\u001b[38;5;21;01m.\u001b[39;00m\u001b[38;5;21;01mmodels\u001b[39;00m \u001b[38;5;28;01mimport\u001b[39;00m FastTextSocialNetworkModel\n\u001b[0;32m      4\u001b[0m tokenizer \u001b[38;5;241m=\u001b[39m RegexTokenizer()\n",
      "\u001b[1;31mModuleNotFoundError\u001b[0m: No module named 'dostoevsky'"
     ]
    }
   ],
   "source": [
    "from dostoevsky.tokenization import RegexTokenizer\n",
    "from dostoevsky.models import FastTextSocialNetworkModel\n",
    "\n",
    "tokenizer = RegexTokenizer()\n",
    "tokens = tokenizer.split('всё очень плохо')"
   ]
  },
  {
   "cell_type": "code",
   "execution_count": null,
   "metadata": {
    "colab": {
     "base_uri": "https://localhost:8080/"
    },
    "id": "Vue7W9VUQDqu",
    "outputId": "915d79ef-f30b-461b-ebd9-43fbdbd588c3"
   },
   "outputs": [
    {
     "data": {
      "text/plain": [
       "[('всё', None), ('очень', None), ('плохо', None)]"
      ]
     },
     "execution_count": 163,
     "metadata": {},
     "output_type": "execute_result"
    }
   ],
   "source": [
    "tokens"
   ]
  },
  {
   "cell_type": "code",
   "execution_count": null,
   "metadata": {
    "colab": {
     "base_uri": "https://localhost:8080/",
     "height": 106
    },
    "id": "GAtHRSVvS6Q0",
    "outputId": "6406f436-22f3-4bea-84df-e19924930385"
   },
   "outputs": [
    {
     "ename": "SyntaxError",
     "evalue": "invalid syntax (<ipython-input-180-fffd322b2ddc>, line 1)",
     "output_type": "error",
     "traceback": [
      "\u001b[0;36m  File \u001b[0;32m\"<ipython-input-180-fffd322b2ddc>\"\u001b[0;36m, line \u001b[0;32m1\u001b[0m\n\u001b[0;31m    python -m dostoevsky download fasttext-social-network-model\u001b[0m\n\u001b[0m              ^\u001b[0m\n\u001b[0;31mSyntaxError\u001b[0m\u001b[0;31m:\u001b[0m invalid syntax\n"
     ]
    }
   ],
   "source": [
    "python -m dostoevsky download fasttext-social-network-model"
   ]
  },
  {
   "cell_type": "code",
   "execution_count": null,
   "metadata": {
    "id": "vnWZxRwdS6Oc"
   },
   "outputs": [],
   "source": []
  },
  {
   "cell_type": "code",
   "execution_count": null,
   "metadata": {
    "id": "Bg936O_uS6MM"
   },
   "outputs": [],
   "source": []
  },
  {
   "cell_type": "markdown",
   "metadata": {
    "id": "GTMhU4CpOJdf"
   },
   "source": [
    "# Парсим множество новостей сразу"
   ]
  },
  {
   "cell_type": "code",
   "execution_count": null,
   "metadata": {
    "id": "UN1jPWNd_Us9"
   },
   "outputs": [],
   "source": [
    "url = \"https://ria.ru/\""
   ]
  },
  {
   "cell_type": "code",
   "execution_count": null,
   "metadata": {
    "id": "MRLa7809_Uqp"
   },
   "outputs": [],
   "source": [
    "page = requests.get(url)"
   ]
  },
  {
   "cell_type": "code",
   "execution_count": null,
   "metadata": {
    "id": "5euf2IEf_UoF"
   },
   "outputs": [],
   "source": [
    "print(page.status_code)"
   ]
  },
  {
   "cell_type": "code",
   "execution_count": null,
   "metadata": {
    "id": "LbLKImi7_UlX"
   },
   "outputs": [],
   "source": [
    "soup = BeautifulSoup(page.text, \"html.parser\")"
   ]
  },
  {
   "cell_type": "code",
   "execution_count": null,
   "metadata": {
    "colab": {
     "base_uri": "https://localhost:8080/"
    },
    "id": "lXs7o4da8yxq",
    "outputId": "72e1d037-6e3f-43f7-e6a2-450dfeda7d4d"
   },
   "outputs": [
    {
     "data": {
      "text/plain": [
       "[<a href=\"https://ria.ru\" itemprop=\"url\"> </a>,\n",
       " <a href=\"https://ria.ru/\" itemprop=\"url\"> </a>,\n",
       " <a href=\"https://ria.ru/\" itemprop=\"url\"> </a>,\n",
       " <a href=\"https://ru.wikipedia.org/wiki/%D0%A0%D0%98%D0%90_%D0%9D%D0%BE%D0%B2%D0%BE%D1%81%D1%82%D0%B8\" itemprop=\"sameAs\"> </a>,\n",
       " <a href=\"https://twitter.com/rianru\" itemprop=\"sameAs\"> </a>,\n",
       " <a href=\"https://vk.com/ria\" itemprop=\"sameAs\"> </a>,\n",
       " <a href=\"https://ok.ru/ria\" itemprop=\"sameAs\"> </a>,\n",
       " <a href=\"https://www.youtube.com/user/rianovosti\" itemprop=\"sameAs\"> </a>,\n",
       " <a href=\"https://flipboard.com/@rianovosti\" itemprop=\"sameAs\"> </a>,\n",
       " <a href=\"https://zen.yandex.ru/ria\" itemprop=\"sameAs\"> </a>,\n",
       " <a href=\"https://twitter.com/riabreakingnews\" itemprop=\"sameAs\"> </a>,\n",
       " <a href=\"https://invite.viber.com/?g2=AQAOuCQJzow8L0hQtsB3j3zzc7YMKEHijsslO3ZsCFmFcZGSed0OTOa0ruAXXZn6&amp;lang=ru\" itemprop=\"sameAs\"> </a>,\n",
       " <a href=\"https://tgclick.com/rian_ru\" itemprop=\"sameAs\"> </a>,\n",
       " <a href=\"https://yandex.ru/maps/org/rossiya_segodnya/1061985604/?ll=37.590466%2C55.737481&amp;z=14\" itemprop=\"sameAs\"> </a>,\n",
       " <a href=\"https://www.google.com/maps/place/%D0%A0%D0%98%D0%90+%D0%9D%D0%BE%D0%B2%D0%BE%D1%81%D1%82%D0%B8/@55.7374019,37.5881028,17z/data=!3m1!4b1!4m5!3m4!1s0x46b54ba5ecf15a7f:0x2b9d63d783e6e919!8m2!3d55.7374019!4d37.5902915\" itemprop=\"sameAs\"> </a>,\n",
       " <a href=\"https://news.google.com/publications/CAAqBwgKMNu67AEwn6QS?hl=ru&amp;gl=RU&amp;ceid=RU:ru\" itemprop=\"sameAs\"> </a>,\n",
       " <a href=\"https://cdnn21.img.ria.ru/i/schema_org/ria_logo.png\" itemprop=\"url\"> </a>,\n",
       " <a href=\"https://cdnn21.img.ria.ru/i/schema_org/ria_logo.png\" itemprop=\"contentUrl\"> </a>,\n",
       " <a href=\"https://cdnn21.img.ria.ru/i/schema_org/ria_logo.png\" itemprop=\"url\"> </a>,\n",
       " <a href=\"https://cdnn21.img.ria.ru/i/schema_org/ria_logo.png\" itemprop=\"contentUrl\"> </a>,\n",
       " <a class=\"m-link-home m-project-recipe\" href=\"https://ria.ru/recipe/\" title=\"Рецепты\"></a>,\n",
       " <a class=\"m-link-home m-realty\" href=\"https://realty.ria.ru/\" title=\"Главная страница сайта realty\"></a>,\n",
       " <a class=\"m-link-home m-rsport\" href=\"https://rsport.ria.ru/\" title=\"Главная страница сайта rsport\"></a>,\n",
       " <a class=\"m-link-home m-ria\" href=\"https://ria.ru/\" title=\"Главная страница сайта ria\"></a>,\n",
       " <a class=\"m-link-ria m-project-recipe m-realty m-rsport\" href=\"https://ria.ru/\" title=\"Главная страница сайта ria\"></a>,\n",
       " <a class=\"header__menu-button header__menu-login\" data-modal-open=\"authorization\"><span class=\"header__menu-icon color-svg-hover-only\" data-auth=\"1\"><svg class=\"svg-icon\"><use xlink:href=\"#header_icon-user_filled\" xmlns:xlink=\"http://www.w3.org/1999/xlink\"></use></svg></span><span class=\"header__menu-icon color-svg-hover-only\" data-auth=\"0\"><svg class=\"svg-icon\"><use xlink:href=\"#header_icon-user\" xmlns:xlink=\"http://www.w3.org/1999/xlink\"></use></svg></span></a>,\n",
       " <a class=\"header__menu-button header__menu-search\" data-modal-open=\"search\"><span class=\"header__menu-icon color-svg-hover-only\"><svg class=\"svg-icon\"><use xlink:href=\"#header_icon-search\" xmlns:xlink=\"http://www.w3.org/1999/xlink\"></use></svg></span></a>,\n",
       " <a class=\"header__menu-button header__menu-chat js__toggle-chat\"><span class=\"header__menu-icon color-svg-hover-only\"><svg class=\"svg-icon\"><use xlink:href=\"#header_icon-chat\" xmlns:xlink=\"http://www.w3.org/1999/xlink\"></use></svg></span></a>,\n",
       " <a class=\"cell-extension__item-link color-font-hover-only\" data-semaphore=\"1\" href=\"/politics/\"><span class=\"cell-extension__item-title\">Политика</span></a>,\n",
       " <a class=\"cell-extension__item-link color-font-hover-only\" data-semaphore=\"1\" href=\"/world/\"><span class=\"cell-extension__item-title\">В мире</span></a>,\n",
       " <a class=\"cell-extension__item-link color-font-hover-only\" data-semaphore=\"1\" href=\"/economy/\"><span class=\"cell-extension__item-title\">Экономика</span></a>,\n",
       " <a class=\"cell-extension__item-link color-font-hover-only\" data-semaphore=\"1\" href=\"/society/\"><span class=\"cell-extension__item-title\">Общество</span></a>,\n",
       " <a class=\"cell-extension__item-link color-font-hover-only\" data-semaphore=\"1\" href=\"/incidents/\"><span class=\"cell-extension__item-title\">Происшествия</span></a>,\n",
       " <a class=\"cell-extension__item-link color-font-hover-only\" data-semaphore=\"1\" href=\"/defense_safety/\"><span class=\"cell-extension__item-title\">Армия</span></a>,\n",
       " <a class=\"cell-extension__item-link color-font-hover-only\" data-semaphore=\"1\" href=\"/science/\"><span class=\"cell-extension__item-title\">Наука</span></a>,\n",
       " <a class=\"cell-extension__item-link color-font-hover-only\" data-semaphore=\"1\" href=\"/culture/\"><span class=\"cell-extension__item-title\">Культура</span></a>,\n",
       " <a class=\"cell-extension__item-link color-font-hover-only\" data-semaphore=\"1\" href=\"https://rsport.ria.ru/\"><span class=\"cell-extension__item-title\">Спорт</span></a>,\n",
       " <a class=\"cell-extension__item-link color-font-hover-only\" data-semaphore=\"1\" href=\"/tourism/\"><span class=\"cell-extension__item-title\">Туризм</span></a>,\n",
       " <a class=\"cell-extension__item-link color-font-hover-only\" data-semaphore=\"1\" href=\"/religion/\"><span class=\"cell-extension__item-title\">Религия</span></a>,\n",
       " <a class=\"cell-main-photo__link\" href=\"https://ria.ru/20241119/sderzhivanie-1984545626.html\"></a>,\n",
       " <a class=\"cell-list__item-link color-font-hover-only\" data-semaphore=\"1\" href=\"https://ria.ru/20241119/abkhaziya-1984544402.html\" title=\"В Сухуме протестующие покинули правительственный комплекс\"><span class=\"cell-list__item-title\">В Сухуме протестующие покинули правительственный комплекс</span><div class=\"cell-list__item-info\"><div class=\"cell-info__date\">11:08</div></div></a>,\n",
       " <a class=\"cell-list__item-link color-font-hover-only\" data-semaphore=\"1\" href=\"https://ria.ru/20241119/novoselidovka-1984573026.html\" title=\"Российские военные освободили Новоселидовку в ДНР\"><span class=\"cell-list__item-title\">Российские военные освободили Новоселидовку в ДНР</span><div class=\"cell-list__item-info\"><div class=\"cell-info__date\">12:32</div></div></a>,\n",
       " <a class=\"cell-list__item-link color-font-hover-only\" data-semaphore=\"1\" href=\"https://ria.ru/20241119/podryv-1984526330.html\" title=\"ФСБ задержала подозреваемых в подрыве машины военного в Севастополе\"><span class=\"cell-list__item-title\">ФСБ задержала подозреваемых в подрыве машины военного в Севастополе<span class=\"cell-type__icon m-video\"><span class=\"cell-type__icon-bg color-svg\"><svg class=\"svg-icon\"><use xlink:href=\"#icon-play\" xmlns:xlink=\"http://www.w3.org/1999/xlink\"></use></svg></span></span></span><div class=\"cell-list__item-info\"><div class=\"cell-info__date\">09:47</div></div></a>,\n",
       " <a class=\"cell-list__item-link color-font-hover-only\" data-semaphore=\"1\" href=\"https://ria.ru/20241119/kriptomayning-1984534891.html\" title=\"В нескольких российских регионах ограничат криптомайнинг\"><span class=\"cell-list__item-title\">В нескольких российских регионах ограничат криптомайнинг</span><div class=\"cell-list__item-info\"><div class=\"cell-info__date\">10:26</div></div></a>,\n",
       " <a class=\"cell-list__item-link color-font-hover-only\" data-semaphore=\"1\" href=\"https://ria.ru/20241119/khischenie-1984569346.html\" title='Врио гендиректора АО \"Военторг-Центр\" обвинили в хищении более миллиона рублей'><span class=\"cell-list__item-title\">Врио гендиректора АО \"Военторг-Центр\" обвинили в хищении более миллиона рублей</span><div class=\"cell-list__item-info\"><div class=\"cell-info__date\">12:17</div></div></a>,\n",
       " <a class=\"cell-list__item-link color-font-hover-only\" data-semaphore=\"1\" href=\"https://ria.ru/20241119/bayden-1984497626.html\" title=\"Захарова прокомментировала отсутствие Байдена на общем фото лидеров G20\"><span class=\"cell-list__item-title\">Захарова прокомментировала отсутствие Байдена на общем фото лидеров G20</span><div class=\"cell-list__item-info\"><div class=\"cell-info__date\">03:19</div></div></a>,\n",
       " <a class=\"cell-list__item-link color-font-hover-only\" data-semaphore=\"1\" href=\"https://ria.ru/20241119/ubezhische-1984501752.html\" title=\"Россия начала серийный выпуск мобильных убежищ от ядерного взрыва\"><span class=\"cell-list__item-title\">Россия начала серийный выпуск мобильных убежищ от ядерного взрыва</span><div class=\"cell-list__item-info\"><div class=\"cell-info__date\">04:37</div></div></a>,\n",
       " <a class=\"cell-list__item-link color-font-hover-only\" data-semaphore=\"1\" href=\"https://ria.ru/20241119/bayden-1984502139.html\" title='\"Грандиозный конец\": в сенате США выступили с предупреждением Байдену '><span class=\"cell-list__item-title\">\"Грандиозный конец\": в сенате США выступили с предупреждением Байдену </span><div class=\"cell-list__item-info\"><div class=\"cell-info__date\">04:55</div></div></a>,\n",
       " <a class=\"cell-list__item-link color-font-hover-only\" data-semaphore=\"1\" href=\"https://ria.ru/20241119/atacms-1984492805.html\" title='\"Пару дней назад\". В США заметили странную деталь в решении по ATACMS'><span class=\"cell-list__item-title\">\"Пару дней назад\". В США заметили странную деталь в решении по ATACMS</span><div class=\"cell-list__item-info\"><div class=\"cell-info__date\">02:00</div></div></a>,\n",
       " <a class=\"cell-list__item-link color-font-hover-only\" data-semaphore=\"1\" href=\"https://ria.ru/20241119/kabeli-1984502648.html\" title=\"Швеция сообщила о втором поврежденном в Балтийском море кабеле связи\"><span class=\"cell-list__item-title\">Швеция сообщила о втором поврежденном в Балтийском море кабеле связи</span><div class=\"cell-list__item-info\"><div class=\"cell-info__date\">04:50</div></div></a>,\n",
       " <a class=\"color-font-hover-only\" href=\"/author_krutikov_evgeniy/\"><span class=\"cell-author__author-image\"><img alt=\"Евгений Крутиков\" class=\"\" data-crop-height=\"100\" data-crop-ratio=\"1\" data-crop-width=\"100\" data-source-sid=\"\" media-type=\"ar1x1\" src=\"https://cdnn21.img.ria.ru/images/07e8/0b/13/1984515955_191:0:868:677_100x100_80_0_0_c57e69bc2177cfae3b338acc59c5ef85.jpg\" title=\"Евгений Крутиков\"/></span><span class=\"cell-author__author-info\"><span class=\"cell-author__author-clamp\"><b class=\"cell-author__author-title\">Евгений Крутиков</b></span></span></a>,\n",
       " <a class=\"cell-author__item-link color-font-hover-only\" href=\"https://ria.ru/20241119/trump-1984411783.html\"></a>,\n",
       " <a class=\"color-font-hover-only\" href=\"/author_Akopov_Petr/\"><span class=\"cell-author__author-image\"><img alt=\"Петр Акопов\" class=\"\" data-crop-height=\"100\" data-crop-ratio=\"1\" data-crop-width=\"100\" data-source-sid=\"\" media-type=\"ar1x1\" src=\"https://cdnn21.img.ria.ru/images/07e4/04/0d/1569984858_0:130:960:1090_100x100_80_0_0_07fd8ba5bb0166d714951356c555373e.jpg\" title=\"Петр Акопов\"/></span><span class=\"cell-author__author-info\"><span class=\"cell-author__author-clamp\"><b class=\"cell-author__author-title\">Петр Акопов</b></span></span></a>,\n",
       " <a class=\"cell-author__item-link color-font-hover-only\" href=\"https://ria.ru/20241119/abkhaziya-1984451158.html\"></a>,\n",
       " <a class=\"color-font-hover-only\" href=\"/author_Yakovenko_Aleksandr_Vladimirovich/\"><span class=\"cell-author__author-image\"><img alt=\"Посол РФ в Великобритании Александр Яковенко во время пресс-конференции в Лондоне. 13 апреля 2018\" class=\"\" data-crop-height=\"100\" data-crop-ratio=\"1\" data-crop-width=\"100\" data-source-sid=\"rian_photo\" media-type=\"ar1x1\" src=\"https://cdnn21.img.ria.ru/images/151860/21/1518602178_608:0:2656:2048_100x100_80_0_0_ff0127921b752311e17877b40bc7f717.jpg\" title=\"Посол РФ в Великобритании Александр Яковенко во время пресс-конференции в Лондоне. 13 апреля 2018\"/></span><span class=\"cell-author__author-info\"><span class=\"cell-author__author-clamp\"><b class=\"cell-author__author-title\">Александр Яковенко</b></span></span></a>,\n",
       " <a class=\"cell-author__item-link color-font-hover-only\" href=\"https://ria.ru/20241119/ssha-1984423295.html\"></a>,\n",
       " <a class=\"cell-extension__item-link color-font-hover-only\" data-semaphore=\"1\" href=\"/longread/\"><span class=\"cell-extension__item-title\">Специальный репортаж</span></a>,\n",
       " <a class=\"cell-extension__item-link color-font-hover-only\" data-semaphore=\"1\" href=\"/authors/\"><span class=\"cell-extension__item-title\">Аналитика</span></a>,\n",
       " <a class=\"cell-extension__item-link color-font-hover-only\" data-semaphore=\"1\" href=\"/photolents/\"><span class=\"cell-extension__item-title\">Фото</span></a>,\n",
       " <a class=\"cell-extension__item-link color-font-hover-only\" data-semaphore=\"1\" href=\"/video/\"><span class=\"cell-extension__item-title\">Видео</span></a>,\n",
       " <a class=\"cell-extension__item-link color-font-hover-only\" data-semaphore=\"1\" href=\"/infografika/\"><span class=\"cell-extension__item-title\">Инфографика</span></a>,\n",
       " <a class=\"cell-extension__item-link color-font-hover-only\" data-semaphore=\"1\" href=\"/polls/\"><span class=\"cell-extension__item-title\">Опросы</span></a>,\n",
       " <a class=\"cell-extension__item-link color-font-hover-only\" data-semaphore=\"1\" href=\"/podcast/\"><span class=\"cell-extension__item-title\">Подкасты</span></a>,\n",
       " <a class=\"cell-extension__item-link color-font-hover-only\" data-semaphore=\"1\" href=\"/nadezhnye-lyudi/\"><span class=\"cell-extension__item-title\">Надежные люди</span></a>,\n",
       " <a class=\"cell-extension__item-link color-font-hover-only\" data-semaphore=\"1\" href=\"/victorina/\"><span class=\"cell-extension__item-title\">Тесты</span></a>,\n",
       " <a class=\"cell-main-photo__link\" href=\"https://ria.ru/20241119/uran-1984461736.html\"></a>,\n",
       " <a class=\"cell-list__item-link color-font-hover-only\" data-semaphore=\"1\" href=\"https://ria.ru/20241119/rossija-1984566024.html\" title='\"Россия сегодня\" призвала ЮНЕСКО не замалчивать нарушения прав журналистов'><span class=\"cell-list__item-title\">\"Россия сегодня\" призвала ЮНЕСКО не замалчивать нарушения прав журналистов</span><div class=\"cell-list__item-info\"><div class=\"cell-info__date\">12:05</div></div></a>,\n",
       " <a class=\"cell-list__item-link color-font-hover-only\" data-semaphore=\"1\" href=\"https://ria.ru/20241119/levkin-1984570091.html\" title=\"В Москве началась церемония прощания с Владимиром Левкиным\"><span class=\"cell-list__item-title\">В Москве началась церемония прощания с Владимиром Левкиным</span><div class=\"cell-list__item-info\"><div class=\"cell-info__date\">12:20</div></div></a>,\n",
       " <a class=\"cell-main-photo__link\" href=\"https://ria.ru/20241119/sanktsii-1984387731.html\"></a>,\n",
       " <a class=\"cell-list__item-link color-font-hover-only\" data-semaphore=\"1\" href=\"https://ria.ru/20241119/nenavist-1984531970.html\" title='\"Она не позволит\". На Западе признали неудобную правду об Украине'><span class=\"cell-list__item-title\">\"Она не позволит\". На Западе признали неудобную правду об Украине</span><div class=\"cell-list__item-info\"><div class=\"cell-info__date\">10:15</div></div></a>,\n",
       " <a class=\"cell-list__item-link color-font-hover-only\" data-semaphore=\"1\" href=\"https://ria.ru/20241119/bloomberg-1984538845.html\" title=\"Bloomberg: Макрон пожал Лаврову руку на саммите G20\"><span class=\"cell-list__item-title\">Bloomberg: Макрон пожал Лаврову руку на саммите G20</span><div class=\"cell-list__item-info\"><div class=\"cell-info__date\">10:48</div></div></a>,\n",
       " <a class=\"cell-main-photo__link\" href=\"https://ria.ru/20241119/trump-1984027652.html\"></a>,\n",
       " <a class=\"cell-list__item-link color-font-hover-only\" data-semaphore=\"1\" href=\"https://ria.ru/20241119/konflikt-1984534581.html\" title='\"Уничтожит мир\". В США запаниковали из-за решения Байдена по России'><span class=\"cell-list__item-title\">\"Уничтожит мир\". В США запаниковали из-за решения Байдена по России</span><div class=\"cell-list__item-info\"><div class=\"cell-info__date\">10:26</div></div></a>,\n",
       " <a class=\"cell-list__item-link color-font-hover-only\" data-semaphore=\"1\" href=\"https://ria.ru/20241119/turtsiya-1984569796.html\" title=\"Источник: живущая в стамбульском аэропорту украинка хочет попасть в Россию\"><span class=\"cell-list__item-title\">Источник: живущая в стамбульском аэропорту украинка хочет попасть в Россию</span><div class=\"cell-list__item-info\"><div class=\"cell-info__date\">12:33</div></div></a>,\n",
       " <a class=\"cell-list__item-link color-font-hover-only\" data-semaphore=\"1\" href=\"https://ria.ru/20241119/rossija-1984515528.html\" title=\"Россия нарастила экспорт в Индию\"><span class=\"cell-list__item-title\">Россия нарастила экспорт в Индию</span><div class=\"cell-list__item-info\"><div class=\"cell-info__date\">08:19</div></div></a>,\n",
       " <a class=\"cell-list__item-link color-font-hover-only\" data-semaphore=\"1\" href=\"https://ria.ru/20241119/politik-1984525820.html\" title='Французский политик пришел в ужас из-за \"невыносимых\" кадров с Украины'><span class=\"cell-list__item-title\">Французский политик пришел в ужас из-за \"невыносимых\" кадров с Украины</span><div class=\"cell-list__item-info\"><div class=\"cell-info__date\">09:42</div></div></a>,\n",
       " <a class=\"cell-list__item-link color-font-hover-only\" data-semaphore=\"1\" href=\"https://ria.ru/20241119/oon-1984564002.html?rcmd_alg=slotter\" title='В ООН прокомментировали убийство главреда \"Народной газеты\"'><span class=\"cell-list__item-title\">В ООН прокомментировали убийство главреда \"Народной газеты\"</span><div class=\"cell-list__item-info\"><div class=\"cell-info__date\">11:56</div></div></a>,\n",
       " <a class=\"cell-list__item-link color-font-hover-only\" data-semaphore=\"1\" href=\"https://ria.ru/20241119/putin-1984564864.html?rcmd_alg=slotter\" title=\"Военные учения у российских границ названы основной опасностью для страны\"><span class=\"cell-list__item-title\">Военные учения у российских границ названы основной опасностью для страны</span><div class=\"cell-list__item-info\"><div class=\"cell-info__date\">11:59</div></div></a>,\n",
       " <a class=\"cell-list__item-link color-font-hover-only\" data-semaphore=\"1\" href=\"https://ria.ru/20241119/sallivan-1984525482.html?rcmd_alg=slotter\" title=\"Салливан отказался признать участие США в конфликте на Украине\"><span class=\"cell-list__item-title\">Салливан отказался признать участие США в конфликте на Украине</span><div class=\"cell-list__item-info\"><div class=\"cell-info__date\">09:39</div></div></a>,\n",
       " <a class=\"cell-list__item-link color-font-hover-only\" data-semaphore=\"1\" href=\"https://ria.ru/20241119/ssha-1984577467.html?rcmd_alg=slotter\" title=\"Эксперт объяснил, зачем Байден решил обострить ситуацию на Украине\"><span class=\"cell-list__item-title\">Эксперт объяснил, зачем Байден решил обострить ситуацию на Украине</span><div class=\"cell-list__item-info\"><div class=\"cell-info__date\">12:52</div></div></a>,\n",
       " <a class=\"cell-list__item-link color-font-hover-only\" data-semaphore=\"1\" href=\"https://ria.ru/20241119/stavka-1984581815.html?rcmd_alg=slotter\" title=\"Набиуллина рассказала, когда начнется снижение ключевой ставки\"><span class=\"cell-list__item-title\">Набиуллина рассказала, когда начнется снижение ключевой ставки</span><div class=\"cell-list__item-info\"><span class=\"cell-info__supplemented color-font\">дополняется ...</span></div></a>,\n",
       " <a class=\"cell-media-cover__link color-font-hover-only\" data-semaphore=\"1\" href=\"https://ria.ru/20230712/himars-1859080424.html\"><div class=\"cell-media-cover__bg\"><picture><source media=\"(min-width: 925px)\" media-type=\"ar1x1\" srcset=\"https://cdnn21.img.ria.ru/images/07e8/0b/12/1984423162_281:0:1001:720_480x0_80_0_0_728e2391781da16140519b9a13b063cb.png\"/><source media=\"(min-width: 768px)\" media-type=\"ar16x4\" srcset=\"https://cdnn21.img.ria.ru/images/07e8/0b/12/1984423162_0:200:1280:520_925x0_80_0_0_a4b3a2ba5e1c4d3cb91f240b9a8311f9.png\"/><source media=\"(min-width: 640px)\" media-type=\"ar16x9\" srcset=\"https://cdnn21.img.ria.ru/images/07e8/0b/12/1984423162_0:0:1280:720_768x0_80_0_0_5359f4975acede07da2daca6e42e3e1e.png\"/><source media=\"(min-width: 480px)\" media-type=\"ar4x3\" srcset=\"https://cdnn21.img.ria.ru/images/07e8/0b/12/1984423162_161:0:1121:720_640x0_80_0_0_89c30d495cc06e4b9719343ff7e53704.png\"/><source media=\"(min-width: 0px)\" media-type=\"ar1x1\" srcset=\"https://cdnn21.img.ria.ru/images/07e8/0b/12/1984423162_281:0:1001:720_480x0_80_0_0_728e2391781da16140519b9a13b063cb.png\"/><img alt=\"Куда могут долететь ракеты большой дальности GMLRS, ATACMS и Storm Shadow\" class=\"responsive_img\" data-crop-height=\"366\" data-crop-ratio=\"0.5625\" data-crop-width=\"650\" data-responsive0=\"https://cdnn21.img.ria.ru/images/07e8/0b/12/1984423162_281:0:1001:720_480x0_80_0_0_728e2391781da16140519b9a13b063cb.png\" data-responsive480=\"https://cdnn21.img.ria.ru/images/07e8/0b/12/1984423162_161:0:1121:720_640x0_80_0_0_89c30d495cc06e4b9719343ff7e53704.png\" data-responsive640=\"https://cdnn21.img.ria.ru/images/07e8/0b/12/1984423162_0:0:1280:720_768x0_80_0_0_5359f4975acede07da2daca6e42e3e1e.png\" data-responsive768=\"https://cdnn21.img.ria.ru/images/07e8/0b/12/1984423162_0:200:1280:520_925x0_80_0_0_a4b3a2ba5e1c4d3cb91f240b9a8311f9.png\" data-responsive925=\"https://cdnn21.img.ria.ru/images/07e8/0b/12/1984423162_281:0:1001:720_480x0_80_0_0_728e2391781da16140519b9a13b063cb.png\" data-source-sid=\"rian_infographics\" media-type=\"ar16x9\" src=\"https://cdnn21.img.ria.ru/images/07e8/0b/12/1984423162_0:0:0:0_0x0_100_0_0_30bd0e534759a20aaa330ae5b840a3ca.png\" title=\"Куда могут долететь ракеты большой дальности GMLRS, ATACMS и Storm Shadow\"/></picture></div><div class=\"cell__title\"><span class=\"cell__title-text\">Инфографика</span></div><div class=\"cell-media-cover__info\"><div class=\"cell-info__date\">12 июля 2023, 12:19</div></div><span class=\"cell-media-cover__desc\"><span class=\"cell-media-cover__title\">Куда могут долететь ракеты большой дальности GMLRS, ATACMS и Storm Shadow</span></span><span class=\"cell-media-cover__nav-button color-btn\">Посмотреть</span></a>,\n",
       " <a class=\"cell-media-cover__link color-font-hover-only\" data-semaphore=\"1\" href=\"https://ria.ru/20220622/spetsoperatsiya-1795199102.html\"><div class=\"cell-media-cover__bg\"><picture><source media=\"(min-width: 925px)\" media-type=\"ar1x1\" srcset=\"https://cdnn21.img.ria.ru/images/07e6/06/16/1797374881_315:0:1125:810_480x0_80_0_0_f2a1112a004551b8e9ce856cdaca8767.png\"/><source media=\"(min-width: 768px)\" media-type=\"ar16x4\" srcset=\"https://cdnn21.img.ria.ru/images/07e6/06/16/1797374881_0:225:1440:585_925x0_80_0_0_a7db3bc2921a46c6c2d1aceaf3cce10a.png\"/><source media=\"(min-width: 640px)\" media-type=\"ar16x9\" srcset=\"https://cdnn21.img.ria.ru/images/07e6/06/16/1797374881_0:0:1440:810_768x0_80_0_0_c8082bfa2b81311f7c09181f23cc00a8.png\"/><source media=\"(min-width: 480px)\" media-type=\"ar4x3\" srcset=\"https://cdnn21.img.ria.ru/images/07e6/06/16/1797374881_180:0:1260:810_640x0_80_0_0_857c1f7c4ab5053eedda10ad31c8fa0b.png\"/><source media=\"(min-width: 0px)\" media-type=\"ar1x1\" srcset=\"https://cdnn21.img.ria.ru/images/07e6/06/16/1797374881_315:0:1125:810_480x0_80_0_0_f2a1112a004551b8e9ce856cdaca8767.png\"/><img alt=\"Интерактивная карта спецоперации Вооруженных сил России на Украине\" class=\"responsive_img\" data-crop-height=\"366\" data-crop-ratio=\"0.5625\" data-crop-width=\"650\" data-responsive0=\"https://cdnn21.img.ria.ru/images/07e6/06/16/1797374881_315:0:1125:810_480x0_80_0_0_f2a1112a004551b8e9ce856cdaca8767.png\" data-responsive480=\"https://cdnn21.img.ria.ru/images/07e6/06/16/1797374881_180:0:1260:810_640x0_80_0_0_857c1f7c4ab5053eedda10ad31c8fa0b.png\" data-responsive640=\"https://cdnn21.img.ria.ru/images/07e6/06/16/1797374881_0:0:1440:810_768x0_80_0_0_c8082bfa2b81311f7c09181f23cc00a8.png\" data-responsive768=\"https://cdnn21.img.ria.ru/images/07e6/06/16/1797374881_0:225:1440:585_925x0_80_0_0_a7db3bc2921a46c6c2d1aceaf3cce10a.png\" data-responsive925=\"https://cdnn21.img.ria.ru/images/07e6/06/16/1797374881_315:0:1125:810_480x0_80_0_0_f2a1112a004551b8e9ce856cdaca8767.png\" data-source-sid=\"rian_infographics\" media-type=\"ar16x9\" src=\"https://cdnn21.img.ria.ru/images/07e6/06/16/1797374881_0:0:0:0_0x0_100_0_0_da448af48beb077a3079588b7af347f6.png\" title=\"Интерактивная карта спецоперации Вооруженных сил России на Украине\"/></picture></div><div class=\"cell-media-cover__info\"><div class=\"cell-info__date\">22 июня 2022, 17:18</div></div><span class=\"cell-media-cover__desc\"><span class=\"cell-media-cover__title\">Интерактивная карта спецоперации Вооруженных сил России на Украине</span></span><span class=\"cell-media-cover__nav-button color-btn\">Посмотреть</span></a>,\n",
       " <a class=\"cell-list__item-link color-font-hover-only\" data-semaphore=\"1\" href=\"https://ria.ru/20241119/logotip-1984549193.html\" title=\"Кремль представил официальный логотип празднования 80-летия Победы\"><span class=\"cell-list__item-title\">Кремль представил официальный логотип празднования 80-летия Победы<span class=\"cell-type__icon m-video\"><span class=\"cell-type__icon-bg color-svg\"><svg class=\"svg-icon\"><use xlink:href=\"#icon-play\" xmlns:xlink=\"http://www.w3.org/1999/xlink\"></use></svg></span></span></span><div class=\"cell-list__item-info\"><div class=\"cell-info__date\">11:20</div></div></a>,\n",
       " <a class=\"cell-list__item-link color-font-hover-only\" data-semaphore=\"1\" href=\"https://ria.ru/20241119/zelenskiy-1984534446.html\" title=\"В Финляндии одной фразой описали Зеленского\"><span class=\"cell-list__item-title\">В Финляндии одной фразой описали Зеленского</span><div class=\"cell-list__item-info\"><div class=\"cell-info__date\">10:25</div></div></a>,\n",
       " <a class=\"color-font-hover-only\" href=\"/tourism/\">Туризм</a>,\n",
       " <a class=\"cell-main-photo__link\" href=\"https://ria.ru/20241119/dedmoroz-1984081495.html\"></a>,\n",
       " <a href=\"/culture/\">Культура</a>,\n",
       " <a class=\"cell-main-bg__link\" href=\"https://ria.ru/20241116/konkurs-1983670964.html\"></a>,\n",
       " <a class=\"cell-main-bg__link\" href=\"https://ria.ru/20241116/aktrisa-1984142931.html\"></a>,\n",
       " <a class=\"cell-main-photo__link\" href=\"https://ria.ru/20241118/rakety-1984403287.html\"></a>,\n",
       " <a class=\"color-font-hover-only\" href=\"/spetsialnaya-voennaya-operatsiya-na-ukraine/\">Специальная военная операция на Украине</a>,\n",
       " <a class=\"cell-carousel__item-link\" href=\"https://ria.ru/20241118/podvig-1983927853.html\"></a>,\n",
       " <a class=\"color-font-hover-only\" href=\"/nadezhnye-lyudi/\">Надежные люди</a>,\n",
       " <a class=\"cell-carousel__item-link\" href=\"https://ria.ru/20241118/spetsoperatsiya--1983966425.html\"></a>,\n",
       " <a class=\"cell-carousel__item-link\" href=\"https://ria.ru/20241118/ngas-1984023649.html\"></a>,\n",
       " <a class=\"cell-carousel__item-link\" href=\"https://ria.ru/20241117/frantsiya-1984038671.html\"></a>,\n",
       " <a class=\"color-font-hover-only\" href=\"/author_alksnis/\"><span class=\"cell-author__author-image\"><img alt=\"Ирина Алкснис\" class=\"\" data-crop-height=\"100\" data-crop-ratio=\"1\" data-crop-width=\"100\" data-source-sid=\"not_rian_photo\" media-type=\"ar1x1\" src=\"https://cdnn21.img.ria.ru/images/07e7/01/11/1845580566_209:0:1463:1254_100x100_80_0_0_c39b8243be8f1513f01a604fc042616b.jpg\" title=\"Ирина Алкснис\"/></span><span class=\"cell-author__author-info\"><span class=\"cell-author__author-clamp\"><b class=\"cell-author__author-title\">Ирина  Алкснис</b></span></span></a>,\n",
       " <a class=\"cell-author__item-link color-font-hover-only\" href=\"https://ria.ru/20241118/atacms--1984319590.html\"></a>,\n",
       " <a class=\"color-font-hover-only\" href=\"/author_vladimir_kornilov/\"><span class=\"cell-author__author-image\"><img alt=\"Украинский политолог Владимир Корнилов\" class=\"\" data-crop-height=\"100\" data-crop-ratio=\"1\" data-crop-width=\"100\" data-source-sid=\"rian_photo\" media-type=\"s100x100\" src=\"https://cdnn21.img.ria.ru/images/150952/34/1509523493_245:0:1576:1331_100x100_80_0_0_160e34718e1b8077f7b50055b16d4238.jpg\" title=\"Украинский политолог Владимир Корнилов\"/></span><span class=\"cell-author__author-info\"><span class=\"cell-author__author-clamp\"><b class=\"cell-author__author-title\">Владимир Корнилов</b></span></span></a>,\n",
       " <a class=\"cell-author__item-link color-font-hover-only\" href=\"https://ria.ru/20241118/tsenzura-1984256164.html\"></a>,\n",
       " <a class=\"color-font-hover-only\" href=\"/author_karaeva_elena/\"><span class=\"cell-author__author-image\"><img alt=\"Елена Караева\" class=\"\" data-crop-height=\"100\" data-crop-ratio=\"1\" data-crop-width=\"100\" data-source-sid=\"not_rian_photo\" media-type=\"ar1x1\" src=\"https://cdnn21.img.ria.ru/images/07e5/06/15/1737959079_0:118:1200:1318_100x100_80_0_0_f149358b52815d3ca7bdb5f57ee75430.jpg\" title=\"Елена Караева\"/></span><span class=\"cell-author__author-info\"><span class=\"cell-author__author-clamp\"><b class=\"cell-author__author-title\">Елена Караева</b></span></span></a>,\n",
       " <a class=\"cell-author__item-link color-font-hover-only\" href=\"https://ria.ru/20241118/evropa-1984272180.html\"></a>,\n",
       " <a class=\"color-font-hover-only\" href=\"/football/\">Футбол</a>,\n",
       " <a class=\"cell-main-photo__link\" href=\"https://rsport.ria.ru/20241119/devushki-futbolistov-1984468687.html\"></a>,\n",
       " <a class=\"cell-list__item-link color-font-hover-only\" data-semaphore=\"1\" href=\"https://rsport.ria.ru/20241119/khokkey-1984516354.html\" title='Тренер \"Вашингтона\" не стал давать прогнозов по травме Овечкина'><span class=\"cell-list__item-title\">Тренер \"Вашингтона\" не стал давать прогнозов по травме Овечкина</span><div class=\"cell-list__item-info\"><div class=\"cell-info__date\">08:31</div></div></a>,\n",
       " <a class=\"cell-list__item-link color-font-hover-only\" data-semaphore=\"1\" href=\"https://rsport.ria.ru/20241119/khokkey-1984506195.html\" title=\"Судья пострадал в матче между клубами Ничушкина и Мичкова\"><span class=\"cell-list__item-title\">Судья пострадал в матче между клубами Ничушкина и Мичкова</span><div class=\"cell-list__item-info\"><div class=\"cell-info__date\">06:00</div></div></a>,\n",
       " <a class=\"cell-list__item-link color-font-hover-only\" data-semaphore=\"1\" href=\"https://rsport.ria.ru/20241119/tennis-1984511959.html\" title=\"Итальянские теннисистки стали первыми финалистками Кубка Билли Джин Кинг\"><span class=\"cell-list__item-title\">Итальянские теннисистки стали первыми финалистками Кубка Билли Джин Кинг</span><div class=\"cell-list__item-info\"><div class=\"cell-info__date\">07:29</div></div></a>,\n",
       " <a class=\"cell-list__item-link color-font-hover-only\" data-semaphore=\"1\" href=\"https://rsport.ria.ru/20241119/beterbiev-1984494090.html\" title=\"Бетербиев во второй раз бросил вызов победившему Тайсона блогеру\"><span class=\"cell-list__item-title\">Бетербиев во второй раз бросил вызов победившему Тайсона блогеру</span><div class=\"cell-list__item-info\"><div class=\"cell-info__date\">01:58</div></div></a>,\n",
       " <a class=\"color-font-hover-only\" href=\"/football/\">Футбол</a>,\n",
       " <a class=\"cell-carousel__item-link\" href=\"https://rsport.ria.ru/20241119/uefa-1984492398.html\"></a>,\n",
       " <a class=\"color-font-hover-only\" href=\"/football/\">Футбол</a>,\n",
       " <a class=\"cell-carousel__item-link\" href=\"https://rsport.ria.ru/20241119/san-marino-1984490967.html\"></a>,\n",
       " <a class=\"color-font-hover-only\" href=\"/football/\">Футбол</a>,\n",
       " <a class=\"cell-carousel__item-link\" href=\"https://rsport.ria.ru/20241119/uefa-1984489910.html\"></a>,\n",
       " <a class=\"color-font-hover-only\" href=\"/football/\">Футбол</a>,\n",
       " <a class=\"cell-carousel__item-link\" href=\"https://rsport.ria.ru/20241119/uefa-1984489551.html\"></a>,\n",
       " <a class=\"footer__social-button m-vkontakte\" href=\"https://vk.com/ria\" rel=\"noopener\" target=\"_blank\" title=\"Сообщество ria Вконтакте\"><svg class=\"svg-icon\"><use xlink:href=\"#social-vkontakte\" xmlns:xlink=\"http://www.w3.org/1999/xlink\"></use></svg></a>,\n",
       " <a class=\"footer__social-button m-odnoklassniki\" href=\"https://www.odnoklassniki.ru/ria\" rel=\"noopener\" target=\"_blank\" title=\"Группа ria в Одноклассниках\"><svg class=\"svg-icon\"><use xlink:href=\"#social-odnoklassniki\" xmlns:xlink=\"http://www.w3.org/1999/xlink\"></use></svg></a>,\n",
       " <a class=\"footer__social-button m-zen\" href=\"https://dzen.ru/ria?invite=1\" rel=\"noopener\" target=\"_blank\" title=\"ria в Яндекс.Дзен\"><svg class=\"svg-icon\"><use xlink:href=\"#social-zen\" xmlns:xlink=\"http://www.w3.org/1999/xlink\"></use></svg></a>,\n",
       " <a class=\"footer__social-button m-rutube\" href=\"https://rutube.ru/channel/23469114/\" rel=\"noopener\" target=\"_blank\" title=\"Видео ria в Rutube\"><svg class=\"svg-icon\"><use xlink:href=\"#social-rutube\" xmlns:xlink=\"http://www.w3.org/1999/xlink\"></use></svg></a>,\n",
       " <a class=\"footer__social-button m-viber\" href=\"https://invite.viber.com/?g2=AQAOuCQJzow8L0hQtsB3j3zzc7YMKEHijsslO3ZsCFmFcZGSed0OTOa0ruAXXZn6\" rel=\"noopener\" target=\"_blank\" title=\"Сообщество riaViber\"><svg class=\"svg-icon\"><use xlink:href=\"#social-viber\" xmlns:xlink=\"http://www.w3.org/1999/xlink\"></use></svg></a>,\n",
       " <a class=\"footer__social-button m-telegram\" href=\"https://tgclick.com/rian_ru\" rel=\"noopener\" target=\"_blank\" title=\"Канал ria в Telegram\"><svg class=\"svg-icon\"><use xlink:href=\"#social-telegram\" xmlns:xlink=\"http://www.w3.org/1999/xlink\"></use></svg></a>,\n",
       " <a class=\"footer__social-button m-x\" href=\"https://x.com/rianru\" rel=\"noopener\" target=\"_blank\" title=\"Новости ria в X\"><svg class=\"svg-icon\"><use xlink:href=\"#social-x\" xmlns:xlink=\"http://www.w3.org/1999/xlink\"></use></svg></a>,\n",
       " <a class=\"footer__social-button m-breakingnews\" href=\"https://x.com/riabreakingnews\" rel=\"noopener\" target=\"_blank\" title=\"Срочные новости в X riabreakingnews\"><svg class=\"svg-icon\"><use xlink:href=\"#icon-lightning\" xmlns:xlink=\"http://www.w3.org/1999/xlink\"></use></svg></a>,\n",
       " <a class=\"footer__social-button m-tiktok\" href=\"https://www.tiktok.com/@ria_novosti\" rel=\"noopener\" target=\"_blank\" title=\"Сообщество ria в TikTok\"><svg class=\"svg-icon\"><use xlink:href=\"#social-tiktok\" xmlns:xlink=\"http://www.w3.org/1999/xlink\"></use></svg></a>,\n",
       " <a class=\"footer__logos-ria\" href=\"https://ria.ru/\"><svg class=\"svg-icon\"><use xlink:href=\"#logo-ria_logo_v_white\" xmlns:xlink=\"http://www.w3.org/1999/xlink\"></use></svg></a>,\n",
       " <a href=\"https://xn--c1acbl2abdlkab1og.xn--p1ai/\"><svg class=\"svg-icon\"><use xlink:href=\"#logo-mia_v_white\" xmlns:xlink=\"http://www.w3.org/1999/xlink\"></use></svg></a>,\n",
       " <a href=\"https://ria.ru/politics/\">Политика</a>,\n",
       " <a href=\"https://ria.ru/society/\">Общество</a>,\n",
       " <a href=\"https://ria.ru/economy/\">Экономика</a>,\n",
       " <a href=\"https://ria.ru/world/\">В мире</a>,\n",
       " <a href=\"https://ria.ru/incidents/\">Происшествия</a>,\n",
       " <a href=\"https://rsport.ria.ru/\">Спорт</a>,\n",
       " <a href=\"https://ria.ru/science/\">Наука</a>,\n",
       " <a href=\"https://ria.ru/culture/\">Культура</a>,\n",
       " <a href=\"https://realty.ria.ru/\">Недвижимость</a>,\n",
       " <a href=\"https://ria.ru/religion/\">Религия</a>,\n",
       " <a href=\"https://ria.ru/tourism/\">Туризм</a>,\n",
       " <a href=\"https://radiosputnik.ru/\">Радио</a>,\n",
       " <a href=\"https://ria.ru/podcasts/\">Подкасты</a>,\n",
       " <a href=\"https://ria.ru/tags/\">Теги</a>,\n",
       " <a href=\"https://ria.ru/specialprojects/\">Спецпроекты</a>,\n",
       " <a href=\"https://%D1%80%D0%BE%D1%81%D1%81%D0%B8%D1%8F%D1%81%D0%B5%D0%B3%D0%BE%D0%B4%D0%BD%D1%8F.%D1%80%D1%84/advertising/\">Реклама</a>,\n",
       " <a href=\"https://%D1%80%D0%BE%D1%81%D1%81%D0%B8%D1%8F%D1%81%D0%B5%D0%B3%D0%BE%D0%B4%D0%BD%D1%8F.%D1%80%D1%84/#productsandservices\">Продукты и сервисы</a>,\n",
       " <a href=\"https://pressmia.ru\">Пресс-центр</a>,\n",
       " <a href=\"https://apps.apple.com/app/id1523036476\">Ria.ru в AppStore</a>,\n",
       " <a href=\"https://www.rustore.ru/catalog/app/ru.ria.ria\">Ria.ru в RuStore</a>,\n",
       " <a href=\"https://apps.ria.ru/apk/ru.ria.ria-1.0.26-26-release.apk\">Ria.ru APK</a>,\n",
       " <a href=\"https://ria.ru/export/rss2/archive/index.xml\">RSS</a>,\n",
       " <a href=\"https://ria.ru/archive/\">Архив</a>,\n",
       " <a href=\"/docs/about/copyright.html\"><b>Правила использования материалов</b></a>,\n",
       " <a href=\"/docs/about/privacy_policy.html\"><b>Политика конфиденциальности</b></a>,\n",
       " <a href=\"/docs/about/privacy_policy.html#1748006692-13\"><b>Правила применения рекомендательных технологий</b></a>,\n",
       " <a href=\"mailto:sales@ria.ru\">sales@ria.ru</a>,\n",
       " <a href=\"https://ria.ru/?modal-open=feedback\">формой обратной связи</a>,\n",
       " <a class=\"widgets__open-chat js__toggle-chat-article\" id=\"widgetsButtonChat\"><span class=\"m-icon-normal\"><svg class=\"svg-icon\"><use xlink:href=\"#icon-chat_solid\" xmlns:xlink=\"http://www.w3.org/1999/xlink\"></use></svg></span></a>,\n",
       " <a class=\"widgets__r-header-button m-close js__widgets-close\"><span><svg class=\"svg-icon\"><use xlink:href=\"#icon-close_small\" xmlns:xlink=\"http://www.w3.org/1999/xlink\"></use></svg></span></a>,\n",
       " <a class=\"widgets__r-header-button m-back\"><span><svg class=\"svg-icon\"><use xlink:href=\"#icon-left_wide_small\" xmlns:xlink=\"http://www.w3.org/1999/xlink\"></use></svg></span></a>,\n",
       " <a href=\"https://ria.ru/files/rules/comments.html\">правил</a>,\n",
       " <a href=\"https://ria.ru/?modal=feedback\">формой обратной связи</a>,\n",
       " <a data-modal-open=\"authorization\">авторизуйтесь</a>,\n",
       " <a data-modal-open=\"registration\">зарегистрируйтесь</a>,\n",
       " <a class=\"widgets__r-header-button m-notification\" id=\"chatNotification\"><span id=\"chatNotificationOn\" title=\"Выключить уведомления\"><svg class=\"svg-icon\"><use xlink:href=\"#icon-notification\" xmlns:xlink=\"http://www.w3.org/1999/xlink\"></use></svg></span><span id=\"chatNotificationOff\" style=\"display: none;\" title=\"Включить уведомления\"><svg class=\"svg-icon\"><use xlink:href=\"#icon-notification_off\" xmlns:xlink=\"http://www.w3.org/1999/xlink\"></use></svg></span></a>,\n",
       " <a class=\"widgets__r-header-button m-close js__widgets-close\"><span><svg class=\"svg-icon\"><use xlink:href=\"#icon-close_small\" xmlns:xlink=\"http://www.w3.org/1999/xlink\"></use></svg></span></a>,\n",
       " <a class=\"widgets__r-header-button m-back\"><span><svg class=\"svg-icon\"><use xlink:href=\"#icon-left_wide_small\" xmlns:xlink=\"http://www.w3.org/1999/xlink\"></use></svg></span></a>,\n",
       " <a class=\"color-font\" href=\"/lenta/\"><span class=\"lenta__header-text1\">Лента новостей</span><span class=\"lenta__header-text2\">Молния</span></a>,\n",
       " <a class=\"m-vk\" data-provider=\"vkontakte\" role=\"button\" tabindex=\"14\" title=\"Войти с помощью Вконтакте\"><svg class=\"svg-icon\"><use xlink:href=\"#social-vkontakte\" xmlns:xlink=\"http://www.w3.org/1999/xlink\"></use></svg>\n",
       "                             ВКонтакте\n",
       "                         </a>,\n",
       " <a class=\"m-ok\" data-provider=\"ok\" role=\"button\" tabindex=\"15\" title=\"Войти с помощью Одноклассники\"><svg class=\"svg-icon\"><use xlink:href=\"#social-odnoklassniki\" xmlns:xlink=\"http://www.w3.org/1999/xlink\"></use></svg>\n",
       "                             Одноклассники\n",
       "                         </a>,\n",
       " <a class=\"m-ya\" data-provider=\"yandex\" role=\"button\" tabindex=\"16\" title=\"Войти с помощью Яндекс ID\"><svg class=\"svg-icon\"><use xlink:href=\"#social-ya_ru\" xmlns:xlink=\"http://www.w3.org/1999/xlink\"></use></svg>\n",
       "                             Яндекс ID\n",
       "                         </a>,\n",
       " <a class=\"m-recovery\" data-modal-open=\"recovery_password\" role=\"button\" tabindex=\"17\" title=\"Восстановить пароль\">\n",
       "                             Google и Apple ID\n",
       "                             <i>Авторизация не поддерживается</i><i class=\"color-font\">Получить доступ к аккаунту</i></a>,\n",
       " <a href=\"/docs/about/privacy_policy.html\" target=\"_blank\">Политикой конфиденциальности</a>,\n",
       " <a class=\"m-vk\" data-provider=\"vkontakte\" role=\"button\" tabindex=\"26\" title=\"Зарегистрироваться с помощью Вконтакте\"><svg class=\"svg-icon\"><use xlink:href=\"#social-vkontakte\" xmlns:xlink=\"http://www.w3.org/1999/xlink\"></use></svg>\n",
       "                             ВКонтакте\n",
       "                         </a>,\n",
       " <a class=\"m-ok\" data-provider=\"ok\" role=\"button\" tabindex=\"27\" title=\"Зарегистрироваться с помощью Одноклассники\"><svg class=\"svg-icon\"><use xlink:href=\"#social-odnoklassniki\" xmlns:xlink=\"http://www.w3.org/1999/xlink\"></use></svg>\n",
       "                             Одноклассники\n",
       "                         </a>,\n",
       " <a class=\"m-ya\" data-provider=\"yandex\" role=\"button\" tabindex=\"16\" title=\"Зарегистрироваться с помощью Яндекс\"><svg class=\"svg-icon\"><use xlink:href=\"#social-ya_ru\" xmlns:xlink=\"http://www.w3.org/1999/xlink\"></use></svg>\n",
       "                             Яндекс ID\n",
       "                         </a>,\n",
       " <a href=\"/docs/about/privacy_policy.html\" target=\"_blank\">соглашения</a>,\n",
       " <a id=\"modalRecoveryPasswordSuccessEmail\"></a>,\n",
       " <a class=\"color-font-hover\" href=\"https://ria.ru/docs/about/privacy_policy.html\" target=\"_blank\">Политикой конфиденциальности</a>,\n",
       " <a href=\"https://ria.ru/files/rules/comments.html\">правил комментирования материалов</a>,\n",
       " <a href=\"https://ria.ru/files/rules/comments.html\">правил комментирования материалов</a>,\n",
       " <a>или выберите скриншот</a>,\n",
       " <a>или выберите скриншот</a>,\n",
       " <a href=\"https://xn--c1acbl2abdlkab1og.xn--p1ai/contacts/\" target=\"_blank\">списка контактов Агентства</a>,\n",
       " <a href=\"https://ria.ru/docs/about/privacy_policy.html\" target=\"_blank\">с описанием процесса обработки</a>,\n",
       " <a>или выберите скриншот</a>,\n",
       " <a class=\"modal__search-all list-more color-btn-second-hover\" href=\"/search/?query=\">Показать <span></span></a>,\n",
       " <a class=\"photoview__btn-prev\"><i><svg class=\"svg-icon\"><use xlink:href=\"#icon-left_wide\" xmlns:xlink=\"http://www.w3.org/1999/xlink\"></use></svg></i></a>,\n",
       " <a class=\"photoview__btn-next\"><i><svg class=\"svg-icon\"><use xlink:href=\"#icon-right_wide\" xmlns:xlink=\"http://www.w3.org/1999/xlink\"></use></svg></i></a>,\n",
       " <a class=\"photoview__desc-more\"><i><svg class=\"svg-icon\"><use xlink:href=\"#icon-up_wide\" xmlns:xlink=\"http://www.w3.org/1999/xlink\"></use></svg></i><i><svg class=\"svg-icon\"><use xlink:href=\"#icon-down_wide\" xmlns:xlink=\"http://www.w3.org/1999/xlink\"></use></svg></i></a>,\n",
       " <a class=\"photoview__btn-close\"><i><svg class=\"svg-icon\"><use xlink:href=\"#icon-close_small\" xmlns:xlink=\"http://www.w3.org/1999/xlink\"></use></svg></i></a>]"
      ]
     },
     "execution_count": 85,
     "metadata": {},
     "output_type": "execute_result"
    }
   ],
   "source": [
    "soup.find_all('a')"
   ]
  },
  {
   "cell_type": "code",
   "execution_count": null,
   "metadata": {
    "colab": {
     "base_uri": "https://localhost:8080/"
    },
    "id": "vwSorZre8jmR",
    "outputId": "7f5f0f9d-4d8f-4b53-b6f5-6eadf38619fe"
   },
   "outputs": [
    {
     "data": {
      "text/plain": [
       "<a class=\"cell-list__item-link color-font-hover-only\" data-semaphore=\"1\" href=\"https://ria.ru/20241119/abkhaziya-1984544402.html\" title=\"В Сухуме протестующие покинули правительственный комплекс\"><span class=\"cell-list__item-title\">В Сухуме протестующие покинули правительственный комплекс</span><div class=\"cell-list__item-info\"><div class=\"cell-info__date\">11:08</div></div></a>"
      ]
     },
     "execution_count": 90,
     "metadata": {},
     "output_type": "execute_result"
    }
   ],
   "source": [
    "soup.find(class_=\"cell-list__item-link color-font-hover-only\")"
   ]
  },
  {
   "cell_type": "code",
   "execution_count": null,
   "metadata": {
    "colab": {
     "base_uri": "https://localhost:8080/"
    },
    "id": "LpoYJAtq9ZW6",
    "outputId": "46913dd9-cec8-4642-89b4-0d6463a1b886"
   },
   "outputs": [
    {
     "name": "stdout",
     "output_type": "stream",
     "text": [
      "https://ria.ru/20241119/abkhaziya-1984544402.html\n",
      "https://ria.ru/20241119/novoselidovka-1984573026.html\n",
      "https://ria.ru/20241119/podryv-1984526330.html\n",
      "https://ria.ru/20241119/kriptomayning-1984534891.html\n",
      "https://ria.ru/20241119/khischenie-1984569346.html\n",
      "https://ria.ru/20241119/bayden-1984497626.html\n",
      "https://ria.ru/20241119/ubezhische-1984501752.html\n",
      "https://ria.ru/20241119/bayden-1984502139.html\n",
      "https://ria.ru/20241119/atacms-1984492805.html\n",
      "https://ria.ru/20241119/kabeli-1984502648.html\n",
      "https://ria.ru/20241119/rossija-1984566024.html\n",
      "https://ria.ru/20241119/levkin-1984570091.html\n",
      "https://ria.ru/20241119/nenavist-1984531970.html\n",
      "https://ria.ru/20241119/bloomberg-1984538845.html\n",
      "https://ria.ru/20241119/konflikt-1984534581.html\n",
      "https://ria.ru/20241119/turtsiya-1984569796.html\n",
      "https://ria.ru/20241119/rossija-1984515528.html\n",
      "https://ria.ru/20241119/politik-1984525820.html\n",
      "https://ria.ru/20241119/oon-1984564002.html?rcmd_alg=slotter\n",
      "https://ria.ru/20241119/putin-1984564864.html?rcmd_alg=slotter\n",
      "https://ria.ru/20241119/sallivan-1984525482.html?rcmd_alg=slotter\n",
      "https://ria.ru/20241119/ssha-1984577467.html?rcmd_alg=slotter\n",
      "https://ria.ru/20241119/stavka-1984581815.html?rcmd_alg=slotter\n",
      "https://ria.ru/20241119/logotip-1984549193.html\n",
      "https://ria.ru/20241119/zelenskiy-1984534446.html\n",
      "https://rsport.ria.ru/20241119/khokkey-1984516354.html\n",
      "https://rsport.ria.ru/20241119/khokkey-1984506195.html\n",
      "https://rsport.ria.ru/20241119/tennis-1984511959.html\n",
      "https://rsport.ria.ru/20241119/beterbiev-1984494090.html\n"
     ]
    }
   ],
   "source": [
    "for link in soup.find_all(class_=\"cell-list__item-link color-font-hover-only\"):\n",
    "    print(link.get('href'))"
   ]
  },
  {
   "cell_type": "code",
   "execution_count": null,
   "metadata": {
    "id": "6jatdwyL904X"
   },
   "outputs": [],
   "source": [
    "links = []\n",
    "for link in soup.find_all(class_=\"cell-list__item-link color-font-hover-only\"):\n",
    "    if 'rsport' in link.get('href'):\n",
    "      pass\n",
    "    else:\n",
    "      links.append(link.get('href'))"
   ]
  },
  {
   "cell_type": "code",
   "execution_count": null,
   "metadata": {
    "colab": {
     "base_uri": "https://localhost:8080/"
    },
    "id": "-5MxpOH0-yH5",
    "outputId": "35caa159-c793-46c7-94da-66866fe1f056"
   },
   "outputs": [
    {
     "data": {
      "text/plain": [
       "['https://ria.ru/20241119/abkhaziya-1984544402.html',\n",
       " 'https://ria.ru/20241119/novoselidovka-1984573026.html',\n",
       " 'https://ria.ru/20241119/podryv-1984526330.html',\n",
       " 'https://ria.ru/20241119/kriptomayning-1984534891.html',\n",
       " 'https://ria.ru/20241119/khischenie-1984569346.html',\n",
       " 'https://ria.ru/20241119/bayden-1984497626.html',\n",
       " 'https://ria.ru/20241119/ubezhische-1984501752.html',\n",
       " 'https://ria.ru/20241119/bayden-1984502139.html',\n",
       " 'https://ria.ru/20241119/atacms-1984492805.html',\n",
       " 'https://ria.ru/20241119/kabeli-1984502648.html',\n",
       " 'https://ria.ru/20241119/rossija-1984566024.html',\n",
       " 'https://ria.ru/20241119/levkin-1984570091.html',\n",
       " 'https://ria.ru/20241119/nenavist-1984531970.html',\n",
       " 'https://ria.ru/20241119/bloomberg-1984538845.html',\n",
       " 'https://ria.ru/20241119/konflikt-1984534581.html',\n",
       " 'https://ria.ru/20241119/turtsiya-1984569796.html',\n",
       " 'https://ria.ru/20241119/rossija-1984515528.html',\n",
       " 'https://ria.ru/20241119/politik-1984525820.html',\n",
       " 'https://ria.ru/20241119/oon-1984564002.html?rcmd_alg=slotter',\n",
       " 'https://ria.ru/20241119/putin-1984564864.html?rcmd_alg=slotter',\n",
       " 'https://ria.ru/20241119/sallivan-1984525482.html?rcmd_alg=slotter',\n",
       " 'https://ria.ru/20241119/ssha-1984577467.html?rcmd_alg=slotter',\n",
       " 'https://ria.ru/20241119/stavka-1984581815.html?rcmd_alg=slotter',\n",
       " 'https://ria.ru/20241119/logotip-1984549193.html',\n",
       " 'https://ria.ru/20241119/zelenskiy-1984534446.html']"
      ]
     },
     "execution_count": 94,
     "metadata": {},
     "output_type": "execute_result"
    }
   ],
   "source": [
    "links"
   ]
  },
  {
   "cell_type": "code",
   "execution_count": null,
   "metadata": {
    "id": "CAwc0Xp5-z3S"
   },
   "outputs": [],
   "source": [
    "soup = BeautifulSoup(page.text, \"html.parser\")"
   ]
  }
 ],
 "metadata": {
  "colab": {
   "provenance": []
  },
  "kernelspec": {
   "display_name": "Python 3 (ipykernel)",
   "language": "python",
   "name": "python3"
  },
  "language_info": {
   "codemirror_mode": {
    "name": "ipython",
    "version": 3
   },
   "file_extension": ".py",
   "mimetype": "text/x-python",
   "name": "python",
   "nbconvert_exporter": "python",
   "pygments_lexer": "ipython3",
   "version": "3.11.5"
  }
 },
 "nbformat": 4,
 "nbformat_minor": 1
}
