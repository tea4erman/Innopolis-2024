{
 "cells": [
  {
   "cell_type": "markdown",
   "id": "29cfa42e",
   "metadata": {},
   "source": [
    "### List comprehension"
   ]
  },
  {
   "cell_type": "code",
   "execution_count": 80,
   "id": "2d65c9c4",
   "metadata": {},
   "outputs": [
    {
     "data": {
      "text/plain": [
       "[1.0, 2.0, 3.0, 4.0, 5.0]"
      ]
     },
     "execution_count": 80,
     "metadata": {},
     "output_type": "execute_result"
    }
   ],
   "source": [
    "a = [1,2,3,4,5,6,7,8,9,10]\n",
    "[item/2 for item in a if item %2 == 0]"
   ]
  },
  {
   "cell_type": "code",
   "execution_count": 2,
   "id": "5f62480f",
   "metadata": {},
   "outputs": [],
   "source": [
    "import pandas as pd\n",
    "import numpy as np\n",
    "import matplotlib.pyplot as plt\n",
    "import pymorphy2"
   ]
  },
  {
   "cell_type": "markdown",
   "id": "ff5b7ab3",
   "metadata": {},
   "source": [
    "### Создание морфологического анализатора"
   ]
  },
  {
   "cell_type": "code",
   "execution_count": 3,
   "id": "0836acae",
   "metadata": {},
   "outputs": [],
   "source": [
    "def pymorphy2_311_hotfix():\n",
    "    from inspect import getfullargspec\n",
    "    from pymorphy2.units.base import BaseAnalyzerUnit\n",
    "\n",
    "    def _get_param_names_311(klass):\n",
    "        if klass.__init__ is object.__init__:\n",
    "            return []\n",
    "        args = getfullargspec(klass.__init__).args\n",
    "        return sorted(args[1:])\n",
    "\n",
    "    setattr(BaseAnalyzerUnit, '_get_param_names', _get_param_names_311)"
   ]
  },
  {
   "cell_type": "code",
   "execution_count": 14,
   "id": "150d278c",
   "metadata": {},
   "outputs": [],
   "source": [
    "pymorphy2_311_hotfix()\n",
    "morph = pymorphy2.MorphAnalyzer()"
   ]
  },
  {
   "cell_type": "code",
   "execution_count": 15,
   "id": "3406cb2b",
   "metadata": {},
   "outputs": [
    {
     "data": {
      "text/plain": [
       "pymorphy2.analyzer.MorphAnalyzer"
      ]
     },
     "execution_count": 15,
     "metadata": {},
     "output_type": "execute_result"
    }
   ],
   "source": [
    "type(morph)"
   ]
  },
  {
   "cell_type": "code",
   "execution_count": 43,
   "id": "20686a90",
   "metadata": {},
   "outputs": [
    {
     "data": {
      "text/plain": [
       "[Parse(word='питон', tag=OpencorporaTag('NOUN,anim,masc sing,nomn'), normal_form='питон', score=1.0, methods_stack=((DictionaryAnalyzer(), 'питон', 52, 0),))]"
      ]
     },
     "execution_count": 43,
     "metadata": {},
     "output_type": "execute_result"
    }
   ],
   "source": [
    "word = \"Питон\"\n",
    "morph.parse(word)"
   ]
  },
  {
   "cell_type": "code",
   "execution_count": 12,
   "id": "bc0d8544",
   "metadata": {},
   "outputs": [
    {
     "data": {
      "text/plain": [
       "Parse(word='питон', tag=OpencorporaTag('NOUN,anim,masc sing,nomn'), normal_form='питон', score=1.0, methods_stack=((DictionaryAnalyzer(), 'питон', 52, 0),))"
      ]
     },
     "execution_count": 12,
     "metadata": {},
     "output_type": "execute_result"
    }
   ],
   "source": [
    "morph.parse(word)[0]"
   ]
  },
  {
   "cell_type": "code",
   "execution_count": 13,
   "id": "cfb4d649",
   "metadata": {},
   "outputs": [],
   "source": [
    "parsed_word = morph.parse(word)[0]\n",
    "lemma = parsed_word.normal_form"
   ]
  },
  {
   "cell_type": "code",
   "execution_count": 14,
   "id": "76aef02b",
   "metadata": {},
   "outputs": [
    {
     "data": {
      "text/plain": [
       "'питон'"
      ]
     },
     "execution_count": 14,
     "metadata": {},
     "output_type": "execute_result"
    }
   ],
   "source": [
    "lemma"
   ]
  },
  {
   "cell_type": "code",
   "execution_count": 15,
   "id": "6d94a5b6",
   "metadata": {},
   "outputs": [
    {
     "data": {
      "text/plain": [
       "'masc'"
      ]
     },
     "execution_count": 15,
     "metadata": {},
     "output_type": "execute_result"
    }
   ],
   "source": [
    "gender = parsed_word.tag.gender\n",
    "gender"
   ]
  },
  {
   "cell_type": "code",
   "execution_count": 16,
   "id": "0ad2472d",
   "metadata": {},
   "outputs": [
    {
     "data": {
      "text/plain": [
       "'sing'"
      ]
     },
     "execution_count": 16,
     "metadata": {},
     "output_type": "execute_result"
    }
   ],
   "source": [
    "number = parsed_word.tag.number\n",
    "number"
   ]
  },
  {
   "cell_type": "code",
   "execution_count": 17,
   "id": "91f03246",
   "metadata": {},
   "outputs": [
    {
     "name": "stdout",
     "output_type": "stream",
     "text": [
      "Исходное слово: Питон\n",
      "Лемма: питон\n",
      "Род: masc\n",
      "Число: sing\n"
     ]
    }
   ],
   "source": [
    "print(\"Исходное слово:\", word)\n",
    "print(\"Лемма:\", lemma)\n",
    "print(\"Род:\", gender)\n",
    "print(\"Число:\", number)"
   ]
  },
  {
   "cell_type": "code",
   "execution_count": 20,
   "id": "1a085d19",
   "metadata": {},
   "outputs": [
    {
     "name": "stdout",
     "output_type": "stream",
     "text": [
      "Исходное слово: Экранное\n",
      "Лемма: экранный\n",
      "Род: neut\n",
      "Число: sing\n"
     ]
    }
   ],
   "source": [
    "word = \"Экранное\"\n",
    "morph.parse(word)\n",
    "parsed_word = morph.parse(word)[0]\n",
    "lemma = parsed_word.normal_form\n",
    "gender = parsed_word.tag.gender\n",
    "number = parsed_word.tag.number\n",
    "print(\"Исходное слово:\", word)\n",
    "print(\"Лемма:\", lemma)\n",
    "print(\"Род:\", gender)\n",
    "print(\"Число:\", number)"
   ]
  },
  {
   "cell_type": "markdown",
   "id": "436f478a",
   "metadata": {},
   "source": [
    "### Создание клиента"
   ]
  },
  {
   "cell_type": "code",
   "execution_count": 4,
   "id": "70c2c29b",
   "metadata": {},
   "outputs": [],
   "source": [
    "from dask.distributed import Client"
   ]
  },
  {
   "cell_type": "code",
   "execution_count": 5,
   "id": "ef232a8e",
   "metadata": {},
   "outputs": [],
   "source": [
    "client = Client(n_workers = 4, threads_per_worker = 4, processes = True, memory_limit = '2GB')"
   ]
  },
  {
   "cell_type": "code",
   "execution_count": 6,
   "id": "8f9b17df",
   "metadata": {},
   "outputs": [
    {
     "data": {
      "text/html": [
       "<div>\n",
       "    <div style=\"width: 24px; height: 24px; background-color: #e1e1e1; border: 3px solid #9D9D9D; border-radius: 5px; position: absolute;\"> </div>\n",
       "    <div style=\"margin-left: 48px;\">\n",
       "        <h3 style=\"margin-bottom: 0px;\">Client</h3>\n",
       "        <p style=\"color: #9D9D9D; margin-bottom: 0px;\">Client-b0f1c732-a259-11ef-a624-acd5643732ba</p>\n",
       "        <table style=\"width: 100%; text-align: left;\">\n",
       "\n",
       "        <tr>\n",
       "        \n",
       "            <td style=\"text-align: left;\"><strong>Connection method:</strong> Cluster object</td>\n",
       "            <td style=\"text-align: left;\"><strong>Cluster type:</strong> distributed.LocalCluster</td>\n",
       "        \n",
       "        </tr>\n",
       "\n",
       "        \n",
       "            <tr>\n",
       "                <td style=\"text-align: left;\">\n",
       "                    <strong>Dashboard: </strong> <a href=\"http://127.0.0.1:8787/status\" target=\"_blank\">http://127.0.0.1:8787/status</a>\n",
       "                </td>\n",
       "                <td style=\"text-align: left;\"></td>\n",
       "            </tr>\n",
       "        \n",
       "\n",
       "        </table>\n",
       "\n",
       "        \n",
       "\n",
       "        \n",
       "            <details>\n",
       "            <summary style=\"margin-bottom: 20px;\"><h3 style=\"display: inline;\">Cluster Info</h3></summary>\n",
       "            <div class=\"jp-RenderedHTMLCommon jp-RenderedHTML jp-mod-trusted jp-OutputArea-output\">\n",
       "    <div style=\"width: 24px; height: 24px; background-color: #e1e1e1; border: 3px solid #9D9D9D; border-radius: 5px; position: absolute;\">\n",
       "    </div>\n",
       "    <div style=\"margin-left: 48px;\">\n",
       "        <h3 style=\"margin-bottom: 0px; margin-top: 0px;\">LocalCluster</h3>\n",
       "        <p style=\"color: #9D9D9D; margin-bottom: 0px;\">baa8b37b</p>\n",
       "        <table style=\"width: 100%; text-align: left;\">\n",
       "            <tr>\n",
       "                <td style=\"text-align: left;\">\n",
       "                    <strong>Dashboard:</strong> <a href=\"http://127.0.0.1:8787/status\" target=\"_blank\">http://127.0.0.1:8787/status</a>\n",
       "                </td>\n",
       "                <td style=\"text-align: left;\">\n",
       "                    <strong>Workers:</strong> 4\n",
       "                </td>\n",
       "            </tr>\n",
       "            <tr>\n",
       "                <td style=\"text-align: left;\">\n",
       "                    <strong>Total threads:</strong> 16\n",
       "                </td>\n",
       "                <td style=\"text-align: left;\">\n",
       "                    <strong>Total memory:</strong> 7.45 GiB\n",
       "                </td>\n",
       "            </tr>\n",
       "            \n",
       "            <tr>\n",
       "    <td style=\"text-align: left;\"><strong>Status:</strong> running</td>\n",
       "    <td style=\"text-align: left;\"><strong>Using processes:</strong> True</td>\n",
       "</tr>\n",
       "\n",
       "            \n",
       "        </table>\n",
       "\n",
       "        <details>\n",
       "            <summary style=\"margin-bottom: 20px;\">\n",
       "                <h3 style=\"display: inline;\">Scheduler Info</h3>\n",
       "            </summary>\n",
       "\n",
       "            <div style=\"\">\n",
       "    <div>\n",
       "        <div style=\"width: 24px; height: 24px; background-color: #FFF7E5; border: 3px solid #FF6132; border-radius: 5px; position: absolute;\"> </div>\n",
       "        <div style=\"margin-left: 48px;\">\n",
       "            <h3 style=\"margin-bottom: 0px;\">Scheduler</h3>\n",
       "            <p style=\"color: #9D9D9D; margin-bottom: 0px;\">Scheduler-53343e50-5554-4af7-bc73-33e7a0703aed</p>\n",
       "            <table style=\"width: 100%; text-align: left;\">\n",
       "                <tr>\n",
       "                    <td style=\"text-align: left;\">\n",
       "                        <strong>Comm:</strong> tcp://127.0.0.1:57931\n",
       "                    </td>\n",
       "                    <td style=\"text-align: left;\">\n",
       "                        <strong>Workers:</strong> 4\n",
       "                    </td>\n",
       "                </tr>\n",
       "                <tr>\n",
       "                    <td style=\"text-align: left;\">\n",
       "                        <strong>Dashboard:</strong> <a href=\"http://127.0.0.1:8787/status\" target=\"_blank\">http://127.0.0.1:8787/status</a>\n",
       "                    </td>\n",
       "                    <td style=\"text-align: left;\">\n",
       "                        <strong>Total threads:</strong> 16\n",
       "                    </td>\n",
       "                </tr>\n",
       "                <tr>\n",
       "                    <td style=\"text-align: left;\">\n",
       "                        <strong>Started:</strong> Just now\n",
       "                    </td>\n",
       "                    <td style=\"text-align: left;\">\n",
       "                        <strong>Total memory:</strong> 7.45 GiB\n",
       "                    </td>\n",
       "                </tr>\n",
       "            </table>\n",
       "        </div>\n",
       "    </div>\n",
       "\n",
       "    <details style=\"margin-left: 48px;\">\n",
       "        <summary style=\"margin-bottom: 20px;\">\n",
       "            <h3 style=\"display: inline;\">Workers</h3>\n",
       "        </summary>\n",
       "\n",
       "        \n",
       "        <div style=\"margin-bottom: 20px;\">\n",
       "            <div style=\"width: 24px; height: 24px; background-color: #DBF5FF; border: 3px solid #4CC9FF; border-radius: 5px; position: absolute;\"> </div>\n",
       "            <div style=\"margin-left: 48px;\">\n",
       "            <details>\n",
       "                <summary>\n",
       "                    <h4 style=\"margin-bottom: 0px; display: inline;\">Worker: 0</h4>\n",
       "                </summary>\n",
       "                <table style=\"width: 100%; text-align: left;\">\n",
       "                    <tr>\n",
       "                        <td style=\"text-align: left;\">\n",
       "                            <strong>Comm: </strong> tcp://127.0.0.1:57950\n",
       "                        </td>\n",
       "                        <td style=\"text-align: left;\">\n",
       "                            <strong>Total threads: </strong> 4\n",
       "                        </td>\n",
       "                    </tr>\n",
       "                    <tr>\n",
       "                        <td style=\"text-align: left;\">\n",
       "                            <strong>Dashboard: </strong> <a href=\"http://127.0.0.1:57954/status\" target=\"_blank\">http://127.0.0.1:57954/status</a>\n",
       "                        </td>\n",
       "                        <td style=\"text-align: left;\">\n",
       "                            <strong>Memory: </strong> 1.86 GiB\n",
       "                        </td>\n",
       "                    </tr>\n",
       "                    <tr>\n",
       "                        <td style=\"text-align: left;\">\n",
       "                            <strong>Nanny: </strong> tcp://127.0.0.1:57934\n",
       "                        </td>\n",
       "                        <td style=\"text-align: left;\"></td>\n",
       "                    </tr>\n",
       "                    <tr>\n",
       "                        <td colspan=\"2\" style=\"text-align: left;\">\n",
       "                            <strong>Local directory: </strong> C:\\Users\\D\\AppData\\Local\\Temp\\dask-scratch-space\\worker-bd6rubl3\n",
       "                        </td>\n",
       "                    </tr>\n",
       "\n",
       "                    \n",
       "\n",
       "                    \n",
       "\n",
       "                </table>\n",
       "            </details>\n",
       "            </div>\n",
       "        </div>\n",
       "        \n",
       "        <div style=\"margin-bottom: 20px;\">\n",
       "            <div style=\"width: 24px; height: 24px; background-color: #DBF5FF; border: 3px solid #4CC9FF; border-radius: 5px; position: absolute;\"> </div>\n",
       "            <div style=\"margin-left: 48px;\">\n",
       "            <details>\n",
       "                <summary>\n",
       "                    <h4 style=\"margin-bottom: 0px; display: inline;\">Worker: 1</h4>\n",
       "                </summary>\n",
       "                <table style=\"width: 100%; text-align: left;\">\n",
       "                    <tr>\n",
       "                        <td style=\"text-align: left;\">\n",
       "                            <strong>Comm: </strong> tcp://127.0.0.1:57952\n",
       "                        </td>\n",
       "                        <td style=\"text-align: left;\">\n",
       "                            <strong>Total threads: </strong> 4\n",
       "                        </td>\n",
       "                    </tr>\n",
       "                    <tr>\n",
       "                        <td style=\"text-align: left;\">\n",
       "                            <strong>Dashboard: </strong> <a href=\"http://127.0.0.1:57958/status\" target=\"_blank\">http://127.0.0.1:57958/status</a>\n",
       "                        </td>\n",
       "                        <td style=\"text-align: left;\">\n",
       "                            <strong>Memory: </strong> 1.86 GiB\n",
       "                        </td>\n",
       "                    </tr>\n",
       "                    <tr>\n",
       "                        <td style=\"text-align: left;\">\n",
       "                            <strong>Nanny: </strong> tcp://127.0.0.1:57936\n",
       "                        </td>\n",
       "                        <td style=\"text-align: left;\"></td>\n",
       "                    </tr>\n",
       "                    <tr>\n",
       "                        <td colspan=\"2\" style=\"text-align: left;\">\n",
       "                            <strong>Local directory: </strong> C:\\Users\\D\\AppData\\Local\\Temp\\dask-scratch-space\\worker-mqhn2v6j\n",
       "                        </td>\n",
       "                    </tr>\n",
       "\n",
       "                    \n",
       "\n",
       "                    \n",
       "\n",
       "                </table>\n",
       "            </details>\n",
       "            </div>\n",
       "        </div>\n",
       "        \n",
       "        <div style=\"margin-bottom: 20px;\">\n",
       "            <div style=\"width: 24px; height: 24px; background-color: #DBF5FF; border: 3px solid #4CC9FF; border-radius: 5px; position: absolute;\"> </div>\n",
       "            <div style=\"margin-left: 48px;\">\n",
       "            <details>\n",
       "                <summary>\n",
       "                    <h4 style=\"margin-bottom: 0px; display: inline;\">Worker: 2</h4>\n",
       "                </summary>\n",
       "                <table style=\"width: 100%; text-align: left;\">\n",
       "                    <tr>\n",
       "                        <td style=\"text-align: left;\">\n",
       "                            <strong>Comm: </strong> tcp://127.0.0.1:57951\n",
       "                        </td>\n",
       "                        <td style=\"text-align: left;\">\n",
       "                            <strong>Total threads: </strong> 4\n",
       "                        </td>\n",
       "                    </tr>\n",
       "                    <tr>\n",
       "                        <td style=\"text-align: left;\">\n",
       "                            <strong>Dashboard: </strong> <a href=\"http://127.0.0.1:57956/status\" target=\"_blank\">http://127.0.0.1:57956/status</a>\n",
       "                        </td>\n",
       "                        <td style=\"text-align: left;\">\n",
       "                            <strong>Memory: </strong> 1.86 GiB\n",
       "                        </td>\n",
       "                    </tr>\n",
       "                    <tr>\n",
       "                        <td style=\"text-align: left;\">\n",
       "                            <strong>Nanny: </strong> tcp://127.0.0.1:57938\n",
       "                        </td>\n",
       "                        <td style=\"text-align: left;\"></td>\n",
       "                    </tr>\n",
       "                    <tr>\n",
       "                        <td colspan=\"2\" style=\"text-align: left;\">\n",
       "                            <strong>Local directory: </strong> C:\\Users\\D\\AppData\\Local\\Temp\\dask-scratch-space\\worker-8_exh5ye\n",
       "                        </td>\n",
       "                    </tr>\n",
       "\n",
       "                    \n",
       "\n",
       "                    \n",
       "\n",
       "                </table>\n",
       "            </details>\n",
       "            </div>\n",
       "        </div>\n",
       "        \n",
       "        <div style=\"margin-bottom: 20px;\">\n",
       "            <div style=\"width: 24px; height: 24px; background-color: #DBF5FF; border: 3px solid #4CC9FF; border-radius: 5px; position: absolute;\"> </div>\n",
       "            <div style=\"margin-left: 48px;\">\n",
       "            <details>\n",
       "                <summary>\n",
       "                    <h4 style=\"margin-bottom: 0px; display: inline;\">Worker: 3</h4>\n",
       "                </summary>\n",
       "                <table style=\"width: 100%; text-align: left;\">\n",
       "                    <tr>\n",
       "                        <td style=\"text-align: left;\">\n",
       "                            <strong>Comm: </strong> tcp://127.0.0.1:57953\n",
       "                        </td>\n",
       "                        <td style=\"text-align: left;\">\n",
       "                            <strong>Total threads: </strong> 4\n",
       "                        </td>\n",
       "                    </tr>\n",
       "                    <tr>\n",
       "                        <td style=\"text-align: left;\">\n",
       "                            <strong>Dashboard: </strong> <a href=\"http://127.0.0.1:57960/status\" target=\"_blank\">http://127.0.0.1:57960/status</a>\n",
       "                        </td>\n",
       "                        <td style=\"text-align: left;\">\n",
       "                            <strong>Memory: </strong> 1.86 GiB\n",
       "                        </td>\n",
       "                    </tr>\n",
       "                    <tr>\n",
       "                        <td style=\"text-align: left;\">\n",
       "                            <strong>Nanny: </strong> tcp://127.0.0.1:57940\n",
       "                        </td>\n",
       "                        <td style=\"text-align: left;\"></td>\n",
       "                    </tr>\n",
       "                    <tr>\n",
       "                        <td colspan=\"2\" style=\"text-align: left;\">\n",
       "                            <strong>Local directory: </strong> C:\\Users\\D\\AppData\\Local\\Temp\\dask-scratch-space\\worker-p_bhf3y6\n",
       "                        </td>\n",
       "                    </tr>\n",
       "\n",
       "                    \n",
       "\n",
       "                    \n",
       "\n",
       "                </table>\n",
       "            </details>\n",
       "            </div>\n",
       "        </div>\n",
       "        \n",
       "\n",
       "    </details>\n",
       "</div>\n",
       "\n",
       "        </details>\n",
       "    </div>\n",
       "</div>\n",
       "            </details>\n",
       "        \n",
       "\n",
       "    </div>\n",
       "</div>"
      ],
      "text/plain": [
       "<Client: 'tcp://127.0.0.1:57931' processes=4 threads=16, memory=7.45 GiB>"
      ]
     },
     "execution_count": 6,
     "metadata": {},
     "output_type": "execute_result"
    }
   ],
   "source": [
    "client"
   ]
  },
  {
   "cell_type": "markdown",
   "id": "8f2e9807",
   "metadata": {},
   "source": [
    "### Dask bag"
   ]
  },
  {
   "cell_type": "code",
   "execution_count": 7,
   "id": "dc863800",
   "metadata": {},
   "outputs": [],
   "source": [
    "import dask.bag as db"
   ]
  },
  {
   "cell_type": "code",
   "execution_count": 25,
   "id": "a0b694bd",
   "metadata": {},
   "outputs": [],
   "source": [
    "data = db.from_sequence([1, 2, 3, 4, 5, 6, 7, 8, 9, 10])"
   ]
  },
  {
   "cell_type": "code",
   "execution_count": 26,
   "id": "9bf24e1a",
   "metadata": {},
   "outputs": [
    {
     "data": {
      "text/plain": [
       "dask.bag.core.Bag"
      ]
     },
     "execution_count": 26,
     "metadata": {},
     "output_type": "execute_result"
    }
   ],
   "source": [
    "type(data)"
   ]
  },
  {
   "cell_type": "code",
   "execution_count": 28,
   "id": "3ca22cab",
   "metadata": {},
   "outputs": [
    {
     "data": {
      "text/plain": [
       "[1, 2, 3, 4, 5, 6, 7, 8, 9, 10]"
      ]
     },
     "execution_count": 28,
     "metadata": {},
     "output_type": "execute_result"
    }
   ],
   "source": [
    "data.compute()"
   ]
  },
  {
   "cell_type": "code",
   "execution_count": 32,
   "id": "13ed6873",
   "metadata": {},
   "outputs": [
    {
     "data": {
      "text/plain": [
       "[2, 4, 6, 8, 10, 12, 14, 16, 18, 20]"
      ]
     },
     "execution_count": 32,
     "metadata": {},
     "output_type": "execute_result"
    }
   ],
   "source": [
    "transformed_data = data.map(lambda x: x * 2)\n",
    "transformed_data.compute()"
   ]
  },
  {
   "cell_type": "code",
   "execution_count": 33,
   "id": "fcaba091",
   "metadata": {},
   "outputs": [
    {
     "data": {
      "text/plain": [
       "[4, 8, 12, 16, 20]"
      ]
     },
     "execution_count": 33,
     "metadata": {},
     "output_type": "execute_result"
    }
   ],
   "source": [
    "filtered_data = transformed_data.filter(lambda x: x % 4 == 0)\n",
    "filtered_data.compute()"
   ]
  },
  {
   "cell_type": "code",
   "execution_count": 34,
   "id": "3c144f33",
   "metadata": {},
   "outputs": [],
   "source": [
    "total = filtered_data.sum().compute()"
   ]
  },
  {
   "cell_type": "code",
   "execution_count": 35,
   "id": "d620ff6e",
   "metadata": {},
   "outputs": [
    {
     "data": {
      "text/plain": [
       "60"
      ]
     },
     "execution_count": 35,
     "metadata": {},
     "output_type": "execute_result"
    }
   ],
   "source": [
    "total"
   ]
  },
  {
   "cell_type": "markdown",
   "id": "9c50bbf4",
   "metadata": {},
   "source": [
    "### Частота встречаемых слов"
   ]
  },
  {
   "cell_type": "code",
   "execution_count": 36,
   "id": "90f3ecdf",
   "metadata": {},
   "outputs": [],
   "source": [
    "with open(\"input.txt\", \"w\") as file:\n",
    "    file.write(\"Hello world\\n\")\n",
    "    file.write(\"This is a sample input file for MapReduce\\n\")\n",
    "    file.write(\"MapReduce is a powerful data processing model\\n\")"
   ]
  },
  {
   "cell_type": "code",
   "execution_count": 37,
   "id": "f23f9fac",
   "metadata": {},
   "outputs": [],
   "source": [
    "data = db.read_text('input.txt')"
   ]
  },
  {
   "cell_type": "code",
   "execution_count": 38,
   "id": "71306f42",
   "metadata": {},
   "outputs": [
    {
     "data": {
      "text/plain": [
       "['Hello world\\n',\n",
       " 'This is a sample input file for MapReduce\\n',\n",
       " 'MapReduce is a powerful data processing model\\n']"
      ]
     },
     "execution_count": 38,
     "metadata": {},
     "output_type": "execute_result"
    }
   ],
   "source": [
    "data.compute()"
   ]
  },
  {
   "cell_type": "code",
   "execution_count": 40,
   "id": "b2f62ded",
   "metadata": {},
   "outputs": [
    {
     "data": {
      "text/plain": [
       "[['Hello', 'world'],\n",
       " ['This', 'is', 'a', 'sample', 'input', 'file', 'for', 'MapReduce'],\n",
       " ['MapReduce', 'is', 'a', 'powerful', 'data', 'processing', 'model']]"
      ]
     },
     "execution_count": 40,
     "metadata": {},
     "output_type": "execute_result"
    }
   ],
   "source": [
    "data.str.split().compute()"
   ]
  },
  {
   "cell_type": "code",
   "execution_count": 42,
   "id": "f7a48677",
   "metadata": {},
   "outputs": [],
   "source": [
    "words = data.str.split().flatten()"
   ]
  },
  {
   "cell_type": "code",
   "execution_count": 43,
   "id": "f8e6abde",
   "metadata": {},
   "outputs": [
    {
     "data": {
      "text/plain": [
       "['Hello',\n",
       " 'world',\n",
       " 'This',\n",
       " 'is',\n",
       " 'a',\n",
       " 'sample',\n",
       " 'input',\n",
       " 'file',\n",
       " 'for',\n",
       " 'MapReduce',\n",
       " 'MapReduce',\n",
       " 'is',\n",
       " 'a',\n",
       " 'powerful',\n",
       " 'data',\n",
       " 'processing',\n",
       " 'model']"
      ]
     },
     "execution_count": 43,
     "metadata": {},
     "output_type": "execute_result"
    }
   ],
   "source": [
    "words.compute()"
   ]
  },
  {
   "cell_type": "code",
   "execution_count": 44,
   "id": "6f56df4b",
   "metadata": {},
   "outputs": [],
   "source": [
    "word_count = words.frequencies()"
   ]
  },
  {
   "cell_type": "code",
   "execution_count": 45,
   "id": "efef4ac3",
   "metadata": {},
   "outputs": [
    {
     "data": {
      "text/plain": [
       "[('Hello', 1),\n",
       " ('world', 1),\n",
       " ('This', 1),\n",
       " ('is', 2),\n",
       " ('a', 2),\n",
       " ('sample', 1),\n",
       " ('input', 1),\n",
       " ('file', 1),\n",
       " ('for', 1),\n",
       " ('MapReduce', 2),\n",
       " ('powerful', 1),\n",
       " ('data', 1),\n",
       " ('processing', 1),\n",
       " ('model', 1)]"
      ]
     },
     "execution_count": 45,
     "metadata": {},
     "output_type": "execute_result"
    }
   ],
   "source": [
    "word_count.compute()"
   ]
  },
  {
   "cell_type": "code",
   "execution_count": 46,
   "id": "39cff863",
   "metadata": {},
   "outputs": [
    {
     "data": {
      "text/html": [
       "<div>\n",
       "<style scoped>\n",
       "    .dataframe tbody tr th:only-of-type {\n",
       "        vertical-align: middle;\n",
       "    }\n",
       "\n",
       "    .dataframe tbody tr th {\n",
       "        vertical-align: top;\n",
       "    }\n",
       "\n",
       "    .dataframe thead th {\n",
       "        text-align: right;\n",
       "    }\n",
       "</style>\n",
       "<table border=\"1\" class=\"dataframe\">\n",
       "  <thead>\n",
       "    <tr style=\"text-align: right;\">\n",
       "      <th></th>\n",
       "      <th>Word</th>\n",
       "      <th>Frequency</th>\n",
       "    </tr>\n",
       "  </thead>\n",
       "  <tbody>\n",
       "    <tr>\n",
       "      <th>0</th>\n",
       "      <td>Hello</td>\n",
       "      <td>1</td>\n",
       "    </tr>\n",
       "    <tr>\n",
       "      <th>1</th>\n",
       "      <td>world</td>\n",
       "      <td>1</td>\n",
       "    </tr>\n",
       "    <tr>\n",
       "      <th>2</th>\n",
       "      <td>This</td>\n",
       "      <td>1</td>\n",
       "    </tr>\n",
       "    <tr>\n",
       "      <th>3</th>\n",
       "      <td>is</td>\n",
       "      <td>2</td>\n",
       "    </tr>\n",
       "    <tr>\n",
       "      <th>4</th>\n",
       "      <td>a</td>\n",
       "      <td>2</td>\n",
       "    </tr>\n",
       "    <tr>\n",
       "      <th>5</th>\n",
       "      <td>sample</td>\n",
       "      <td>1</td>\n",
       "    </tr>\n",
       "    <tr>\n",
       "      <th>6</th>\n",
       "      <td>input</td>\n",
       "      <td>1</td>\n",
       "    </tr>\n",
       "    <tr>\n",
       "      <th>7</th>\n",
       "      <td>file</td>\n",
       "      <td>1</td>\n",
       "    </tr>\n",
       "    <tr>\n",
       "      <th>8</th>\n",
       "      <td>for</td>\n",
       "      <td>1</td>\n",
       "    </tr>\n",
       "    <tr>\n",
       "      <th>9</th>\n",
       "      <td>MapReduce</td>\n",
       "      <td>2</td>\n",
       "    </tr>\n",
       "    <tr>\n",
       "      <th>10</th>\n",
       "      <td>powerful</td>\n",
       "      <td>1</td>\n",
       "    </tr>\n",
       "    <tr>\n",
       "      <th>11</th>\n",
       "      <td>data</td>\n",
       "      <td>1</td>\n",
       "    </tr>\n",
       "    <tr>\n",
       "      <th>12</th>\n",
       "      <td>processing</td>\n",
       "      <td>1</td>\n",
       "    </tr>\n",
       "    <tr>\n",
       "      <th>13</th>\n",
       "      <td>model</td>\n",
       "      <td>1</td>\n",
       "    </tr>\n",
       "  </tbody>\n",
       "</table>\n",
       "</div>"
      ],
      "text/plain": [
       "          Word  Frequency\n",
       "0        Hello          1\n",
       "1        world          1\n",
       "2         This          1\n",
       "3           is          2\n",
       "4            a          2\n",
       "5       sample          1\n",
       "6        input          1\n",
       "7         file          1\n",
       "8          for          1\n",
       "9    MapReduce          2\n",
       "10    powerful          1\n",
       "11        data          1\n",
       "12  processing          1\n",
       "13       model          1"
      ]
     },
     "execution_count": 46,
     "metadata": {},
     "output_type": "execute_result"
    }
   ],
   "source": [
    "data = db.read_text('input.txt').str.split()\n",
    "words = data.flatten()\n",
    "word_count = words.frequencies()\n",
    "pd.DataFrame(word_count, columns=['Word', 'Frequency'])"
   ]
  },
  {
   "cell_type": "markdown",
   "id": "9d8f2d12",
   "metadata": {},
   "source": [
    "### Ключевые слова"
   ]
  },
  {
   "cell_type": "code",
   "execution_count": 8,
   "id": "98ba35d6",
   "metadata": {},
   "outputs": [],
   "source": [
    "import string\n",
    "\n",
    "data = {\"URL\": \"https://example.com/page1\",\n",
    "    \"Заголовок\": \"Новости спорта\",\n",
    "    \"Текст\": \"Сегодня в новостях у нас спорт, спорт и еще раз спорт 4.\"}"
   ]
  },
  {
   "cell_type": "code",
   "execution_count": 53,
   "id": "3db17456",
   "metadata": {},
   "outputs": [
    {
     "data": {
      "text/plain": [
       "{'URL': 'https://example.com/page1',\n",
       " 'Заголовок': 'Новости спорта',\n",
       " 'Текст': 'Сегодня в новостях у нас спорт, спорт и еще раз спорт 4.'}"
      ]
     },
     "execution_count": 53,
     "metadata": {},
     "output_type": "execute_result"
    }
   ],
   "source": [
    "data"
   ]
  },
  {
   "cell_type": "code",
   "execution_count": 54,
   "id": "628844a3",
   "metadata": {},
   "outputs": [
    {
     "data": {
      "text/plain": [
       "'Новости спорта Сегодня в новостях у нас спорт, спорт и еще раз спорт 4.'"
      ]
     },
     "execution_count": 54,
     "metadata": {},
     "output_type": "execute_result"
    }
   ],
   "source": [
    "text = data[\"Заголовок\"] + \" \" + data[\"Текст\"]\n",
    "text"
   ]
  },
  {
   "cell_type": "code",
   "execution_count": 55,
   "id": "38203e05",
   "metadata": {},
   "outputs": [
    {
     "data": {
      "text/plain": [
       "'новости спорта сегодня в новостях у нас спорт, спорт и еще раз спорт 4.'"
      ]
     },
     "execution_count": 55,
     "metadata": {},
     "output_type": "execute_result"
    }
   ],
   "source": [
    "text.lower()"
   ]
  },
  {
   "cell_type": "code",
   "execution_count": 56,
   "id": "3f12e557",
   "metadata": {},
   "outputs": [
    {
     "data": {
      "text/plain": [
       "'новости спорта сегодня в новостях у нас спорт спорт и еще раз спорт '"
      ]
     },
     "execution_count": 56,
     "metadata": {},
     "output_type": "execute_result"
    }
   ],
   "source": [
    "text.lower().translate(str.maketrans('', '', string.punctuation)).translate(str.maketrans('', '', string.digits))"
   ]
  },
  {
   "cell_type": "code",
   "execution_count": 58,
   "id": "0b9ba737",
   "metadata": {},
   "outputs": [
    {
     "data": {
      "text/plain": [
       "['новости',\n",
       " 'спорта',\n",
       " 'сегодня',\n",
       " 'в',\n",
       " 'новостях',\n",
       " 'у',\n",
       " 'нас',\n",
       " 'спорт',\n",
       " 'спорт',\n",
       " 'и',\n",
       " 'еще',\n",
       " 'раз',\n",
       " 'спорт']"
      ]
     },
     "execution_count": 58,
     "metadata": {},
     "output_type": "execute_result"
    }
   ],
   "source": [
    "text.lower().translate(str.maketrans('', '', string.punctuation)).translate(str.maketrans('', '', string.digits)).split()"
   ]
  },
  {
   "cell_type": "code",
   "execution_count": 59,
   "id": "9034d610",
   "metadata": {},
   "outputs": [],
   "source": [
    "words = text.lower().translate(str.maketrans('', '', string.punctuation)).translate(str.maketrans('', '', string.digits)).split()"
   ]
  },
  {
   "cell_type": "code",
   "execution_count": 76,
   "id": "da442b87",
   "metadata": {},
   "outputs": [
    {
     "data": {
      "text/plain": [
       "['новость',\n",
       " 'спорт',\n",
       " 'сегодня',\n",
       " 'в',\n",
       " 'новость',\n",
       " 'у',\n",
       " 'мы',\n",
       " 'спорт',\n",
       " 'спорт',\n",
       " 'и',\n",
       " 'ещё',\n",
       " 'раз',\n",
       " 'спорт']"
      ]
     },
     "execution_count": 76,
     "metadata": {},
     "output_type": "execute_result"
    }
   ],
   "source": [
    "[morph.parse(word)[0].normal_form for word in words]"
   ]
  },
  {
   "cell_type": "code",
   "execution_count": 77,
   "id": "7fa144cf",
   "metadata": {},
   "outputs": [],
   "source": [
    "lemmatized_words = [morph.parse(word)[0].normal_form for word in words]"
   ]
  },
  {
   "cell_type": "code",
   "execution_count": 78,
   "id": "4eb96757",
   "metadata": {},
   "outputs": [
    {
     "data": {
      "text/plain": [
       "['новость',\n",
       " 'спорт',\n",
       " 'сегодня',\n",
       " 'новость',\n",
       " 'спорт',\n",
       " 'спорт',\n",
       " 'ещё',\n",
       " 'раз',\n",
       " 'спорт']"
      ]
     },
     "execution_count": 78,
     "metadata": {},
     "output_type": "execute_result"
    }
   ],
   "source": [
    "[word for word in lemmatized_words if len(word) >= 3]"
   ]
  },
  {
   "cell_type": "code",
   "execution_count": 81,
   "id": "42d38c1b",
   "metadata": {},
   "outputs": [],
   "source": [
    "def process_text(data):\n",
    "    pymorphy2_311_hotfix()\n",
    "    morph = pymorphy2.MorphAnalyzer()\n",
    "    text = data[\"Заголовок\"] + \" \" + data[\"Текст\"]\n",
    "    words = text.lower().translate(str.maketrans('', '', string.punctuation)).translate(str.maketrans('', '', string.digits)).split()\n",
    "    lemmatized_words = [morph.parse(word)[0].normal_form for word in words]\n",
    "    return [word for word in lemmatized_words if len(word) >= 3]"
   ]
  },
  {
   "cell_type": "code",
   "execution_count": 83,
   "id": "67f6de72",
   "metadata": {},
   "outputs": [
    {
     "data": {
      "text/html": [
       "<div>\n",
       "<style scoped>\n",
       "    .dataframe tbody tr th:only-of-type {\n",
       "        vertical-align: middle;\n",
       "    }\n",
       "\n",
       "    .dataframe tbody tr th {\n",
       "        vertical-align: top;\n",
       "    }\n",
       "\n",
       "    .dataframe thead th {\n",
       "        text-align: right;\n",
       "    }\n",
       "</style>\n",
       "<table border=\"1\" class=\"dataframe\">\n",
       "  <thead>\n",
       "    <tr style=\"text-align: right;\">\n",
       "      <th></th>\n",
       "      <th>Word</th>\n",
       "      <th>Frequency</th>\n",
       "    </tr>\n",
       "  </thead>\n",
       "  <tbody>\n",
       "    <tr>\n",
       "      <th>1</th>\n",
       "      <td>спорт</td>\n",
       "      <td>4</td>\n",
       "    </tr>\n",
       "    <tr>\n",
       "      <th>0</th>\n",
       "      <td>новость</td>\n",
       "      <td>2</td>\n",
       "    </tr>\n",
       "    <tr>\n",
       "      <th>2</th>\n",
       "      <td>сегодня</td>\n",
       "      <td>1</td>\n",
       "    </tr>\n",
       "    <tr>\n",
       "      <th>3</th>\n",
       "      <td>ещё</td>\n",
       "      <td>1</td>\n",
       "    </tr>\n",
       "    <tr>\n",
       "      <th>4</th>\n",
       "      <td>раз</td>\n",
       "      <td>1</td>\n",
       "    </tr>\n",
       "  </tbody>\n",
       "</table>\n",
       "</div>"
      ],
      "text/plain": [
       "      Word  Frequency\n",
       "1    спорт          4\n",
       "0  новость          2\n",
       "2  сегодня          1\n",
       "3      ещё          1\n",
       "4      раз          1"
      ]
     },
     "execution_count": 83,
     "metadata": {},
     "output_type": "execute_result"
    }
   ],
   "source": [
    "bag = db.from_sequence([data])\n",
    "keywords = bag.map(process_text)\n",
    "all_keywords = keywords.flatten()\n",
    "keyword_counts = all_keywords.frequencies()\n",
    "pd.DataFrame(keyword_counts, columns=['Word', 'Frequency']).sort_values(by=\"Frequency\", ascending = False)"
   ]
  },
  {
   "cell_type": "markdown",
   "id": "8039479c",
   "metadata": {},
   "source": [
    "### Текстовый анализ расшифровки лекции"
   ]
  },
  {
   "cell_type": "code",
   "execution_count": 85,
   "id": "b86194ec",
   "metadata": {},
   "outputs": [],
   "source": [
    "data = db.read_text(r\"C:\\Courses\\Innopolis\\Расшифровки\\Cons_2024-11-11.txt\")"
   ]
  },
  {
   "cell_type": "code",
   "execution_count": 94,
   "id": "1f952aa8",
   "metadata": {},
   "outputs": [
    {
     "data": {
      "text/html": [
       "<div>\n",
       "<style scoped>\n",
       "    .dataframe tbody tr th:only-of-type {\n",
       "        vertical-align: middle;\n",
       "    }\n",
       "\n",
       "    .dataframe tbody tr th {\n",
       "        vertical-align: top;\n",
       "    }\n",
       "\n",
       "    .dataframe thead th {\n",
       "        text-align: right;\n",
       "    }\n",
       "</style>\n",
       "<table border=\"1\" class=\"dataframe\">\n",
       "  <thead>\n",
       "    <tr style=\"text-align: right;\">\n",
       "      <th></th>\n",
       "      <th>Word</th>\n",
       "      <th>Frequency</th>\n",
       "    </tr>\n",
       "  </thead>\n",
       "  <tbody>\n",
       "    <tr>\n",
       "      <th>144</th>\n",
       "      <td>Иннополис</td>\n",
       "      <td>625</td>\n",
       "    </tr>\n",
       "    <tr>\n",
       "      <th>143</th>\n",
       "      <td>Университет</td>\n",
       "      <td>625</td>\n",
       "    </tr>\n",
       "    <tr>\n",
       "      <th>200</th>\n",
       "      <td>вот</td>\n",
       "      <td>238</td>\n",
       "    </tr>\n",
       "    <tr>\n",
       "      <th>385</th>\n",
       "      <td>мы</td>\n",
       "      <td>125</td>\n",
       "    </tr>\n",
       "    <tr>\n",
       "      <th>193</th>\n",
       "      <td>у</td>\n",
       "      <td>122</td>\n",
       "    </tr>\n",
       "    <tr>\n",
       "      <th>...</th>\n",
       "      <td>...</td>\n",
       "      <td>...</td>\n",
       "    </tr>\n",
       "    <tr>\n",
       "      <th>2997</th>\n",
       "      <td>смысле,</td>\n",
       "      <td>1</td>\n",
       "    </tr>\n",
       "    <tr>\n",
       "      <th>2996</th>\n",
       "      <td>увидел</td>\n",
       "      <td>1</td>\n",
       "    </tr>\n",
       "    <tr>\n",
       "      <th>2995</th>\n",
       "      <td>списке</td>\n",
       "      <td>1</td>\n",
       "    </tr>\n",
       "    <tr>\n",
       "      <th>2994</th>\n",
       "      <td>20:05:57:</td>\n",
       "      <td>1</td>\n",
       "    </tr>\n",
       "    <tr>\n",
       "      <th>2993</th>\n",
       "      <td>загружать</td>\n",
       "      <td>1</td>\n",
       "    </tr>\n",
       "  </tbody>\n",
       "</table>\n",
       "<p>3025 rows × 2 columns</p>\n",
       "</div>"
      ],
      "text/plain": [
       "             Word  Frequency\n",
       "144     Иннополис        625\n",
       "143   Университет        625\n",
       "200           вот        238\n",
       "385            мы        125\n",
       "193             у        122\n",
       "...           ...        ...\n",
       "2997      смысле,          1\n",
       "2996       увидел          1\n",
       "2995       списке          1\n",
       "2994    20:05:57:          1\n",
       "2993    загружать          1\n",
       "\n",
       "[3025 rows x 2 columns]"
      ]
     },
     "execution_count": 94,
     "metadata": {},
     "output_type": "execute_result"
    }
   ],
   "source": [
    "words = data.str.split().flatten()\n",
    "word_count = words.frequencies()\n",
    "counts = pd.DataFrame(word_count, columns=['Word', 'Frequency']).sort_values(by = 'Frequency', ascending = False)\n",
    "counts "
   ]
  },
  {
   "cell_type": "code",
   "execution_count": 107,
   "id": "b5e7937e",
   "metadata": {},
   "outputs": [],
   "source": [
    "#text = ' '.join(words.compute())\n",
    "words = text.lower().translate(str.maketrans('', '', string.punctuation)).translate(str.maketrans('', '', string.digits)).split()\n",
    "long_words = [word for word in words if len(word) >= 3]\n",
    "lemmatized_words = [morph.parse(word)[0].normal_form for word in long_words]"
   ]
  },
  {
   "cell_type": "code",
   "execution_count": 113,
   "id": "a35270a2",
   "metadata": {},
   "outputs": [
    {
     "name": "stderr",
     "output_type": "stream",
     "text": [
      "BokehUserWarning: ColumnDataSource's columns must be of the same length. Current lengths: ('alpha', 624), ('color', 376), ('duration', 624), ('duration_text', 376), ('key', 376), ('name', 376), ('start', 624), ('worker', 376), ('worker_thread', 376), ('y', 624)\n",
      "BokehUserWarning: ColumnDataSource's columns must be of the same length. Current lengths: ('alpha', 881), ('color', 367), ('duration', 881), ('duration_text', 367), ('key', 367), ('name', 367), ('start', 881), ('worker', 367), ('worker_thread', 367), ('y', 881)\n",
      "BokehUserWarning: ColumnDataSource's columns must be of the same length. Current lengths: ('alpha', 1000), ('color', 416), ('duration', 1000), ('duration_text', 416), ('key', 416), ('name', 416), ('start', 1000), ('worker', 416), ('worker_thread', 416), ('y', 1000)\n",
      "BokehUserWarning: ColumnDataSource's columns must be of the same length. Current lengths: ('alpha', 1000), ('color', 311), ('duration', 1000), ('duration_text', 311), ('key', 311), ('name', 311), ('start', 1000), ('worker', 311), ('worker_thread', 311), ('y', 1000)\n",
      "BokehUserWarning: ColumnDataSource's columns must be of the same length. Current lengths: ('alpha', 1000), ('color', 462), ('duration', 1000), ('duration_text', 462), ('key', 462), ('name', 462), ('start', 1000), ('worker', 462), ('worker_thread', 462), ('y', 1000)\n",
      "BokehUserWarning: ColumnDataSource's columns must be of the same length. Current lengths: ('alpha', 1000), ('color', 354), ('duration', 1000), ('duration_text', 354), ('key', 354), ('name', 354), ('start', 1000), ('worker', 354), ('worker_thread', 354), ('y', 1000)\n",
      "BokehUserWarning: ColumnDataSource's columns must be of the same length. Current lengths: ('alpha', 1000), ('color', 363), ('duration', 1000), ('duration_text', 363), ('key', 363), ('name', 363), ('start', 1000), ('worker', 363), ('worker_thread', 363), ('y', 1000)\n"
     ]
    }
   ],
   "source": [
    "keywords = db.from_sequence(lemmatized_words)\n",
    "keyword_counts = keywords.frequencies()\n",
    "word_counts = pd.DataFrame(keyword_counts, columns=['Word', 'Frequency']).sort_values(by=\"Frequency\", ascending = False)"
   ]
  },
  {
   "cell_type": "code",
   "execution_count": 116,
   "id": "bc6908ba",
   "metadata": {},
   "outputs": [
    {
     "data": {
      "text/html": [
       "<div>\n",
       "<style scoped>\n",
       "    .dataframe tbody tr th:only-of-type {\n",
       "        vertical-align: middle;\n",
       "    }\n",
       "\n",
       "    .dataframe tbody tr th {\n",
       "        vertical-align: top;\n",
       "    }\n",
       "\n",
       "    .dataframe thead th {\n",
       "        text-align: right;\n",
       "    }\n",
       "</style>\n",
       "<table border=\"1\" class=\"dataframe\">\n",
       "  <thead>\n",
       "    <tr style=\"text-align: right;\">\n",
       "      <th></th>\n",
       "      <th>Word</th>\n",
       "      <th>Frequency</th>\n",
       "    </tr>\n",
       "  </thead>\n",
       "  <tbody>\n",
       "    <tr>\n",
       "      <th>107</th>\n",
       "      <td>университет</td>\n",
       "      <td>626</td>\n",
       "    </tr>\n",
       "    <tr>\n",
       "      <th>108</th>\n",
       "      <td>иннополис</td>\n",
       "      <td>625</td>\n",
       "    </tr>\n",
       "    <tr>\n",
       "      <th>142</th>\n",
       "      <td>вот</td>\n",
       "      <td>360</td>\n",
       "    </tr>\n",
       "    <tr>\n",
       "      <th>157</th>\n",
       "      <td>это</td>\n",
       "      <td>139</td>\n",
       "    </tr>\n",
       "    <tr>\n",
       "      <th>160</th>\n",
       "      <td>что</td>\n",
       "      <td>128</td>\n",
       "    </tr>\n",
       "    <tr>\n",
       "      <th>298</th>\n",
       "      <td>мы</td>\n",
       "      <td>123</td>\n",
       "    </tr>\n",
       "    <tr>\n",
       "      <th>11</th>\n",
       "      <td>быть</td>\n",
       "      <td>106</td>\n",
       "    </tr>\n",
       "    <tr>\n",
       "      <th>73</th>\n",
       "      <td>как</td>\n",
       "      <td>106</td>\n",
       "    </tr>\n",
       "    <tr>\n",
       "      <th>113</th>\n",
       "      <td>так</td>\n",
       "      <td>105</td>\n",
       "    </tr>\n",
       "    <tr>\n",
       "      <th>164</th>\n",
       "      <td>есть</td>\n",
       "      <td>79</td>\n",
       "    </tr>\n",
       "    <tr>\n",
       "      <th>299</th>\n",
       "      <td>здесь</td>\n",
       "      <td>72</td>\n",
       "    </tr>\n",
       "    <tr>\n",
       "      <th>156</th>\n",
       "      <td>там</td>\n",
       "      <td>70</td>\n",
       "    </tr>\n",
       "    <tr>\n",
       "      <th>251</th>\n",
       "      <td>какой</td>\n",
       "      <td>64</td>\n",
       "    </tr>\n",
       "    <tr>\n",
       "      <th>72</th>\n",
       "      <td>такой</td>\n",
       "      <td>62</td>\n",
       "    </tr>\n",
       "    <tr>\n",
       "      <th>133</th>\n",
       "      <td>мочь</td>\n",
       "      <td>59</td>\n",
       "    </tr>\n",
       "    <tr>\n",
       "      <th>226</th>\n",
       "      <td>смотреть</td>\n",
       "      <td>56</td>\n",
       "    </tr>\n",
       "    <tr>\n",
       "      <th>352</th>\n",
       "      <td>давать</td>\n",
       "      <td>55</td>\n",
       "    </tr>\n",
       "    <tr>\n",
       "      <th>150</th>\n",
       "      <td>вы</td>\n",
       "      <td>48</td>\n",
       "    </tr>\n",
       "    <tr>\n",
       "      <th>173</th>\n",
       "      <td>если</td>\n",
       "      <td>45</td>\n",
       "    </tr>\n",
       "    <tr>\n",
       "      <th>140</th>\n",
       "      <td>всё</td>\n",
       "      <td>44</td>\n",
       "    </tr>\n",
       "    <tr>\n",
       "      <th>182</th>\n",
       "      <td>этот</td>\n",
       "      <td>40</td>\n",
       "    </tr>\n",
       "    <tr>\n",
       "      <th>116</th>\n",
       "      <td>ещё</td>\n",
       "      <td>37</td>\n",
       "    </tr>\n",
       "    <tr>\n",
       "      <th>16</th>\n",
       "      <td>мотоцикл</td>\n",
       "      <td>35</td>\n",
       "    </tr>\n",
       "    <tr>\n",
       "      <th>506</th>\n",
       "      <td>переменный</td>\n",
       "      <td>33</td>\n",
       "    </tr>\n",
       "    <tr>\n",
       "      <th>207</th>\n",
       "      <td>видеть</td>\n",
       "      <td>33</td>\n",
       "    </tr>\n",
       "    <tr>\n",
       "      <th>60</th>\n",
       "      <td>модель</td>\n",
       "      <td>32</td>\n",
       "    </tr>\n",
       "    <tr>\n",
       "      <th>275</th>\n",
       "      <td>тот</td>\n",
       "      <td>30</td>\n",
       "    </tr>\n",
       "    <tr>\n",
       "      <th>134</th>\n",
       "      <td>посмотреть</td>\n",
       "      <td>29</td>\n",
       "    </tr>\n",
       "    <tr>\n",
       "      <th>15</th>\n",
       "      <td>цена</td>\n",
       "      <td>28</td>\n",
       "    </tr>\n",
       "    <tr>\n",
       "      <th>147</th>\n",
       "      <td>который</td>\n",
       "      <td>28</td>\n",
       "    </tr>\n",
       "    <tr>\n",
       "      <th>272</th>\n",
       "      <td>значит</td>\n",
       "      <td>28</td>\n",
       "    </tr>\n",
       "    <tr>\n",
       "      <th>180</th>\n",
       "      <td>она</td>\n",
       "      <td>27</td>\n",
       "    </tr>\n",
       "    <tr>\n",
       "      <th>220</th>\n",
       "      <td>сделать</td>\n",
       "      <td>27</td>\n",
       "    </tr>\n",
       "    <tr>\n",
       "      <th>187</th>\n",
       "      <td>очень</td>\n",
       "      <td>25</td>\n",
       "    </tr>\n",
       "    <tr>\n",
       "      <th>181</th>\n",
       "      <td>тоже</td>\n",
       "      <td>25</td>\n",
       "    </tr>\n",
       "    <tr>\n",
       "      <th>46</th>\n",
       "      <td>для</td>\n",
       "      <td>25</td>\n",
       "    </tr>\n",
       "    <tr>\n",
       "      <th>141</th>\n",
       "      <td>получаться</td>\n",
       "      <td>25</td>\n",
       "    </tr>\n",
       "    <tr>\n",
       "      <th>325</th>\n",
       "      <td>можно</td>\n",
       "      <td>25</td>\n",
       "    </tr>\n",
       "    <tr>\n",
       "      <th>345</th>\n",
       "      <td>взаимосвязь</td>\n",
       "      <td>25</td>\n",
       "    </tr>\n",
       "    <tr>\n",
       "      <th>228</th>\n",
       "      <td>наш</td>\n",
       "      <td>24</td>\n",
       "    </tr>\n",
       "    <tr>\n",
       "      <th>197</th>\n",
       "      <td>например</td>\n",
       "      <td>24</td>\n",
       "    </tr>\n",
       "    <tr>\n",
       "      <th>138</th>\n",
       "      <td>кто</td>\n",
       "      <td>23</td>\n",
       "    </tr>\n",
       "    <tr>\n",
       "      <th>422</th>\n",
       "      <td>нет</td>\n",
       "      <td>22</td>\n",
       "    </tr>\n",
       "    <tr>\n",
       "      <th>161</th>\n",
       "      <td>они</td>\n",
       "      <td>22</td>\n",
       "    </tr>\n",
       "    <tr>\n",
       "      <th>174</th>\n",
       "      <td>просто</td>\n",
       "      <td>22</td>\n",
       "    </tr>\n",
       "    <tr>\n",
       "      <th>313</th>\n",
       "      <td>говорить</td>\n",
       "      <td>21</td>\n",
       "    </tr>\n",
       "    <tr>\n",
       "      <th>195</th>\n",
       "      <td>более</td>\n",
       "      <td>20</td>\n",
       "    </tr>\n",
       "    <tr>\n",
       "      <th>316</th>\n",
       "      <td>соответственно</td>\n",
       "      <td>20</td>\n",
       "    </tr>\n",
       "    <tr>\n",
       "      <th>546</th>\n",
       "      <td>эйч</td>\n",
       "      <td>20</td>\n",
       "    </tr>\n",
       "    <tr>\n",
       "      <th>52</th>\n",
       "      <td>год</td>\n",
       "      <td>20</td>\n",
       "    </tr>\n",
       "  </tbody>\n",
       "</table>\n",
       "</div>"
      ],
      "text/plain": [
       "               Word  Frequency\n",
       "107     университет        626\n",
       "108       иннополис        625\n",
       "142             вот        360\n",
       "157             это        139\n",
       "160             что        128\n",
       "298              мы        123\n",
       "11             быть        106\n",
       "73              как        106\n",
       "113             так        105\n",
       "164            есть         79\n",
       "299           здесь         72\n",
       "156             там         70\n",
       "251           какой         64\n",
       "72            такой         62\n",
       "133            мочь         59\n",
       "226        смотреть         56\n",
       "352          давать         55\n",
       "150              вы         48\n",
       "173            если         45\n",
       "140             всё         44\n",
       "182            этот         40\n",
       "116             ещё         37\n",
       "16         мотоцикл         35\n",
       "506      переменный         33\n",
       "207          видеть         33\n",
       "60           модель         32\n",
       "275             тот         30\n",
       "134      посмотреть         29\n",
       "15             цена         28\n",
       "147         который         28\n",
       "272          значит         28\n",
       "180             она         27\n",
       "220         сделать         27\n",
       "187           очень         25\n",
       "181            тоже         25\n",
       "46              для         25\n",
       "141      получаться         25\n",
       "325           можно         25\n",
       "345     взаимосвязь         25\n",
       "228             наш         24\n",
       "197        например         24\n",
       "138             кто         23\n",
       "422             нет         22\n",
       "161             они         22\n",
       "174          просто         22\n",
       "313        говорить         21\n",
       "195           более         20\n",
       "316  соответственно         20\n",
       "546             эйч         20\n",
       "52              год         20"
      ]
     },
     "execution_count": 116,
     "metadata": {},
     "output_type": "execute_result"
    }
   ],
   "source": [
    "word_counts.head(50)"
   ]
  },
  {
   "cell_type": "markdown",
   "id": "8adbc9d2",
   "metadata": {},
   "source": [
    "### Homework"
   ]
  },
  {
   "cell_type": "code",
   "execution_count": 31,
   "id": "b91d1f0f",
   "metadata": {},
   "outputs": [],
   "source": [
    "import bs4\n",
    "import requests\n",
    "import string\n",
    "\n",
    "url = \"http://az.lib.ru/t/tolstoj_lew_nikolaewich/text_0040.shtml\"\n",
    "response = requests.get(url)\n",
    "soup = bs4.BeautifulSoup(response.text,'lxml')\n",
    "text = soup.body.get_text(' ', strip=True)"
   ]
  }
 ],
 "metadata": {
  "kernelspec": {
   "display_name": "Python 3 (ipykernel)",
   "language": "python",
   "name": "python3"
  },
  "language_info": {
   "codemirror_mode": {
    "name": "ipython",
    "version": 3
   },
   "file_extension": ".py",
   "mimetype": "text/x-python",
   "name": "python",
   "nbconvert_exporter": "python",
   "pygments_lexer": "ipython3",
   "version": "3.11.5"
  }
 },
 "nbformat": 4,
 "nbformat_minor": 5
}
