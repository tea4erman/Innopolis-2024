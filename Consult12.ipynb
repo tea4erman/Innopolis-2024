{
 "cells": [
  {
   "cell_type": "markdown",
   "id": "135b74ee",
   "metadata": {},
   "source": [
    "### О важности удаления выбросов"
   ]
  },
  {
   "cell_type": "code",
   "execution_count": 53,
   "id": "9b9e0fa1",
   "metadata": {
    "id": "9b9e0fa1"
   },
   "outputs": [],
   "source": [
    "import numpy as np\n",
    "import pandas as pd\n",
    "import seaborn as sns\n",
    "import statsmodels.api as sm\n",
    "import matplotlib.pyplot as plt\n",
    "from scipy import stats\n",
    "from datetime import datetime"
   ]
  },
  {
   "cell_type": "code",
   "execution_count": 54,
   "id": "H2iclgweLKfJ",
   "metadata": {
    "colab": {
     "base_uri": "https://localhost:8080/",
     "height": 206
    },
    "id": "H2iclgweLKfJ",
    "outputId": "c079ce44-3a56-4c63-c7e1-9ff24fb2dbbd"
   },
   "outputs": [
    {
     "data": {
      "text/html": [
       "<div>\n",
       "<style scoped>\n",
       "    .dataframe tbody tr th:only-of-type {\n",
       "        vertical-align: middle;\n",
       "    }\n",
       "\n",
       "    .dataframe tbody tr th {\n",
       "        vertical-align: top;\n",
       "    }\n",
       "\n",
       "    .dataframe thead th {\n",
       "        text-align: right;\n",
       "    }\n",
       "</style>\n",
       "<table border=\"1\" class=\"dataframe\">\n",
       "  <thead>\n",
       "    <tr style=\"text-align: right;\">\n",
       "      <th></th>\n",
       "      <th>arrests</th>\n",
       "      <th>countyid</th>\n",
       "      <th>density</th>\n",
       "      <th>popul</th>\n",
       "      <th>perc1019</th>\n",
       "      <th>perc2029</th>\n",
       "      <th>percblack</th>\n",
       "      <th>percmale</th>\n",
       "      <th>rpcincmaint</th>\n",
       "      <th>rpcpersinc</th>\n",
       "      <th>rpcunemins</th>\n",
       "      <th>year</th>\n",
       "      <th>murders</th>\n",
       "      <th>murdrate</th>\n",
       "      <th>arrestrate</th>\n",
       "      <th>statefips</th>\n",
       "      <th>countyfips</th>\n",
       "      <th>execs</th>\n",
       "      <th>lpopul</th>\n",
       "      <th>execrate</th>\n",
       "    </tr>\n",
       "  </thead>\n",
       "  <tbody>\n",
       "    <tr>\n",
       "      <th>0</th>\n",
       "      <td>2.0</td>\n",
       "      <td>1001</td>\n",
       "      <td>54.05</td>\n",
       "      <td>32216</td>\n",
       "      <td>20.63</td>\n",
       "      <td>15.28</td>\n",
       "      <td>22.33</td>\n",
       "      <td>40.25</td>\n",
       "      <td>167.67</td>\n",
       "      <td>8780.80</td>\n",
       "      <td>29.16</td>\n",
       "      <td>1980</td>\n",
       "      <td>2</td>\n",
       "      <td>0.620810</td>\n",
       "      <td>0.620810</td>\n",
       "      <td>1</td>\n",
       "      <td>1</td>\n",
       "      <td>0</td>\n",
       "      <td>10.38022</td>\n",
       "      <td>0.0</td>\n",
       "    </tr>\n",
       "    <tr>\n",
       "      <th>1</th>\n",
       "      <td>3.0</td>\n",
       "      <td>1001</td>\n",
       "      <td>53.66</td>\n",
       "      <td>31984</td>\n",
       "      <td>20.19</td>\n",
       "      <td>15.55</td>\n",
       "      <td>22.07</td>\n",
       "      <td>40.36</td>\n",
       "      <td>167.99</td>\n",
       "      <td>8232.80</td>\n",
       "      <td>43.92</td>\n",
       "      <td>1981</td>\n",
       "      <td>1</td>\n",
       "      <td>0.312656</td>\n",
       "      <td>0.937969</td>\n",
       "      <td>1</td>\n",
       "      <td>1</td>\n",
       "      <td>0</td>\n",
       "      <td>10.37299</td>\n",
       "      <td>0.0</td>\n",
       "    </tr>\n",
       "    <tr>\n",
       "      <th>2</th>\n",
       "      <td>2.0</td>\n",
       "      <td>1001</td>\n",
       "      <td>53.75</td>\n",
       "      <td>32036</td>\n",
       "      <td>19.66</td>\n",
       "      <td>15.73</td>\n",
       "      <td>21.80</td>\n",
       "      <td>40.42</td>\n",
       "      <td>166.63</td>\n",
       "      <td>8327.61</td>\n",
       "      <td>71.41</td>\n",
       "      <td>1982</td>\n",
       "      <td>3</td>\n",
       "      <td>0.936446</td>\n",
       "      <td>0.624298</td>\n",
       "      <td>1</td>\n",
       "      <td>1</td>\n",
       "      <td>0</td>\n",
       "      <td>10.37462</td>\n",
       "      <td>0.0</td>\n",
       "    </tr>\n",
       "    <tr>\n",
       "      <th>3</th>\n",
       "      <td>7.0</td>\n",
       "      <td>1001</td>\n",
       "      <td>53.78</td>\n",
       "      <td>32056</td>\n",
       "      <td>19.10</td>\n",
       "      <td>15.88</td>\n",
       "      <td>21.53</td>\n",
       "      <td>40.47</td>\n",
       "      <td>176.53</td>\n",
       "      <td>8545.55</td>\n",
       "      <td>72.22</td>\n",
       "      <td>1983</td>\n",
       "      <td>7</td>\n",
       "      <td>2.183679</td>\n",
       "      <td>2.183679</td>\n",
       "      <td>1</td>\n",
       "      <td>1</td>\n",
       "      <td>0</td>\n",
       "      <td>10.37524</td>\n",
       "      <td>0.0</td>\n",
       "    </tr>\n",
       "    <tr>\n",
       "      <th>4</th>\n",
       "      <td>3.0</td>\n",
       "      <td>1001</td>\n",
       "      <td>53.91</td>\n",
       "      <td>32128</td>\n",
       "      <td>18.54</td>\n",
       "      <td>15.92</td>\n",
       "      <td>21.26</td>\n",
       "      <td>40.51</td>\n",
       "      <td>166.25</td>\n",
       "      <td>8965.16</td>\n",
       "      <td>40.36</td>\n",
       "      <td>1984</td>\n",
       "      <td>2</td>\n",
       "      <td>0.622510</td>\n",
       "      <td>0.933765</td>\n",
       "      <td>1</td>\n",
       "      <td>1</td>\n",
       "      <td>0</td>\n",
       "      <td>10.37748</td>\n",
       "      <td>0.0</td>\n",
       "    </tr>\n",
       "  </tbody>\n",
       "</table>\n",
       "</div>"
      ],
      "text/plain": [
       "   arrests  countyid  density  popul  perc1019  perc2029  percblack  percmale  \\\n",
       "0      2.0      1001    54.05  32216     20.63     15.28      22.33     40.25   \n",
       "1      3.0      1001    53.66  31984     20.19     15.55      22.07     40.36   \n",
       "2      2.0      1001    53.75  32036     19.66     15.73      21.80     40.42   \n",
       "3      7.0      1001    53.78  32056     19.10     15.88      21.53     40.47   \n",
       "4      3.0      1001    53.91  32128     18.54     15.92      21.26     40.51   \n",
       "\n",
       "   rpcincmaint  rpcpersinc  rpcunemins  year  murders  murdrate  arrestrate  \\\n",
       "0       167.67     8780.80       29.16  1980        2  0.620810    0.620810   \n",
       "1       167.99     8232.80       43.92  1981        1  0.312656    0.937969   \n",
       "2       166.63     8327.61       71.41  1982        3  0.936446    0.624298   \n",
       "3       176.53     8545.55       72.22  1983        7  2.183679    2.183679   \n",
       "4       166.25     8965.16       40.36  1984        2  0.622510    0.933765   \n",
       "\n",
       "   statefips  countyfips  execs    lpopul  execrate  \n",
       "0          1           1      0  10.38022       0.0  \n",
       "1          1           1      0  10.37299       0.0  \n",
       "2          1           1      0  10.37462       0.0  \n",
       "3          1           1      0  10.37524       0.0  \n",
       "4          1           1      0  10.37748       0.0  "
      ]
     },
     "execution_count": 54,
     "metadata": {},
     "output_type": "execute_result"
    }
   ],
   "source": [
    "item = 'countymurders' # Выбрать из поля Item для вашего датасета\n",
    "package = 'wooldridge' # Выбрать из поля Package для вашего датасета\n",
    "\n",
    "data = sm.datasets.get_rdataset(item, package , cache=True).data\n",
    "data.head()"
   ]
  },
  {
   "cell_type": "code",
   "execution_count": 55,
   "id": "aaa9f14f",
   "metadata": {
    "colab": {
     "base_uri": "https://localhost:8080/"
    },
    "id": "aaa9f14f",
    "outputId": "82214b10-bea0-43a9-f0c9-777ce0140681"
   },
   "outputs": [
    {
     "data": {
      "text/plain": [
       "(37349, 20)"
      ]
     },
     "execution_count": 55,
     "metadata": {},
     "output_type": "execute_result"
    }
   ],
   "source": [
    "data.shape"
   ]
  },
  {
   "cell_type": "code",
   "execution_count": 56,
   "id": "943b8dc8",
   "metadata": {
    "colab": {
     "base_uri": "https://localhost:8080/"
    },
    "id": "943b8dc8",
    "outputId": "a4dc9920-c7d1-44a3-896b-4fe7d111eac6"
   },
   "outputs": [
    {
     "name": "stdout",
     "output_type": "stream",
     "text": [
      "<class 'pandas.core.frame.DataFrame'>\n",
      "RangeIndex: 37349 entries, 0 to 37348\n",
      "Data columns (total 20 columns):\n",
      " #   Column       Non-Null Count  Dtype  \n",
      "---  ------       --------------  -----  \n",
      " 0   arrests      36845 non-null  float64\n",
      " 1   countyid     37349 non-null  int64  \n",
      " 2   density      37349 non-null  float64\n",
      " 3   popul        37349 non-null  int64  \n",
      " 4   perc1019     37349 non-null  float64\n",
      " 5   perc2029     37349 non-null  float64\n",
      " 6   percblack    37349 non-null  float64\n",
      " 7   percmale     37349 non-null  float64\n",
      " 8   rpcincmaint  37346 non-null  float64\n",
      " 9   rpcpersinc   37346 non-null  float64\n",
      " 10  rpcunemins   37346 non-null  float64\n",
      " 11  year         37349 non-null  int64  \n",
      " 12  murders      37349 non-null  int64  \n",
      " 13  murdrate     37349 non-null  float64\n",
      " 14  arrestrate   36845 non-null  float64\n",
      " 15  statefips    37349 non-null  int64  \n",
      " 16  countyfips   37349 non-null  int64  \n",
      " 17  execs        37349 non-null  int64  \n",
      " 18  lpopul       37349 non-null  float64\n",
      " 19  execrate     37349 non-null  float64\n",
      "dtypes: float64(13), int64(7)\n",
      "memory usage: 5.7 MB\n"
     ]
    }
   ],
   "source": [
    "data.info()"
   ]
  },
  {
   "cell_type": "code",
   "execution_count": 6,
   "id": "_j84LgvVPlkY",
   "metadata": {
    "colab": {
     "base_uri": "https://localhost:8080/"
    },
    "id": "_j84LgvVPlkY",
    "outputId": "2ad59e11-6c12-4b3e-d9b5-9b5432b0fe26"
   },
   "outputs": [
    {
     "data": {
      "text/plain": [
       "array([1980, 1981, 1982, 1983, 1984, 1985, 1986, 1987, 1988, 1989, 1990,\n",
       "       1991, 1992, 1993, 1994, 1995, 1996])"
      ]
     },
     "execution_count": 6,
     "metadata": {},
     "output_type": "execute_result"
    }
   ],
   "source": [
    "data['year'].unique()"
   ]
  },
  {
   "cell_type": "code",
   "execution_count": 57,
   "id": "Pny5Wb3CPuwu",
   "metadata": {
    "id": "Pny5Wb3CPuwu"
   },
   "outputs": [],
   "source": [
    "data = data[data['year']==1996]"
   ]
  },
  {
   "cell_type": "code",
   "execution_count": 58,
   "id": "wxFTyWXdRdMP",
   "metadata": {
    "colab": {
     "base_uri": "https://localhost:8080/"
    },
    "id": "wxFTyWXdRdMP",
    "outputId": "c56f03e5-409c-4d41-d92f-742b815a2d97"
   },
   "outputs": [
    {
     "data": {
      "text/plain": [
       "(2197, 20)"
      ]
     },
     "execution_count": 58,
     "metadata": {},
     "output_type": "execute_result"
    }
   ],
   "source": [
    "data.shape"
   ]
  },
  {
   "cell_type": "code",
   "execution_count": 59,
   "id": "6c8f88b5",
   "metadata": {},
   "outputs": [],
   "source": [
    "cat_vars = ['countyid']\n",
    "num_vars = ['arrestrate', 'density', 'perc1019', 'perc2029', 'percblack', 'percmale', 'rpcincmaint', 'rpcpersinc', 'rpcunemins', 'execrate']\n",
    "target_var = ['murdrate']"
   ]
  },
  {
   "cell_type": "markdown",
   "id": "2e105a30",
   "metadata": {},
   "source": [
    "### Заполним пропуски"
   ]
  },
  {
   "cell_type": "code",
   "execution_count": 60,
   "id": "9cc9c165",
   "metadata": {},
   "outputs": [],
   "source": [
    "na_cols = data.columns[data.isna().any()]\n",
    "for col in na_cols:\n",
    "    median = data.loc[:, col].dropna().median()\n",
    "    data.loc[:, col] = data.loc[:, col].fillna(value = median)"
   ]
  },
  {
   "cell_type": "markdown",
   "id": "d0c8407f",
   "metadata": {},
   "source": [
    "### Посмотрим на распределение целевой переменной"
   ]
  },
  {
   "cell_type": "code",
   "execution_count": 12,
   "id": "d0355790",
   "metadata": {},
   "outputs": [
    {
     "data": {
      "text/plain": [
       "array([[<Axes: title={'center': 'murdrate'}>]], dtype=object)"
      ]
     },
     "execution_count": 12,
     "metadata": {},
     "output_type": "execute_result"
    },
    {
     "data": {
      "image/png": "[encoded data removed]",
      "text/plain": [
       "<Figure size 640x480 with 1 Axes>"
      ]
     },
     "metadata": {},
     "output_type": "display_data"
    }
   ],
   "source": [
    "data[target_var].hist()"
   ]
  },
  {
   "cell_type": "markdown",
   "id": "564d9dd1",
   "metadata": {},
   "source": [
    "По распределению видно, что есть выбросы в правом хвосте"
   ]
  },
  {
   "cell_type": "markdown",
   "id": "420399d7",
   "metadata": {},
   "source": [
    "### Обучим модель без учета выбросов"
   ]
  },
  {
   "cell_type": "code",
   "execution_count": 13,
   "id": "8c535f58",
   "metadata": {},
   "outputs": [],
   "source": [
    "from sklearn.model_selection import train_test_split\n",
    "X_train, X_test, y_train, y_test = train_test_split(data[cat_vars + num_vars], data[target_var], test_size = 0.4, random_state = 42)"
   ]
  },
  {
   "cell_type": "code",
   "execution_count": 14,
   "id": "3c356d7a",
   "metadata": {},
   "outputs": [
    {
     "data": {
      "text/html": [
       "<style>#sk-container-id-1 {\n",
       "  /* Definition of color scheme common for light and dark mode */\n",
       "  --sklearn-color-text: black;\n",
       "  --sklearn-color-line: gray;\n",
       "  /* Definition of color scheme for unfitted estimators */\n",
       "  --sklearn-color-unfitted-level-0: #fff5e6;\n",
       "  --sklearn-color-unfitted-level-1: #f6e4d2;\n",
       "  --sklearn-color-unfitted-level-2: #ffe0b3;\n",
       "  --sklearn-color-unfitted-level-3: chocolate;\n",
       "  /* Definition of color scheme for fitted estimators */\n",
       "  --sklearn-color-fitted-level-0: #f0f8ff;\n",
       "  --sklearn-color-fitted-level-1: #d4ebff;\n",
       "  --sklearn-color-fitted-level-2: #b3dbfd;\n",
       "  --sklearn-color-fitted-level-3: cornflowerblue;\n",
       "\n",
       "  /* Specific color for light theme */\n",
       "  --sklearn-color-text-on-default-background: var(--sg-text-color, var(--theme-code-foreground, var(--jp-content-font-color1, black)));\n",
       "  --sklearn-color-background: var(--sg-background-color, var(--theme-background, var(--jp-layout-color0, white)));\n",
       "  --sklearn-color-border-box: var(--sg-text-color, var(--theme-code-foreground, var(--jp-content-font-color1, black)));\n",
       "  --sklearn-color-icon: #696969;\n",
       "\n",
       "  @media (prefers-color-scheme: dark) {\n",
       "    /* Redefinition of color scheme for dark theme */\n",
       "    --sklearn-color-text-on-default-background: var(--sg-text-color, var(--theme-code-foreground, var(--jp-content-font-color1, white)));\n",
       "    --sklearn-color-background: var(--sg-background-color, var(--theme-background, var(--jp-layout-color0, #111)));\n",
       "    --sklearn-color-border-box: var(--sg-text-color, var(--theme-code-foreground, var(--jp-content-font-color1, white)));\n",
       "    --sklearn-color-icon: #878787;\n",
       "  }\n",
       "}\n",
       "\n",
       "#sk-container-id-1 {\n",
       "  color: var(--sklearn-color-text);\n",
       "}\n",
       "\n",
       "#sk-container-id-1 pre {\n",
       "  padding: 0;\n",
       "}\n",
       "\n",
       "#sk-container-id-1 input.sk-hidden--visually {\n",
       "  border: 0;\n",
       "  clip: rect(1px 1px 1px 1px);\n",
       "  clip: rect(1px, 1px, 1px, 1px);\n",
       "  height: 1px;\n",
       "  margin: -1px;\n",
       "  overflow: hidden;\n",
       "  padding: 0;\n",
       "  position: absolute;\n",
       "  width: 1px;\n",
       "}\n",
       "\n",
       "#sk-container-id-1 div.sk-dashed-wrapped {\n",
       "  border: 1px dashed var(--sklearn-color-line);\n",
       "  margin: 0 0.4em 0.5em 0.4em;\n",
       "  box-sizing: border-box;\n",
       "  padding-bottom: 0.4em;\n",
       "  background-color: var(--sklearn-color-background);\n",
       "}\n",
       "\n",
       "#sk-container-id-1 div.sk-container {\n",
       "  /* jupyter's `normalize.less` sets `[hidden] { display: none; }`\n",
       "     but bootstrap.min.css set `[hidden] { display: none !important; }`\n",
       "     so we also need the `!important` here to be able to override the\n",
       "     default hidden behavior on the sphinx rendered scikit-learn.org.\n",
       "     See: https://github.com/scikit-learn/scikit-learn/issues/21755 */\n",
       "  display: inline-block !important;\n",
       "  position: relative;\n",
       "}\n",
       "\n",
       "#sk-container-id-1 div.sk-text-repr-fallback {\n",
       "  display: none;\n",
       "}\n",
       "\n",
       "div.sk-parallel-item,\n",
       "div.sk-serial,\n",
       "div.sk-item {\n",
       "  /* draw centered vertical line to link estimators */\n",
       "  background-image: linear-gradient(var(--sklearn-color-text-on-default-background), var(--sklearn-color-text-on-default-background));\n",
       "  background-size: 2px 100%;\n",
       "  background-repeat: no-repeat;\n",
       "  background-position: center center;\n",
       "}\n",
       "\n",
       "/* Parallel-specific style estimator block */\n",
       "\n",
       "#sk-container-id-1 div.sk-parallel-item::after {\n",
       "  content: \"\";\n",
       "  width: 100%;\n",
       "  border-bottom: 2px solid var(--sklearn-color-text-on-default-background);\n",
       "  flex-grow: 1;\n",
       "}\n",
       "\n",
       "#sk-container-id-1 div.sk-parallel {\n",
       "  display: flex;\n",
       "  align-items: stretch;\n",
       "  justify-content: center;\n",
       "  background-color: var(--sklearn-color-background);\n",
       "  position: relative;\n",
       "}\n",
       "\n",
       "#sk-container-id-1 div.sk-parallel-item {\n",
       "  display: flex;\n",
       "  flex-direction: column;\n",
       "}\n",
       "\n",
       "#sk-container-id-1 div.sk-parallel-item:first-child::after {\n",
       "  align-self: flex-end;\n",
       "  width: 50%;\n",
       "}\n",
       "\n",
       "#sk-container-id-1 div.sk-parallel-item:last-child::after {\n",
       "  align-self: flex-start;\n",
       "  width: 50%;\n",
       "}\n",
       "\n",
       "#sk-container-id-1 div.sk-parallel-item:only-child::after {\n",
       "  width: 0;\n",
       "}\n",
       "\n",
       "/* Serial-specific style estimator block */\n",
       "\n",
       "#sk-container-id-1 div.sk-serial {\n",
       "  display: flex;\n",
       "  flex-direction: column;\n",
       "  align-items: center;\n",
       "  background-color: var(--sklearn-color-background);\n",
       "  padding-right: 1em;\n",
       "  padding-left: 1em;\n",
       "}\n",
       "\n",
       "\n",
       "/* Toggleable style: style used for estimator/Pipeline/ColumnTransformer box that is\n",
       "clickable and can be expanded/collapsed.\n",
       "- Pipeline and ColumnTransformer use this feature and define the default style\n",
       "- Estimators will overwrite some part of the style using the `sk-estimator` class\n",
       "*/\n",
       "\n",
       "/* Pipeline and ColumnTransformer style (default) */\n",
       "\n",
       "#sk-container-id-1 div.sk-toggleable {\n",
       "  /* Default theme specific background. It is overwritten whether we have a\n",
       "  specific estimator or a Pipeline/ColumnTransformer */\n",
       "  background-color: var(--sklearn-color-background);\n",
       "}\n",
       "\n",
       "/* Toggleable label */\n",
       "#sk-container-id-1 label.sk-toggleable__label {\n",
       "  cursor: pointer;\n",
       "  display: block;\n",
       "  width: 100%;\n",
       "  margin-bottom: 0;\n",
       "  padding: 0.5em;\n",
       "  box-sizing: border-box;\n",
       "  text-align: center;\n",
       "}\n",
       "\n",
       "#sk-container-id-1 label.sk-toggleable__label-arrow:before {\n",
       "  /* Arrow on the left of the label */\n",
       "  content: \"▸\";\n",
       "  float: left;\n",
       "  margin-right: 0.25em;\n",
       "  color: var(--sklearn-color-icon);\n",
       "}\n",
       "\n",
       "#sk-container-id-1 label.sk-toggleable__label-arrow:hover:before {\n",
       "  color: var(--sklearn-color-text);\n",
       "}\n",
       "\n",
       "/* Toggleable content - dropdown */\n",
       "\n",
       "#sk-container-id-1 div.sk-toggleable__content {\n",
       "  max-height: 0;\n",
       "  max-width: 0;\n",
       "  overflow: hidden;\n",
       "  text-align: left;\n",
       "  /* unfitted */\n",
       "  background-color: var(--sklearn-color-unfitted-level-0);\n",
       "}\n",
       "\n",
       "#sk-container-id-1 div.sk-toggleable__content.fitted {\n",
       "  /* fitted */\n",
       "  background-color: var(--sklearn-color-fitted-level-0);\n",
       "}\n",
       "\n",
       "#sk-container-id-1 div.sk-toggleable__content pre {\n",
       "  margin: 0.2em;\n",
       "  border-radius: 0.25em;\n",
       "  color: var(--sklearn-color-text);\n",
       "  /* unfitted */\n",
       "  background-color: var(--sklearn-color-unfitted-level-0);\n",
       "}\n",
       "\n",
       "#sk-container-id-1 div.sk-toggleable__content.fitted pre {\n",
       "  /* unfitted */\n",
       "  background-color: var(--sklearn-color-fitted-level-0);\n",
       "}\n",
       "\n",
       "#sk-container-id-1 input.sk-toggleable__control:checked~div.sk-toggleable__content {\n",
       "  /* Expand drop-down */\n",
       "  max-height: 200px;\n",
       "  max-width: 100%;\n",
       "  overflow: auto;\n",
       "}\n",
       "\n",
       "#sk-container-id-1 input.sk-toggleable__control:checked~label.sk-toggleable__label-arrow:before {\n",
       "  content: \"▾\";\n",
       "}\n",
       "\n",
       "/* Pipeline/ColumnTransformer-specific style */\n",
       "\n",
       "#sk-container-id-1 div.sk-label input.sk-toggleable__control:checked~label.sk-toggleable__label {\n",
       "  color: var(--sklearn-color-text);\n",
       "  background-color: var(--sklearn-color-unfitted-level-2);\n",
       "}\n",
       "\n",
       "#sk-container-id-1 div.sk-label.fitted input.sk-toggleable__control:checked~label.sk-toggleable__label {\n",
       "  background-color: var(--sklearn-color-fitted-level-2);\n",
       "}\n",
       "\n",
       "/* Estimator-specific style */\n",
       "\n",
       "/* Colorize estimator box */\n",
       "#sk-container-id-1 div.sk-estimator input.sk-toggleable__control:checked~label.sk-toggleable__label {\n",
       "  /* unfitted */\n",
       "  background-color: var(--sklearn-color-unfitted-level-2);\n",
       "}\n",
       "\n",
       "#sk-container-id-1 div.sk-estimator.fitted input.sk-toggleable__control:checked~label.sk-toggleable__label {\n",
       "  /* fitted */\n",
       "  background-color: var(--sklearn-color-fitted-level-2);\n",
       "}\n",
       "\n",
       "#sk-container-id-1 div.sk-label label.sk-toggleable__label,\n",
       "#sk-container-id-1 div.sk-label label {\n",
       "  /* The background is the default theme color */\n",
       "  color: var(--sklearn-color-text-on-default-background);\n",
       "}\n",
       "\n",
       "/* On hover, darken the color of the background */\n",
       "#sk-container-id-1 div.sk-label:hover label.sk-toggleable__label {\n",
       "  color: var(--sklearn-color-text);\n",
       "  background-color: var(--sklearn-color-unfitted-level-2);\n",
       "}\n",
       "\n",
       "/* Label box, darken color on hover, fitted */\n",
       "#sk-container-id-1 div.sk-label.fitted:hover label.sk-toggleable__label.fitted {\n",
       "  color: var(--sklearn-color-text);\n",
       "  background-color: var(--sklearn-color-fitted-level-2);\n",
       "}\n",
       "\n",
       "/* Estimator label */\n",
       "\n",
       "#sk-container-id-1 div.sk-label label {\n",
       "  font-family: monospace;\n",
       "  font-weight: bold;\n",
       "  display: inline-block;\n",
       "  line-height: 1.2em;\n",
       "}\n",
       "\n",
       "#sk-container-id-1 div.sk-label-container {\n",
       "  text-align: center;\n",
       "}\n",
       "\n",
       "/* Estimator-specific */\n",
       "#sk-container-id-1 div.sk-estimator {\n",
       "  font-family: monospace;\n",
       "  border: 1px dotted var(--sklearn-color-border-box);\n",
       "  border-radius: 0.25em;\n",
       "  box-sizing: border-box;\n",
       "  margin-bottom: 0.5em;\n",
       "  /* unfitted */\n",
       "  background-color: var(--sklearn-color-unfitted-level-0);\n",
       "}\n",
       "\n",
       "#sk-container-id-1 div.sk-estimator.fitted {\n",
       "  /* fitted */\n",
       "  background-color: var(--sklearn-color-fitted-level-0);\n",
       "}\n",
       "\n",
       "/* on hover */\n",
       "#sk-container-id-1 div.sk-estimator:hover {\n",
       "  /* unfitted */\n",
       "  background-color: var(--sklearn-color-unfitted-level-2);\n",
       "}\n",
       "\n",
       "#sk-container-id-1 div.sk-estimator.fitted:hover {\n",
       "  /* fitted */\n",
       "  background-color: var(--sklearn-color-fitted-level-2);\n",
       "}\n",
       "\n",
       "/* Specification for estimator info (e.g. \"i\" and \"?\") */\n",
       "\n",
       "/* Common style for \"i\" and \"?\" */\n",
       "\n",
       ".sk-estimator-doc-link,\n",
       "a:link.sk-estimator-doc-link,\n",
       "a:visited.sk-estimator-doc-link {\n",
       "  float: right;\n",
       "  font-size: smaller;\n",
       "  line-height: 1em;\n",
       "  font-family: monospace;\n",
       "  background-color: var(--sklearn-color-background);\n",
       "  border-radius: 1em;\n",
       "  height: 1em;\n",
       "  width: 1em;\n",
       "  text-decoration: none !important;\n",
       "  margin-left: 1ex;\n",
       "  /* unfitted */\n",
       "  border: var(--sklearn-color-unfitted-level-1) 1pt solid;\n",
       "  color: var(--sklearn-color-unfitted-level-1);\n",
       "}\n",
       "\n",
       ".sk-estimator-doc-link.fitted,\n",
       "a:link.sk-estimator-doc-link.fitted,\n",
       "a:visited.sk-estimator-doc-link.fitted {\n",
       "  /* fitted */\n",
       "  border: var(--sklearn-color-fitted-level-1) 1pt solid;\n",
       "  color: var(--sklearn-color-fitted-level-1);\n",
       "}\n",
       "\n",
       "/* On hover */\n",
       "div.sk-estimator:hover .sk-estimator-doc-link:hover,\n",
       ".sk-estimator-doc-link:hover,\n",
       "div.sk-label-container:hover .sk-estimator-doc-link:hover,\n",
       ".sk-estimator-doc-link:hover {\n",
       "  /* unfitted */\n",
       "  background-color: var(--sklearn-color-unfitted-level-3);\n",
       "  color: var(--sklearn-color-background);\n",
       "  text-decoration: none;\n",
       "}\n",
       "\n",
       "div.sk-estimator.fitted:hover .sk-estimator-doc-link.fitted:hover,\n",
       ".sk-estimator-doc-link.fitted:hover,\n",
       "div.sk-label-container:hover .sk-estimator-doc-link.fitted:hover,\n",
       ".sk-estimator-doc-link.fitted:hover {\n",
       "  /* fitted */\n",
       "  background-color: var(--sklearn-color-fitted-level-3);\n",
       "  color: var(--sklearn-color-background);\n",
       "  text-decoration: none;\n",
       "}\n",
       "\n",
       "/* Span, style for the box shown on hovering the info icon */\n",
       ".sk-estimator-doc-link span {\n",
       "  display: none;\n",
       "  z-index: 9999;\n",
       "  position: relative;\n",
       "  font-weight: normal;\n",
       "  right: .2ex;\n",
       "  padding: .5ex;\n",
       "  margin: .5ex;\n",
       "  width: min-content;\n",
       "  min-width: 20ex;\n",
       "  max-width: 50ex;\n",
       "  color: var(--sklearn-color-text);\n",
       "  box-shadow: 2pt 2pt 4pt #999;\n",
       "  /* unfitted */\n",
       "  background: var(--sklearn-color-unfitted-level-0);\n",
       "  border: .5pt solid var(--sklearn-color-unfitted-level-3);\n",
       "}\n",
       "\n",
       ".sk-estimator-doc-link.fitted span {\n",
       "  /* fitted */\n",
       "  background: var(--sklearn-color-fitted-level-0);\n",
       "  border: var(--sklearn-color-fitted-level-3);\n",
       "}\n",
       "\n",
       ".sk-estimator-doc-link:hover span {\n",
       "  display: block;\n",
       "}\n",
       "\n",
       "/* \"?\"-specific style due to the `<a>` HTML tag */\n",
       "\n",
       "#sk-container-id-1 a.estimator_doc_link {\n",
       "  float: right;\n",
       "  font-size: 1rem;\n",
       "  line-height: 1em;\n",
       "  font-family: monospace;\n",
       "  background-color: var(--sklearn-color-background);\n",
       "  border-radius: 1rem;\n",
       "  height: 1rem;\n",
       "  width: 1rem;\n",
       "  text-decoration: none;\n",
       "  /* unfitted */\n",
       "  color: var(--sklearn-color-unfitted-level-1);\n",
       "  border: var(--sklearn-color-unfitted-level-1) 1pt solid;\n",
       "}\n",
       "\n",
       "#sk-container-id-1 a.estimator_doc_link.fitted {\n",
       "  /* fitted */\n",
       "  border: var(--sklearn-color-fitted-level-1) 1pt solid;\n",
       "  color: var(--sklearn-color-fitted-level-1);\n",
       "}\n",
       "\n",
       "/* On hover */\n",
       "#sk-container-id-1 a.estimator_doc_link:hover {\n",
       "  /* unfitted */\n",
       "  background-color: var(--sklearn-color-unfitted-level-3);\n",
       "  color: var(--sklearn-color-background);\n",
       "  text-decoration: none;\n",
       "}\n",
       "\n",
       "#sk-container-id-1 a.estimator_doc_link.fitted:hover {\n",
       "  /* fitted */\n",
       "  background-color: var(--sklearn-color-fitted-level-3);\n",
       "}\n",
       "</style><div id=\"sk-container-id-1\" class=\"sk-top-container\"><div class=\"sk-text-repr-fallback\"><pre>LinearRegression()</pre><b>In a Jupyter environment, please rerun this cell to show the HTML representation or trust the notebook. <br />On GitHub, the HTML representation is unable to render, please try loading this page with nbviewer.org.</b></div><div class=\"sk-container\" hidden><div class=\"sk-item\"><div class=\"sk-estimator fitted sk-toggleable\"><input class=\"sk-toggleable__control sk-hidden--visually\" id=\"sk-estimator-id-1\" type=\"checkbox\" checked><label for=\"sk-estimator-id-1\" class=\"sk-toggleable__label fitted sk-toggleable__label-arrow fitted\">&nbsp;&nbsp;LinearRegression<a class=\"sk-estimator-doc-link fitted\" rel=\"noreferrer\" target=\"_blank\" href=\"https://scikit-learn.org/1.5/modules/generated/sklearn.linear_model.LinearRegression.html\">?<span>Documentation for LinearRegression</span></a><span class=\"sk-estimator-doc-link fitted\">i<span>Fitted</span></span></label><div class=\"sk-toggleable__content fitted\"><pre>LinearRegression()</pre></div> </div></div></div></div>"
      ],
      "text/plain": [
       "LinearRegression()"
      ]
     },
     "execution_count": 14,
     "metadata": {},
     "output_type": "execute_result"
    }
   ],
   "source": [
    "from sklearn import linear_model\n",
    "ols = linear_model.LinearRegression()\n",
    "ols.fit(X_train, y_train)"
   ]
  },
  {
   "cell_type": "code",
   "execution_count": 15,
   "id": "1ecc20c8",
   "metadata": {},
   "outputs": [
    {
     "data": {
      "image/png": "[encoded data removed]",
      "text/plain": [
       "<Figure size 640x480 with 1 Axes>"
      ]
     },
     "metadata": {},
     "output_type": "display_data"
    }
   ],
   "source": [
    "y_pred = ols.predict(X_test)\n",
    "plt.scatter(y_test, y_pred)\n",
    "plt.show()"
   ]
  },
  {
   "cell_type": "markdown",
   "id": "2af712b1",
   "metadata": {},
   "source": [
    "Видно несколько наблюдений по диаграмме:\n",
    "\n",
    "1) В данных есть выбросы (точки, которые находятся далеко справа)\n",
    "\n",
    "2) Есть графства с нулевым процентом убийств\n",
    "\n",
    "Исходя из этого, нужно сделать два шага для повышения качества модели:\n",
    "\n",
    "1) Убрать из данных выбросы\n",
    "\n",
    "2) Обучить выборку только на тех наблюдениях, для которых значение целевой переменной не нулевое\n",
    "\n",
    "Чтобы совсем не исключить из рассмотрения те графства, у которых нет убийств, нужно построить ансамбль моделей:\n",
    "\n",
    "1) Модель классификации (1 - убийства будут и 0 - убийств не будет)\n",
    "\n",
    "2) На тех графствах, для которых 1 модель предсказала наличие убийств делать прогноз процента убийств. Для остальных этот процент будет нулевой"
   ]
  },
  {
   "cell_type": "markdown",
   "id": "a2a6b18c",
   "metadata": {},
   "source": [
    "### Убираем выбросы"
   ]
  },
  {
   "cell_type": "code",
   "execution_count": 61,
   "id": "0pV7QnhgQGBy",
   "metadata": {
    "colab": {
     "base_uri": "https://localhost:8080/",
     "height": 335
    },
    "id": "0pV7QnhgQGBy",
    "outputId": "04b0f412-f6bb-4cd3-d42a-9f0d0e2c23b4"
   },
   "outputs": [
    {
     "data": {
      "text/plain": [
       "count    2197.000000\n",
       "mean        0.421732\n",
       "std         0.778952\n",
       "min         0.000000\n",
       "25%         0.000000\n",
       "50%         0.115805\n",
       "75%         0.625587\n",
       "max        12.391570\n",
       "Name: murdrate, dtype: float64"
      ]
     },
     "execution_count": 61,
     "metadata": {},
     "output_type": "execute_result"
    }
   ],
   "source": [
    "data['murdrate'].describe()"
   ]
  },
  {
   "cell_type": "code",
   "execution_count": 62,
   "id": "4jEnavnhQP4G",
   "metadata": {
    "id": "4jEnavnhQP4G"
   },
   "outputs": [],
   "source": [
    "q1 = data['murdrate'].quantile(0.25)\n",
    "q3 = data['murdrate'].quantile(0.75)\n",
    "iqr = q3 - q1\n",
    "data = data[(data['murdrate']>=q1 - 1.5*iqr)&(data['murdrate']<=q3 + 1.5*iqr)]"
   ]
  },
  {
   "cell_type": "code",
   "execution_count": 63,
   "id": "RMb4hnIbQxln",
   "metadata": {
    "colab": {
     "base_uri": "https://localhost:8080/"
    },
    "id": "RMb4hnIbQxln",
    "outputId": "2dc29ab0-b318-4882-86b8-dac88bc08f68"
   },
   "outputs": [
    {
     "data": {
      "text/plain": [
       "(2074, 20)"
      ]
     },
     "execution_count": 63,
     "metadata": {},
     "output_type": "execute_result"
    }
   ],
   "source": [
    "data.shape"
   ]
  },
  {
   "cell_type": "markdown",
   "id": "4e107499",
   "metadata": {
    "id": "3-KwiV96MQik"
   },
   "source": [
    "### Обучаем задачу классификации"
   ]
  },
  {
   "cell_type": "code",
   "execution_count": 65,
   "id": "1b5a743e",
   "metadata": {},
   "outputs": [],
   "source": [
    "y_clf = np.where(data[target_var] == 0, 0, 1)\n",
    "X_clf = data[num_vars + cat_vars]"
   ]
  },
  {
   "cell_type": "markdown",
   "id": "8fe50bca",
   "metadata": {
    "id": "8fe50bca"
   },
   "source": [
    "### Делим выборку на обучающую, тестовую и прогнозную\n"
   ]
  },
  {
   "cell_type": "code",
   "execution_count": 66,
   "id": "2027c9a5",
   "metadata": {
    "id": "2027c9a5"
   },
   "outputs": [],
   "source": [
    "X_train_clf, X_test_clf, y_train_clf, y_test_clf = train_test_split(X_clf, y_clf, test_size = 0.4, random_state = 42)"
   ]
  },
  {
   "cell_type": "markdown",
   "id": "0ff4d173",
   "metadata": {},
   "source": [
    "#### Обучим модель логистической регрессии"
   ]
  },
  {
   "cell_type": "code",
   "execution_count": 67,
   "id": "919794dd",
   "metadata": {},
   "outputs": [
    {
     "name": "stderr",
     "output_type": "stream",
     "text": [
      "C:\\Anaconda\\Lib\\site-packages\\sklearn\\utils\\validation.py:1339: DataConversionWarning: A column-vector y was passed when a 1d array was expected. Please change the shape of y to (n_samples, ), for example using ravel().\n",
      "  y = column_or_1d(y, warn=True)\n",
      "C:\\Anaconda\\Lib\\site-packages\\sklearn\\linear_model\\_logistic.py:469: ConvergenceWarning: lbfgs failed to converge (status=1):\n",
      "STOP: TOTAL NO. of ITERATIONS REACHED LIMIT.\n",
      "\n",
      "Increase the number of iterations (max_iter) or scale the data as shown in:\n",
      "    https://scikit-learn.org/stable/modules/preprocessing.html\n",
      "Please also refer to the documentation for alternative solver options:\n",
      "    https://scikit-learn.org/stable/modules/linear_model.html#logistic-regression\n",
      "  n_iter_i = _check_optimize_result(\n"
     ]
    }
   ],
   "source": [
    "from sklearn.linear_model import LogisticRegression\n",
    "logit = LogisticRegression(random_state=0).fit(X_train_clf, y_train_clf)"
   ]
  },
  {
   "cell_type": "code",
   "execution_count": 68,
   "id": "76bbea8d",
   "metadata": {},
   "outputs": [],
   "source": [
    "y_pred_clf = logit.predict(X_test_clf)"
   ]
  },
  {
   "cell_type": "code",
   "execution_count": 69,
   "id": "ca88d43d",
   "metadata": {},
   "outputs": [
    {
     "data": {
      "text/html": [
       "<div>\n",
       "<style scoped>\n",
       "    .dataframe tbody tr th:only-of-type {\n",
       "        vertical-align: middle;\n",
       "    }\n",
       "\n",
       "    .dataframe tbody tr th {\n",
       "        vertical-align: top;\n",
       "    }\n",
       "\n",
       "    .dataframe thead th {\n",
       "        text-align: right;\n",
       "    }\n",
       "</style>\n",
       "<table border=\"1\" class=\"dataframe\">\n",
       "  <thead>\n",
       "    <tr style=\"text-align: right;\">\n",
       "      <th></th>\n",
       "      <th>Pred 0</th>\n",
       "      <th>Pred 1</th>\n",
       "    </tr>\n",
       "  </thead>\n",
       "  <tbody>\n",
       "    <tr>\n",
       "      <th>True 0</th>\n",
       "      <td>371</td>\n",
       "      <td>56</td>\n",
       "    </tr>\n",
       "    <tr>\n",
       "      <th>True 1</th>\n",
       "      <td>166</td>\n",
       "      <td>237</td>\n",
       "    </tr>\n",
       "  </tbody>\n",
       "</table>\n",
       "</div>"
      ],
      "text/plain": [
       "        Pred 0  Pred 1\n",
       "True 0     371      56\n",
       "True 1     166     237"
      ]
     },
     "execution_count": 69,
     "metadata": {},
     "output_type": "execute_result"
    }
   ],
   "source": [
    "from sklearn.metrics import confusion_matrix\n",
    "pd.DataFrame(confusion_matrix(y_test_clf, y_pred_clf), index = ['True 0', 'True 1'], columns = ['Pred 0', 'Pred 1'])"
   ]
  },
  {
   "cell_type": "code",
   "execution_count": 70,
   "id": "9dc54e10",
   "metadata": {},
   "outputs": [
    {
     "name": "stdout",
     "output_type": "stream",
     "text": [
      "Precision 0.8088737201365188\n",
      "Recall 0.5880893300248139\n"
     ]
    }
   ],
   "source": [
    "from sklearn.metrics import precision_score, recall_score\n",
    "print('Precision', precision_score(y_test_clf, y_pred_clf))\n",
    "print('Recall', recall_score(y_test_clf, y_pred_clf))"
   ]
  },
  {
   "cell_type": "markdown",
   "id": "b68a305b",
   "metadata": {
    "id": "b68a305b"
   },
   "source": [
    "### Обучаем задачу регрессии"
   ]
  },
  {
   "cell_type": "markdown",
   "id": "dace1158",
   "metadata": {},
   "source": [
    "#### Оставляем в выборке только те графства, где есть ненулевые убийства"
   ]
  },
  {
   "cell_type": "code",
   "execution_count": 45,
   "id": "44d71137",
   "metadata": {},
   "outputs": [],
   "source": [
    "data_nonnull = data[data['murdrate']>0]"
   ]
  },
  {
   "cell_type": "markdown",
   "id": "99a2170a",
   "metadata": {
    "id": "99a2170a"
   },
   "source": [
    "#### Linear Regression (OLS)"
   ]
  },
  {
   "cell_type": "code",
   "execution_count": 71,
   "id": "5d4e9483",
   "metadata": {
    "colab": {
     "base_uri": "https://localhost:8080/",
     "height": 80
    },
    "id": "5d4e9483",
    "outputId": "798855ee-86c9-400b-80a0-ba28f6eb76ab"
   },
   "outputs": [],
   "source": [
    "X_train_reg, X_test_reg, y_train_reg, y_test_reg = train_test_split(data_nonnull[cat_vars + num_vars], data_nonnull[target_var], test_size = 0.4, random_state = 42)"
   ]
  },
  {
   "cell_type": "code",
   "execution_count": 72,
   "id": "7e86a4d4",
   "metadata": {
    "id": "7e86a4d4"
   },
   "outputs": [
    {
     "data": {
      "text/html": [
       "<style>#sk-container-id-3 {\n",
       "  /* Definition of color scheme common for light and dark mode */\n",
       "  --sklearn-color-text: black;\n",
       "  --sklearn-color-line: gray;\n",
       "  /* Definition of color scheme for unfitted estimators */\n",
       "  --sklearn-color-unfitted-level-0: #fff5e6;\n",
       "  --sklearn-color-unfitted-level-1: #f6e4d2;\n",
       "  --sklearn-color-unfitted-level-2: #ffe0b3;\n",
       "  --sklearn-color-unfitted-level-3: chocolate;\n",
       "  /* Definition of color scheme for fitted estimators */\n",
       "  --sklearn-color-fitted-level-0: #f0f8ff;\n",
       "  --sklearn-color-fitted-level-1: #d4ebff;\n",
       "  --sklearn-color-fitted-level-2: #b3dbfd;\n",
       "  --sklearn-color-fitted-level-3: cornflowerblue;\n",
       "\n",
       "  /* Specific color for light theme */\n",
       "  --sklearn-color-text-on-default-background: var(--sg-text-color, var(--theme-code-foreground, var(--jp-content-font-color1, black)));\n",
       "  --sklearn-color-background: var(--sg-background-color, var(--theme-background, var(--jp-layout-color0, white)));\n",
       "  --sklearn-color-border-box: var(--sg-text-color, var(--theme-code-foreground, var(--jp-content-font-color1, black)));\n",
       "  --sklearn-color-icon: #696969;\n",
       "\n",
       "  @media (prefers-color-scheme: dark) {\n",
       "    /* Redefinition of color scheme for dark theme */\n",
       "    --sklearn-color-text-on-default-background: var(--sg-text-color, var(--theme-code-foreground, var(--jp-content-font-color1, white)));\n",
       "    --sklearn-color-background: var(--sg-background-color, var(--theme-background, var(--jp-layout-color0, #111)));\n",
       "    --sklearn-color-border-box: var(--sg-text-color, var(--theme-code-foreground, var(--jp-content-font-color1, white)));\n",
       "    --sklearn-color-icon: #878787;\n",
       "  }\n",
       "}\n",
       "\n",
       "#sk-container-id-3 {\n",
       "  color: var(--sklearn-color-text);\n",
       "}\n",
       "\n",
       "#sk-container-id-3 pre {\n",
       "  padding: 0;\n",
       "}\n",
       "\n",
       "#sk-container-id-3 input.sk-hidden--visually {\n",
       "  border: 0;\n",
       "  clip: rect(1px 1px 1px 1px);\n",
       "  clip: rect(1px, 1px, 1px, 1px);\n",
       "  height: 1px;\n",
       "  margin: -1px;\n",
       "  overflow: hidden;\n",
       "  padding: 0;\n",
       "  position: absolute;\n",
       "  width: 1px;\n",
       "}\n",
       "\n",
       "#sk-container-id-3 div.sk-dashed-wrapped {\n",
       "  border: 1px dashed var(--sklearn-color-line);\n",
       "  margin: 0 0.4em 0.5em 0.4em;\n",
       "  box-sizing: border-box;\n",
       "  padding-bottom: 0.4em;\n",
       "  background-color: var(--sklearn-color-background);\n",
       "}\n",
       "\n",
       "#sk-container-id-3 div.sk-container {\n",
       "  /* jupyter's `normalize.less` sets `[hidden] { display: none; }`\n",
       "     but bootstrap.min.css set `[hidden] { display: none !important; }`\n",
       "     so we also need the `!important` here to be able to override the\n",
       "     default hidden behavior on the sphinx rendered scikit-learn.org.\n",
       "     See: https://github.com/scikit-learn/scikit-learn/issues/21755 */\n",
       "  display: inline-block !important;\n",
       "  position: relative;\n",
       "}\n",
       "\n",
       "#sk-container-id-3 div.sk-text-repr-fallback {\n",
       "  display: none;\n",
       "}\n",
       "\n",
       "div.sk-parallel-item,\n",
       "div.sk-serial,\n",
       "div.sk-item {\n",
       "  /* draw centered vertical line to link estimators */\n",
       "  background-image: linear-gradient(var(--sklearn-color-text-on-default-background), var(--sklearn-color-text-on-default-background));\n",
       "  background-size: 2px 100%;\n",
       "  background-repeat: no-repeat;\n",
       "  background-position: center center;\n",
       "}\n",
       "\n",
       "/* Parallel-specific style estimator block */\n",
       "\n",
       "#sk-container-id-3 div.sk-parallel-item::after {\n",
       "  content: \"\";\n",
       "  width: 100%;\n",
       "  border-bottom: 2px solid var(--sklearn-color-text-on-default-background);\n",
       "  flex-grow: 1;\n",
       "}\n",
       "\n",
       "#sk-container-id-3 div.sk-parallel {\n",
       "  display: flex;\n",
       "  align-items: stretch;\n",
       "  justify-content: center;\n",
       "  background-color: var(--sklearn-color-background);\n",
       "  position: relative;\n",
       "}\n",
       "\n",
       "#sk-container-id-3 div.sk-parallel-item {\n",
       "  display: flex;\n",
       "  flex-direction: column;\n",
       "}\n",
       "\n",
       "#sk-container-id-3 div.sk-parallel-item:first-child::after {\n",
       "  align-self: flex-end;\n",
       "  width: 50%;\n",
       "}\n",
       "\n",
       "#sk-container-id-3 div.sk-parallel-item:last-child::after {\n",
       "  align-self: flex-start;\n",
       "  width: 50%;\n",
       "}\n",
       "\n",
       "#sk-container-id-3 div.sk-parallel-item:only-child::after {\n",
       "  width: 0;\n",
       "}\n",
       "\n",
       "/* Serial-specific style estimator block */\n",
       "\n",
       "#sk-container-id-3 div.sk-serial {\n",
       "  display: flex;\n",
       "  flex-direction: column;\n",
       "  align-items: center;\n",
       "  background-color: var(--sklearn-color-background);\n",
       "  padding-right: 1em;\n",
       "  padding-left: 1em;\n",
       "}\n",
       "\n",
       "\n",
       "/* Toggleable style: style used for estimator/Pipeline/ColumnTransformer box that is\n",
       "clickable and can be expanded/collapsed.\n",
       "- Pipeline and ColumnTransformer use this feature and define the default style\n",
       "- Estimators will overwrite some part of the style using the `sk-estimator` class\n",
       "*/\n",
       "\n",
       "/* Pipeline and ColumnTransformer style (default) */\n",
       "\n",
       "#sk-container-id-3 div.sk-toggleable {\n",
       "  /* Default theme specific background. It is overwritten whether we have a\n",
       "  specific estimator or a Pipeline/ColumnTransformer */\n",
       "  background-color: var(--sklearn-color-background);\n",
       "}\n",
       "\n",
       "/* Toggleable label */\n",
       "#sk-container-id-3 label.sk-toggleable__label {\n",
       "  cursor: pointer;\n",
       "  display: block;\n",
       "  width: 100%;\n",
       "  margin-bottom: 0;\n",
       "  padding: 0.5em;\n",
       "  box-sizing: border-box;\n",
       "  text-align: center;\n",
       "}\n",
       "\n",
       "#sk-container-id-3 label.sk-toggleable__label-arrow:before {\n",
       "  /* Arrow on the left of the label */\n",
       "  content: \"▸\";\n",
       "  float: left;\n",
       "  margin-right: 0.25em;\n",
       "  color: var(--sklearn-color-icon);\n",
       "}\n",
       "\n",
       "#sk-container-id-3 label.sk-toggleable__label-arrow:hover:before {\n",
       "  color: var(--sklearn-color-text);\n",
       "}\n",
       "\n",
       "/* Toggleable content - dropdown */\n",
       "\n",
       "#sk-container-id-3 div.sk-toggleable__content {\n",
       "  max-height: 0;\n",
       "  max-width: 0;\n",
       "  overflow: hidden;\n",
       "  text-align: left;\n",
       "  /* unfitted */\n",
       "  background-color: var(--sklearn-color-unfitted-level-0);\n",
       "}\n",
       "\n",
       "#sk-container-id-3 div.sk-toggleable__content.fitted {\n",
       "  /* fitted */\n",
       "  background-color: var(--sklearn-color-fitted-level-0);\n",
       "}\n",
       "\n",
       "#sk-container-id-3 div.sk-toggleable__content pre {\n",
       "  margin: 0.2em;\n",
       "  border-radius: 0.25em;\n",
       "  color: var(--sklearn-color-text);\n",
       "  /* unfitted */\n",
       "  background-color: var(--sklearn-color-unfitted-level-0);\n",
       "}\n",
       "\n",
       "#sk-container-id-3 div.sk-toggleable__content.fitted pre {\n",
       "  /* unfitted */\n",
       "  background-color: var(--sklearn-color-fitted-level-0);\n",
       "}\n",
       "\n",
       "#sk-container-id-3 input.sk-toggleable__control:checked~div.sk-toggleable__content {\n",
       "  /* Expand drop-down */\n",
       "  max-height: 200px;\n",
       "  max-width: 100%;\n",
       "  overflow: auto;\n",
       "}\n",
       "\n",
       "#sk-container-id-3 input.sk-toggleable__control:checked~label.sk-toggleable__label-arrow:before {\n",
       "  content: \"▾\";\n",
       "}\n",
       "\n",
       "/* Pipeline/ColumnTransformer-specific style */\n",
       "\n",
       "#sk-container-id-3 div.sk-label input.sk-toggleable__control:checked~label.sk-toggleable__label {\n",
       "  color: var(--sklearn-color-text);\n",
       "  background-color: var(--sklearn-color-unfitted-level-2);\n",
       "}\n",
       "\n",
       "#sk-container-id-3 div.sk-label.fitted input.sk-toggleable__control:checked~label.sk-toggleable__label {\n",
       "  background-color: var(--sklearn-color-fitted-level-2);\n",
       "}\n",
       "\n",
       "/* Estimator-specific style */\n",
       "\n",
       "/* Colorize estimator box */\n",
       "#sk-container-id-3 div.sk-estimator input.sk-toggleable__control:checked~label.sk-toggleable__label {\n",
       "  /* unfitted */\n",
       "  background-color: var(--sklearn-color-unfitted-level-2);\n",
       "}\n",
       "\n",
       "#sk-container-id-3 div.sk-estimator.fitted input.sk-toggleable__control:checked~label.sk-toggleable__label {\n",
       "  /* fitted */\n",
       "  background-color: var(--sklearn-color-fitted-level-2);\n",
       "}\n",
       "\n",
       "#sk-container-id-3 div.sk-label label.sk-toggleable__label,\n",
       "#sk-container-id-3 div.sk-label label {\n",
       "  /* The background is the default theme color */\n",
       "  color: var(--sklearn-color-text-on-default-background);\n",
       "}\n",
       "\n",
       "/* On hover, darken the color of the background */\n",
       "#sk-container-id-3 div.sk-label:hover label.sk-toggleable__label {\n",
       "  color: var(--sklearn-color-text);\n",
       "  background-color: var(--sklearn-color-unfitted-level-2);\n",
       "}\n",
       "\n",
       "/* Label box, darken color on hover, fitted */\n",
       "#sk-container-id-3 div.sk-label.fitted:hover label.sk-toggleable__label.fitted {\n",
       "  color: var(--sklearn-color-text);\n",
       "  background-color: var(--sklearn-color-fitted-level-2);\n",
       "}\n",
       "\n",
       "/* Estimator label */\n",
       "\n",
       "#sk-container-id-3 div.sk-label label {\n",
       "  font-family: monospace;\n",
       "  font-weight: bold;\n",
       "  display: inline-block;\n",
       "  line-height: 1.2em;\n",
       "}\n",
       "\n",
       "#sk-container-id-3 div.sk-label-container {\n",
       "  text-align: center;\n",
       "}\n",
       "\n",
       "/* Estimator-specific */\n",
       "#sk-container-id-3 div.sk-estimator {\n",
       "  font-family: monospace;\n",
       "  border: 1px dotted var(--sklearn-color-border-box);\n",
       "  border-radius: 0.25em;\n",
       "  box-sizing: border-box;\n",
       "  margin-bottom: 0.5em;\n",
       "  /* unfitted */\n",
       "  background-color: var(--sklearn-color-unfitted-level-0);\n",
       "}\n",
       "\n",
       "#sk-container-id-3 div.sk-estimator.fitted {\n",
       "  /* fitted */\n",
       "  background-color: var(--sklearn-color-fitted-level-0);\n",
       "}\n",
       "\n",
       "/* on hover */\n",
       "#sk-container-id-3 div.sk-estimator:hover {\n",
       "  /* unfitted */\n",
       "  background-color: var(--sklearn-color-unfitted-level-2);\n",
       "}\n",
       "\n",
       "#sk-container-id-3 div.sk-estimator.fitted:hover {\n",
       "  /* fitted */\n",
       "  background-color: var(--sklearn-color-fitted-level-2);\n",
       "}\n",
       "\n",
       "/* Specification for estimator info (e.g. \"i\" and \"?\") */\n",
       "\n",
       "/* Common style for \"i\" and \"?\" */\n",
       "\n",
       ".sk-estimator-doc-link,\n",
       "a:link.sk-estimator-doc-link,\n",
       "a:visited.sk-estimator-doc-link {\n",
       "  float: right;\n",
       "  font-size: smaller;\n",
       "  line-height: 1em;\n",
       "  font-family: monospace;\n",
       "  background-color: var(--sklearn-color-background);\n",
       "  border-radius: 1em;\n",
       "  height: 1em;\n",
       "  width: 1em;\n",
       "  text-decoration: none !important;\n",
       "  margin-left: 1ex;\n",
       "  /* unfitted */\n",
       "  border: var(--sklearn-color-unfitted-level-1) 1pt solid;\n",
       "  color: var(--sklearn-color-unfitted-level-1);\n",
       "}\n",
       "\n",
       ".sk-estimator-doc-link.fitted,\n",
       "a:link.sk-estimator-doc-link.fitted,\n",
       "a:visited.sk-estimator-doc-link.fitted {\n",
       "  /* fitted */\n",
       "  border: var(--sklearn-color-fitted-level-1) 1pt solid;\n",
       "  color: var(--sklearn-color-fitted-level-1);\n",
       "}\n",
       "\n",
       "/* On hover */\n",
       "div.sk-estimator:hover .sk-estimator-doc-link:hover,\n",
       ".sk-estimator-doc-link:hover,\n",
       "div.sk-label-container:hover .sk-estimator-doc-link:hover,\n",
       ".sk-estimator-doc-link:hover {\n",
       "  /* unfitted */\n",
       "  background-color: var(--sklearn-color-unfitted-level-3);\n",
       "  color: var(--sklearn-color-background);\n",
       "  text-decoration: none;\n",
       "}\n",
       "\n",
       "div.sk-estimator.fitted:hover .sk-estimator-doc-link.fitted:hover,\n",
       ".sk-estimator-doc-link.fitted:hover,\n",
       "div.sk-label-container:hover .sk-estimator-doc-link.fitted:hover,\n",
       ".sk-estimator-doc-link.fitted:hover {\n",
       "  /* fitted */\n",
       "  background-color: var(--sklearn-color-fitted-level-3);\n",
       "  color: var(--sklearn-color-background);\n",
       "  text-decoration: none;\n",
       "}\n",
       "\n",
       "/* Span, style for the box shown on hovering the info icon */\n",
       ".sk-estimator-doc-link span {\n",
       "  display: none;\n",
       "  z-index: 9999;\n",
       "  position: relative;\n",
       "  font-weight: normal;\n",
       "  right: .2ex;\n",
       "  padding: .5ex;\n",
       "  margin: .5ex;\n",
       "  width: min-content;\n",
       "  min-width: 20ex;\n",
       "  max-width: 50ex;\n",
       "  color: var(--sklearn-color-text);\n",
       "  box-shadow: 2pt 2pt 4pt #999;\n",
       "  /* unfitted */\n",
       "  background: var(--sklearn-color-unfitted-level-0);\n",
       "  border: .5pt solid var(--sklearn-color-unfitted-level-3);\n",
       "}\n",
       "\n",
       ".sk-estimator-doc-link.fitted span {\n",
       "  /* fitted */\n",
       "  background: var(--sklearn-color-fitted-level-0);\n",
       "  border: var(--sklearn-color-fitted-level-3);\n",
       "}\n",
       "\n",
       ".sk-estimator-doc-link:hover span {\n",
       "  display: block;\n",
       "}\n",
       "\n",
       "/* \"?\"-specific style due to the `<a>` HTML tag */\n",
       "\n",
       "#sk-container-id-3 a.estimator_doc_link {\n",
       "  float: right;\n",
       "  font-size: 1rem;\n",
       "  line-height: 1em;\n",
       "  font-family: monospace;\n",
       "  background-color: var(--sklearn-color-background);\n",
       "  border-radius: 1rem;\n",
       "  height: 1rem;\n",
       "  width: 1rem;\n",
       "  text-decoration: none;\n",
       "  /* unfitted */\n",
       "  color: var(--sklearn-color-unfitted-level-1);\n",
       "  border: var(--sklearn-color-unfitted-level-1) 1pt solid;\n",
       "}\n",
       "\n",
       "#sk-container-id-3 a.estimator_doc_link.fitted {\n",
       "  /* fitted */\n",
       "  border: var(--sklearn-color-fitted-level-1) 1pt solid;\n",
       "  color: var(--sklearn-color-fitted-level-1);\n",
       "}\n",
       "\n",
       "/* On hover */\n",
       "#sk-container-id-3 a.estimator_doc_link:hover {\n",
       "  /* unfitted */\n",
       "  background-color: var(--sklearn-color-unfitted-level-3);\n",
       "  color: var(--sklearn-color-background);\n",
       "  text-decoration: none;\n",
       "}\n",
       "\n",
       "#sk-container-id-3 a.estimator_doc_link.fitted:hover {\n",
       "  /* fitted */\n",
       "  background-color: var(--sklearn-color-fitted-level-3);\n",
       "}\n",
       "</style><div id=\"sk-container-id-3\" class=\"sk-top-container\"><div class=\"sk-text-repr-fallback\"><pre>LinearRegression()</pre><b>In a Jupyter environment, please rerun this cell to show the HTML representation or trust the notebook. <br />On GitHub, the HTML representation is unable to render, please try loading this page with nbviewer.org.</b></div><div class=\"sk-container\" hidden><div class=\"sk-item\"><div class=\"sk-estimator fitted sk-toggleable\"><input class=\"sk-toggleable__control sk-hidden--visually\" id=\"sk-estimator-id-3\" type=\"checkbox\" checked><label for=\"sk-estimator-id-3\" class=\"sk-toggleable__label fitted sk-toggleable__label-arrow fitted\">&nbsp;&nbsp;LinearRegression<a class=\"sk-estimator-doc-link fitted\" rel=\"noreferrer\" target=\"_blank\" href=\"https://scikit-learn.org/1.5/modules/generated/sklearn.linear_model.LinearRegression.html\">?<span>Documentation for LinearRegression</span></a><span class=\"sk-estimator-doc-link fitted\">i<span>Fitted</span></span></label><div class=\"sk-toggleable__content fitted\"><pre>LinearRegression()</pre></div> </div></div></div></div>"
      ],
      "text/plain": [
       "LinearRegression()"
      ]
     },
     "execution_count": 72,
     "metadata": {},
     "output_type": "execute_result"
    }
   ],
   "source": [
    "from sklearn import linear_model\n",
    "ols = linear_model.LinearRegression()\n",
    "ols.fit(X_train_reg, y_train_reg)"
   ]
  },
  {
   "cell_type": "code",
   "execution_count": 74,
   "id": "68260199",
   "metadata": {
    "colab": {
     "base_uri": "https://localhost:8080/",
     "height": 430
    },
    "id": "68260199",
    "outputId": "82ebdcde-d1fe-4437-f169-6c45f74ffaa1"
   },
   "outputs": [
    {
     "data": {
      "image/png": "[encoded data removed]",
      "text/plain": [
       "<Figure size 640x480 with 1 Axes>"
      ]
     },
     "metadata": {},
     "output_type": "display_data"
    }
   ],
   "source": [
    "y_pred_reg = ols.predict(X_test_reg)\n",
    "plt.scatter(y_test_reg, y_pred_reg)\n",
    "plt.show()"
   ]
  },
  {
   "cell_type": "markdown",
   "id": "b21bdd9d",
   "metadata": {
    "id": "b21bdd9d"
   },
   "source": [
    "### Метрики качества модели регрессии"
   ]
  },
  {
   "cell_type": "code",
   "execution_count": 75,
   "id": "c295c761",
   "metadata": {
    "colab": {
     "base_uri": "https://localhost:8080/"
    },
    "id": "c295c761",
    "outputId": "a58bd5fe-2b53-4921-8f68-90ac0ca468f9"
   },
   "outputs": [
    {
     "name": "stdout",
     "output_type": "stream",
     "text": [
      "R2 0.2717694983975997\n",
      "MAE 0.24438206751725128\n",
      "RMSE 0.3177713742853074\n",
      "MAPE 0.7330269822492343\n"
     ]
    }
   ],
   "source": [
    "from sklearn.metrics import r2_score, mean_absolute_error, mean_squared_error, mean_absolute_percentage_error\n",
    "print('R2', r2_score(y_test_reg, y_pred_reg))\n",
    "print('MAE', mean_absolute_error(y_test_reg, y_pred_reg))\n",
    "print('RMSE', np.sqrt(mean_squared_error(y_test_reg, y_pred_reg)))\n",
    "print('MAPE', mean_absolute_percentage_error(y_test_reg, y_pred_reg))"
   ]
  },
  {
   "cell_type": "markdown",
   "id": "031217c3",
   "metadata": {},
   "source": [
    "### Оценим качество ансамбля моделей"
   ]
  },
  {
   "cell_type": "markdown",
   "id": "72e1c08c",
   "metadata": {},
   "source": [
    "1) Возьмем тестовую выборку задачи классификации\n",
    "\n",
    "2) Для этой выборки сделаем предсказание, будет или нет совершено убийство в графстве\n",
    "\n",
    "3) Для тех графств, в которых будет совершено убийство, сделаем предсказание количества убийств с помощью модели регрессии\n",
    "\n",
    "4) Оценим качество модели в совокупности"
   ]
  },
  {
   "cell_type": "code",
   "execution_count": 79,
   "id": "0f5d7e88",
   "metadata": {},
   "outputs": [],
   "source": [
    "test_obs = X_test_clf.index"
   ]
  },
  {
   "cell_type": "code",
   "execution_count": 83,
   "id": "bf18217c",
   "metadata": {},
   "outputs": [
    {
     "data": {
      "text/html": [
       "<div>\n",
       "<style scoped>\n",
       "    .dataframe tbody tr th:only-of-type {\n",
       "        vertical-align: middle;\n",
       "    }\n",
       "\n",
       "    .dataframe tbody tr th {\n",
       "        vertical-align: top;\n",
       "    }\n",
       "\n",
       "    .dataframe thead th {\n",
       "        text-align: right;\n",
       "    }\n",
       "</style>\n",
       "<table border=\"1\" class=\"dataframe\">\n",
       "  <thead>\n",
       "    <tr style=\"text-align: right;\">\n",
       "      <th></th>\n",
       "      <th>countyid</th>\n",
       "      <th>arrestrate</th>\n",
       "      <th>density</th>\n",
       "      <th>perc1019</th>\n",
       "      <th>perc2029</th>\n",
       "      <th>percblack</th>\n",
       "      <th>percmale</th>\n",
       "      <th>rpcincmaint</th>\n",
       "      <th>rpcpersinc</th>\n",
       "      <th>rpcunemins</th>\n",
       "      <th>execrate</th>\n",
       "      <th>murdrate</th>\n",
       "    </tr>\n",
       "  </thead>\n",
       "  <tbody>\n",
       "    <tr>\n",
       "      <th>15724</th>\n",
       "      <td>30027</td>\n",
       "      <td>0.000000</td>\n",
       "      <td>2.926253</td>\n",
       "      <td>15.07443</td>\n",
       "      <td>8.608333</td>\n",
       "      <td>0.102386</td>\n",
       "      <td>49.34237</td>\n",
       "      <td>148.654</td>\n",
       "      <td>11246.660</td>\n",
       "      <td>58.696</td>\n",
       "      <td>0.0</td>\n",
       "      <td>0.000000</td>\n",
       "    </tr>\n",
       "    <tr>\n",
       "      <th>8176</th>\n",
       "      <td>18143</td>\n",
       "      <td>0.000000</td>\n",
       "      <td>118.970900</td>\n",
       "      <td>15.68956</td>\n",
       "      <td>13.477840</td>\n",
       "      <td>0.092707</td>\n",
       "      <td>48.82130</td>\n",
       "      <td>215.006</td>\n",
       "      <td>11230.710</td>\n",
       "      <td>33.176</td>\n",
       "      <td>0.0</td>\n",
       "      <td>0.441462</td>\n",
       "    </tr>\n",
       "    <tr>\n",
       "      <th>33166</th>\n",
       "      <td>51111</td>\n",
       "      <td>0.900576</td>\n",
       "      <td>25.718190</td>\n",
       "      <td>14.10303</td>\n",
       "      <td>9.347982</td>\n",
       "      <td>40.246760</td>\n",
       "      <td>48.58609</td>\n",
       "      <td>249.458</td>\n",
       "      <td>9240.792</td>\n",
       "      <td>30.624</td>\n",
       "      <td>0.0</td>\n",
       "      <td>0.900576</td>\n",
       "    </tr>\n",
       "    <tr>\n",
       "      <th>24122</th>\n",
       "      <td>42001</td>\n",
       "      <td>0.353270</td>\n",
       "      <td>163.315700</td>\n",
       "      <td>14.45697</td>\n",
       "      <td>13.191080</td>\n",
       "      <td>1.388349</td>\n",
       "      <td>48.99848</td>\n",
       "      <td>90.596</td>\n",
       "      <td>13250.620</td>\n",
       "      <td>68.904</td>\n",
       "      <td>0.0</td>\n",
       "      <td>0.117757</td>\n",
       "    </tr>\n",
       "    <tr>\n",
       "      <th>5201</th>\n",
       "      <td>16077</td>\n",
       "      <td>0.000000</td>\n",
       "      <td>5.857755</td>\n",
       "      <td>20.40321</td>\n",
       "      <td>11.926160</td>\n",
       "      <td>0.157882</td>\n",
       "      <td>50.24290</td>\n",
       "      <td>161.414</td>\n",
       "      <td>10785.390</td>\n",
       "      <td>67.628</td>\n",
       "      <td>0.0</td>\n",
       "      <td>1.214477</td>\n",
       "    </tr>\n",
       "  </tbody>\n",
       "</table>\n",
       "</div>"
      ],
      "text/plain": [
       "       countyid  arrestrate     density  perc1019   perc2029  percblack  \\\n",
       "15724     30027    0.000000    2.926253  15.07443   8.608333   0.102386   \n",
       "8176      18143    0.000000  118.970900  15.68956  13.477840   0.092707   \n",
       "33166     51111    0.900576   25.718190  14.10303   9.347982  40.246760   \n",
       "24122     42001    0.353270  163.315700  14.45697  13.191080   1.388349   \n",
       "5201      16077    0.000000    5.857755  20.40321  11.926160   0.157882   \n",
       "\n",
       "       percmale  rpcincmaint  rpcpersinc  rpcunemins  execrate  murdrate  \n",
       "15724  49.34237      148.654   11246.660      58.696       0.0  0.000000  \n",
       "8176   48.82130      215.006   11230.710      33.176       0.0  0.441462  \n",
       "33166  48.58609      249.458    9240.792      30.624       0.0  0.900576  \n",
       "24122  48.99848       90.596   13250.620      68.904       0.0  0.117757  \n",
       "5201   50.24290      161.414   10785.390      67.628       0.0  1.214477  "
      ]
     },
     "execution_count": 83,
     "metadata": {},
     "output_type": "execute_result"
    }
   ],
   "source": [
    "test_data = data.loc[test_obs, cat_vars + num_vars + target_var]\n",
    "test_data.head()"
   ]
  },
  {
   "cell_type": "code",
   "execution_count": 84,
   "id": "0be08e50",
   "metadata": {},
   "outputs": [
    {
     "data": {
      "text/html": [
       "<div>\n",
       "<style scoped>\n",
       "    .dataframe tbody tr th:only-of-type {\n",
       "        vertical-align: middle;\n",
       "    }\n",
       "\n",
       "    .dataframe tbody tr th {\n",
       "        vertical-align: top;\n",
       "    }\n",
       "\n",
       "    .dataframe thead th {\n",
       "        text-align: right;\n",
       "    }\n",
       "</style>\n",
       "<table border=\"1\" class=\"dataframe\">\n",
       "  <thead>\n",
       "    <tr style=\"text-align: right;\">\n",
       "      <th></th>\n",
       "      <th>countyid</th>\n",
       "      <th>arrestrate</th>\n",
       "      <th>density</th>\n",
       "      <th>perc1019</th>\n",
       "      <th>perc2029</th>\n",
       "      <th>percblack</th>\n",
       "      <th>percmale</th>\n",
       "      <th>rpcincmaint</th>\n",
       "      <th>rpcpersinc</th>\n",
       "      <th>rpcunemins</th>\n",
       "      <th>execrate</th>\n",
       "      <th>murdrate</th>\n",
       "      <th>is_murder_pred</th>\n",
       "    </tr>\n",
       "  </thead>\n",
       "  <tbody>\n",
       "    <tr>\n",
       "      <th>15724</th>\n",
       "      <td>30027</td>\n",
       "      <td>0.000000</td>\n",
       "      <td>2.926253</td>\n",
       "      <td>15.07443</td>\n",
       "      <td>8.608333</td>\n",
       "      <td>0.102386</td>\n",
       "      <td>49.34237</td>\n",
       "      <td>148.654</td>\n",
       "      <td>11246.660</td>\n",
       "      <td>58.696</td>\n",
       "      <td>0.0</td>\n",
       "      <td>0.000000</td>\n",
       "      <td>0</td>\n",
       "    </tr>\n",
       "    <tr>\n",
       "      <th>8176</th>\n",
       "      <td>18143</td>\n",
       "      <td>0.000000</td>\n",
       "      <td>118.970900</td>\n",
       "      <td>15.68956</td>\n",
       "      <td>13.477840</td>\n",
       "      <td>0.092707</td>\n",
       "      <td>48.82130</td>\n",
       "      <td>215.006</td>\n",
       "      <td>11230.710</td>\n",
       "      <td>33.176</td>\n",
       "      <td>0.0</td>\n",
       "      <td>0.441462</td>\n",
       "      <td>1</td>\n",
       "    </tr>\n",
       "    <tr>\n",
       "      <th>33166</th>\n",
       "      <td>51111</td>\n",
       "      <td>0.900576</td>\n",
       "      <td>25.718190</td>\n",
       "      <td>14.10303</td>\n",
       "      <td>9.347982</td>\n",
       "      <td>40.246760</td>\n",
       "      <td>48.58609</td>\n",
       "      <td>249.458</td>\n",
       "      <td>9240.792</td>\n",
       "      <td>30.624</td>\n",
       "      <td>0.0</td>\n",
       "      <td>0.900576</td>\n",
       "      <td>1</td>\n",
       "    </tr>\n",
       "    <tr>\n",
       "      <th>24122</th>\n",
       "      <td>42001</td>\n",
       "      <td>0.353270</td>\n",
       "      <td>163.315700</td>\n",
       "      <td>14.45697</td>\n",
       "      <td>13.191080</td>\n",
       "      <td>1.388349</td>\n",
       "      <td>48.99848</td>\n",
       "      <td>90.596</td>\n",
       "      <td>13250.620</td>\n",
       "      <td>68.904</td>\n",
       "      <td>0.0</td>\n",
       "      <td>0.117757</td>\n",
       "      <td>1</td>\n",
       "    </tr>\n",
       "    <tr>\n",
       "      <th>5201</th>\n",
       "      <td>16077</td>\n",
       "      <td>0.000000</td>\n",
       "      <td>5.857755</td>\n",
       "      <td>20.40321</td>\n",
       "      <td>11.926160</td>\n",
       "      <td>0.157882</td>\n",
       "      <td>50.24290</td>\n",
       "      <td>161.414</td>\n",
       "      <td>10785.390</td>\n",
       "      <td>67.628</td>\n",
       "      <td>0.0</td>\n",
       "      <td>1.214477</td>\n",
       "      <td>1</td>\n",
       "    </tr>\n",
       "  </tbody>\n",
       "</table>\n",
       "</div>"
      ],
      "text/plain": [
       "       countyid  arrestrate     density  perc1019   perc2029  percblack  \\\n",
       "15724     30027    0.000000    2.926253  15.07443   8.608333   0.102386   \n",
       "8176      18143    0.000000  118.970900  15.68956  13.477840   0.092707   \n",
       "33166     51111    0.900576   25.718190  14.10303   9.347982  40.246760   \n",
       "24122     42001    0.353270  163.315700  14.45697  13.191080   1.388349   \n",
       "5201      16077    0.000000    5.857755  20.40321  11.926160   0.157882   \n",
       "\n",
       "       percmale  rpcincmaint  rpcpersinc  rpcunemins  execrate  murdrate  \\\n",
       "15724  49.34237      148.654   11246.660      58.696       0.0  0.000000   \n",
       "8176   48.82130      215.006   11230.710      33.176       0.0  0.441462   \n",
       "33166  48.58609      249.458    9240.792      30.624       0.0  0.900576   \n",
       "24122  48.99848       90.596   13250.620      68.904       0.0  0.117757   \n",
       "5201   50.24290      161.414   10785.390      67.628       0.0  1.214477   \n",
       "\n",
       "       is_murder_pred  \n",
       "15724               0  \n",
       "8176                1  \n",
       "33166               1  \n",
       "24122               1  \n",
       "5201                1  "
      ]
     },
     "execution_count": 84,
     "metadata": {},
     "output_type": "execute_result"
    }
   ],
   "source": [
    "test_data['is_murder_pred'] = y_test_clf\n",
    "test_data.head()"
   ]
  },
  {
   "cell_type": "code",
   "execution_count": 85,
   "id": "f7d1953e",
   "metadata": {},
   "outputs": [],
   "source": [
    "X_test_clf_reg = test_data.loc[test_data['is_murder_pred']==1, cat_vars + num_vars]\n",
    "y_pred_clf_reg = ols.predict(X_test_clf_reg)"
   ]
  },
  {
   "cell_type": "code",
   "execution_count": 88,
   "id": "e217d7ad",
   "metadata": {},
   "outputs": [
    {
     "data": {
      "text/html": [
       "<div>\n",
       "<style scoped>\n",
       "    .dataframe tbody tr th:only-of-type {\n",
       "        vertical-align: middle;\n",
       "    }\n",
       "\n",
       "    .dataframe tbody tr th {\n",
       "        vertical-align: top;\n",
       "    }\n",
       "\n",
       "    .dataframe thead th {\n",
       "        text-align: right;\n",
       "    }\n",
       "</style>\n",
       "<table border=\"1\" class=\"dataframe\">\n",
       "  <thead>\n",
       "    <tr style=\"text-align: right;\">\n",
       "      <th></th>\n",
       "      <th>countyid</th>\n",
       "      <th>arrestrate</th>\n",
       "      <th>density</th>\n",
       "      <th>perc1019</th>\n",
       "      <th>perc2029</th>\n",
       "      <th>percblack</th>\n",
       "      <th>percmale</th>\n",
       "      <th>rpcincmaint</th>\n",
       "      <th>rpcpersinc</th>\n",
       "      <th>rpcunemins</th>\n",
       "      <th>execrate</th>\n",
       "      <th>murdrate</th>\n",
       "      <th>is_murder_pred</th>\n",
       "      <th>pred_murder</th>\n",
       "    </tr>\n",
       "  </thead>\n",
       "  <tbody>\n",
       "    <tr>\n",
       "      <th>15724</th>\n",
       "      <td>30027</td>\n",
       "      <td>0.000000</td>\n",
       "      <td>2.926253</td>\n",
       "      <td>15.07443</td>\n",
       "      <td>8.608333</td>\n",
       "      <td>0.102386</td>\n",
       "      <td>49.34237</td>\n",
       "      <td>148.654</td>\n",
       "      <td>11246.660</td>\n",
       "      <td>58.696</td>\n",
       "      <td>0.0</td>\n",
       "      <td>0.000000</td>\n",
       "      <td>0</td>\n",
       "      <td>0.000000</td>\n",
       "    </tr>\n",
       "    <tr>\n",
       "      <th>8176</th>\n",
       "      <td>18143</td>\n",
       "      <td>0.000000</td>\n",
       "      <td>118.970900</td>\n",
       "      <td>15.68956</td>\n",
       "      <td>13.477840</td>\n",
       "      <td>0.092707</td>\n",
       "      <td>48.82130</td>\n",
       "      <td>215.006</td>\n",
       "      <td>11230.710</td>\n",
       "      <td>33.176</td>\n",
       "      <td>0.0</td>\n",
       "      <td>0.441462</td>\n",
       "      <td>1</td>\n",
       "      <td>0.482089</td>\n",
       "    </tr>\n",
       "    <tr>\n",
       "      <th>33166</th>\n",
       "      <td>51111</td>\n",
       "      <td>0.900576</td>\n",
       "      <td>25.718190</td>\n",
       "      <td>14.10303</td>\n",
       "      <td>9.347982</td>\n",
       "      <td>40.246760</td>\n",
       "      <td>48.58609</td>\n",
       "      <td>249.458</td>\n",
       "      <td>9240.792</td>\n",
       "      <td>30.624</td>\n",
       "      <td>0.0</td>\n",
       "      <td>0.900576</td>\n",
       "      <td>1</td>\n",
       "      <td>0.980930</td>\n",
       "    </tr>\n",
       "    <tr>\n",
       "      <th>24122</th>\n",
       "      <td>42001</td>\n",
       "      <td>0.353270</td>\n",
       "      <td>163.315700</td>\n",
       "      <td>14.45697</td>\n",
       "      <td>13.191080</td>\n",
       "      <td>1.388349</td>\n",
       "      <td>48.99848</td>\n",
       "      <td>90.596</td>\n",
       "      <td>13250.620</td>\n",
       "      <td>68.904</td>\n",
       "      <td>0.0</td>\n",
       "      <td>0.117757</td>\n",
       "      <td>1</td>\n",
       "      <td>0.438331</td>\n",
       "    </tr>\n",
       "    <tr>\n",
       "      <th>5201</th>\n",
       "      <td>16077</td>\n",
       "      <td>0.000000</td>\n",
       "      <td>5.857755</td>\n",
       "      <td>20.40321</td>\n",
       "      <td>11.926160</td>\n",
       "      <td>0.157882</td>\n",
       "      <td>50.24290</td>\n",
       "      <td>161.414</td>\n",
       "      <td>10785.390</td>\n",
       "      <td>67.628</td>\n",
       "      <td>0.0</td>\n",
       "      <td>1.214477</td>\n",
       "      <td>1</td>\n",
       "      <td>0.492145</td>\n",
       "    </tr>\n",
       "    <tr>\n",
       "      <th>...</th>\n",
       "      <td>...</td>\n",
       "      <td>...</td>\n",
       "      <td>...</td>\n",
       "      <td>...</td>\n",
       "      <td>...</td>\n",
       "      <td>...</td>\n",
       "      <td>...</td>\n",
       "      <td>...</td>\n",
       "      <td>...</td>\n",
       "      <td>...</td>\n",
       "      <td>...</td>\n",
       "      <td>...</td>\n",
       "      <td>...</td>\n",
       "      <td>...</td>\n",
       "    </tr>\n",
       "    <tr>\n",
       "      <th>33319</th>\n",
       "      <td>51133</td>\n",
       "      <td>0.890789</td>\n",
       "      <td>58.376890</td>\n",
       "      <td>10.42223</td>\n",
       "      <td>8.311064</td>\n",
       "      <td>31.302330</td>\n",
       "      <td>47.22964</td>\n",
       "      <td>138.446</td>\n",
       "      <td>14342.240</td>\n",
       "      <td>74.646</td>\n",
       "      <td>0.0</td>\n",
       "      <td>0.000000</td>\n",
       "      <td>0</td>\n",
       "      <td>0.000000</td>\n",
       "    </tr>\n",
       "    <tr>\n",
       "      <th>3348</th>\n",
       "      <td>6109</td>\n",
       "      <td>0.383171</td>\n",
       "      <td>23.347150</td>\n",
       "      <td>12.29788</td>\n",
       "      <td>10.799680</td>\n",
       "      <td>3.513679</td>\n",
       "      <td>53.32401</td>\n",
       "      <td>281.358</td>\n",
       "      <td>11367.250</td>\n",
       "      <td>68.266</td>\n",
       "      <td>0.0</td>\n",
       "      <td>0.191586</td>\n",
       "      <td>1</td>\n",
       "      <td>0.590355</td>\n",
       "    </tr>\n",
       "    <tr>\n",
       "      <th>27777</th>\n",
       "      <td>48021</td>\n",
       "      <td>0.640765</td>\n",
       "      <td>52.699350</td>\n",
       "      <td>14.91702</td>\n",
       "      <td>10.636710</td>\n",
       "      <td>12.441530</td>\n",
       "      <td>50.68455</td>\n",
       "      <td>167.156</td>\n",
       "      <td>10988.910</td>\n",
       "      <td>29.348</td>\n",
       "      <td>0.0</td>\n",
       "      <td>1.495119</td>\n",
       "      <td>1</td>\n",
       "      <td>0.708217</td>\n",
       "    </tr>\n",
       "    <tr>\n",
       "      <th>36107</th>\n",
       "      <td>55035</td>\n",
       "      <td>0.224979</td>\n",
       "      <td>139.414600</td>\n",
       "      <td>16.66311</td>\n",
       "      <td>16.648480</td>\n",
       "      <td>0.343094</td>\n",
       "      <td>48.25922</td>\n",
       "      <td>135.256</td>\n",
       "      <td>13361.000</td>\n",
       "      <td>54.868</td>\n",
       "      <td>0.0</td>\n",
       "      <td>0.449959</td>\n",
       "      <td>1</td>\n",
       "      <td>0.380813</td>\n",
       "    </tr>\n",
       "    <tr>\n",
       "      <th>27437</th>\n",
       "      <td>47165</td>\n",
       "      <td>0.334239</td>\n",
       "      <td>226.081900</td>\n",
       "      <td>14.99144</td>\n",
       "      <td>12.383540</td>\n",
       "      <td>5.809066</td>\n",
       "      <td>49.11970</td>\n",
       "      <td>117.392</td>\n",
       "      <td>14031.530</td>\n",
       "      <td>38.918</td>\n",
       "      <td>0.0</td>\n",
       "      <td>0.501358</td>\n",
       "      <td>1</td>\n",
       "      <td>0.492476</td>\n",
       "    </tr>\n",
       "  </tbody>\n",
       "</table>\n",
       "<p>830 rows × 14 columns</p>\n",
       "</div>"
      ],
      "text/plain": [
       "       countyid  arrestrate     density  perc1019   perc2029  percblack  \\\n",
       "15724     30027    0.000000    2.926253  15.07443   8.608333   0.102386   \n",
       "8176      18143    0.000000  118.970900  15.68956  13.477840   0.092707   \n",
       "33166     51111    0.900576   25.718190  14.10303   9.347982  40.246760   \n",
       "24122     42001    0.353270  163.315700  14.45697  13.191080   1.388349   \n",
       "5201      16077    0.000000    5.857755  20.40321  11.926160   0.157882   \n",
       "...         ...         ...         ...       ...        ...        ...   \n",
       "33319     51133    0.890789   58.376890  10.42223   8.311064  31.302330   \n",
       "3348       6109    0.383171   23.347150  12.29788  10.799680   3.513679   \n",
       "27777     48021    0.640765   52.699350  14.91702  10.636710  12.441530   \n",
       "36107     55035    0.224979  139.414600  16.66311  16.648480   0.343094   \n",
       "27437     47165    0.334239  226.081900  14.99144  12.383540   5.809066   \n",
       "\n",
       "       percmale  rpcincmaint  rpcpersinc  rpcunemins  execrate  murdrate  \\\n",
       "15724  49.34237      148.654   11246.660      58.696       0.0  0.000000   \n",
       "8176   48.82130      215.006   11230.710      33.176       0.0  0.441462   \n",
       "33166  48.58609      249.458    9240.792      30.624       0.0  0.900576   \n",
       "24122  48.99848       90.596   13250.620      68.904       0.0  0.117757   \n",
       "5201   50.24290      161.414   10785.390      67.628       0.0  1.214477   \n",
       "...         ...          ...         ...         ...       ...       ...   \n",
       "33319  47.22964      138.446   14342.240      74.646       0.0  0.000000   \n",
       "3348   53.32401      281.358   11367.250      68.266       0.0  0.191586   \n",
       "27777  50.68455      167.156   10988.910      29.348       0.0  1.495119   \n",
       "36107  48.25922      135.256   13361.000      54.868       0.0  0.449959   \n",
       "27437  49.11970      117.392   14031.530      38.918       0.0  0.501358   \n",
       "\n",
       "       is_murder_pred  pred_murder  \n",
       "15724               0     0.000000  \n",
       "8176                1     0.482089  \n",
       "33166               1     0.980930  \n",
       "24122               1     0.438331  \n",
       "5201                1     0.492145  \n",
       "...               ...          ...  \n",
       "33319               0     0.000000  \n",
       "3348                1     0.590355  \n",
       "27777               1     0.708217  \n",
       "36107               1     0.380813  \n",
       "27437               1     0.492476  \n",
       "\n",
       "[830 rows x 14 columns]"
      ]
     },
     "execution_count": 88,
     "metadata": {},
     "output_type": "execute_result"
    }
   ],
   "source": [
    "test_data.loc[test_data['is_murder_pred']==1,'pred_murder'] = y_pred_clf_reg\n",
    "test_data['pred_murder'] = test_data['pred_murder'].fillna(0)\n",
    "test_data "
   ]
  },
  {
   "cell_type": "code",
   "execution_count": 89,
   "id": "498840f2",
   "metadata": {},
   "outputs": [
    {
     "data": {
      "image/png": "[encoded data removed]",
      "text/plain": [
       "<Figure size 640x480 with 1 Axes>"
      ]
     },
     "metadata": {},
     "output_type": "display_data"
    }
   ],
   "source": [
    "plt.scatter(test_data['murdrate'], test_data['pred_murder'])\n",
    "plt.show()"
   ]
  },
  {
   "cell_type": "code",
   "execution_count": 90,
   "id": "ba28f8f2",
   "metadata": {},
   "outputs": [
    {
     "name": "stdout",
     "output_type": "stream",
     "text": [
      "R2 0.6909386496498918\n",
      "MAE 0.11620715442395994\n",
      "RMSE 0.21844103423302336\n",
      "MAPE 0.34700878813439046\n"
     ]
    }
   ],
   "source": [
    "print('R2', r2_score(test_data['murdrate'], test_data['pred_murder']))\n",
    "print('MAE', mean_absolute_error(test_data['murdrate'], test_data['pred_murder']))\n",
    "print('RMSE', np.sqrt(mean_squared_error(test_data['murdrate'], test_data['pred_murder'])))\n",
    "print('MAPE', mean_absolute_percentage_error(test_data['murdrate'], test_data['pred_murder']))"
   ]
  },
  {
   "cell_type": "markdown",
   "id": "f670f137",
   "metadata": {},
   "source": [
    "### Кластеризация"
   ]
  },
  {
   "cell_type": "markdown",
   "id": "da3882a7",
   "metadata": {},
   "source": [
    "Кластеризация - это поиск скрытых закономерностей или схожестей между объектами наблюдения в данных на основе собранных переменных"
   ]
  },
  {
   "cell_type": "code",
   "execution_count": 91,
   "id": "91632b44",
   "metadata": {},
   "outputs": [
    {
     "data": {
      "text/html": [
       "<div>\n",
       "<style scoped>\n",
       "    .dataframe tbody tr th:only-of-type {\n",
       "        vertical-align: middle;\n",
       "    }\n",
       "\n",
       "    .dataframe tbody tr th {\n",
       "        vertical-align: top;\n",
       "    }\n",
       "\n",
       "    .dataframe thead th {\n",
       "        text-align: right;\n",
       "    }\n",
       "</style>\n",
       "<table border=\"1\" class=\"dataframe\">\n",
       "  <thead>\n",
       "    <tr style=\"text-align: right;\">\n",
       "      <th></th>\n",
       "      <th>arrests</th>\n",
       "      <th>countyid</th>\n",
       "      <th>density</th>\n",
       "      <th>popul</th>\n",
       "      <th>perc1019</th>\n",
       "      <th>perc2029</th>\n",
       "      <th>percblack</th>\n",
       "      <th>percmale</th>\n",
       "      <th>rpcincmaint</th>\n",
       "      <th>rpcpersinc</th>\n",
       "      <th>rpcunemins</th>\n",
       "      <th>year</th>\n",
       "      <th>murders</th>\n",
       "      <th>murdrate</th>\n",
       "      <th>arrestrate</th>\n",
       "      <th>statefips</th>\n",
       "      <th>countyfips</th>\n",
       "      <th>execs</th>\n",
       "      <th>lpopul</th>\n",
       "      <th>execrate</th>\n",
       "    </tr>\n",
       "  </thead>\n",
       "  <tbody>\n",
       "    <tr>\n",
       "      <th>16</th>\n",
       "      <td>8.0</td>\n",
       "      <td>1001</td>\n",
       "      <td>67.21535</td>\n",
       "      <td>40061</td>\n",
       "      <td>15.89077</td>\n",
       "      <td>13.17491</td>\n",
       "      <td>20.975510</td>\n",
       "      <td>48.70073</td>\n",
       "      <td>192.038</td>\n",
       "      <td>11852.760</td>\n",
       "      <td>26.796</td>\n",
       "      <td>1996</td>\n",
       "      <td>7</td>\n",
       "      <td>1.747335</td>\n",
       "      <td>1.996955</td>\n",
       "      <td>1</td>\n",
       "      <td>1</td>\n",
       "      <td>0</td>\n",
       "      <td>10.598160</td>\n",
       "      <td>0.0</td>\n",
       "    </tr>\n",
       "    <tr>\n",
       "      <th>33</th>\n",
       "      <td>6.0</td>\n",
       "      <td>1003</td>\n",
       "      <td>77.05643</td>\n",
       "      <td>123023</td>\n",
       "      <td>13.93886</td>\n",
       "      <td>11.63929</td>\n",
       "      <td>13.496660</td>\n",
       "      <td>48.83233</td>\n",
       "      <td>139.084</td>\n",
       "      <td>13583.020</td>\n",
       "      <td>28.710</td>\n",
       "      <td>1996</td>\n",
       "      <td>6</td>\n",
       "      <td>0.487714</td>\n",
       "      <td>0.487714</td>\n",
       "      <td>1</td>\n",
       "      <td>3</td>\n",
       "      <td>0</td>\n",
       "      <td>11.720130</td>\n",
       "      <td>0.0</td>\n",
       "    </tr>\n",
       "    <tr>\n",
       "      <th>50</th>\n",
       "      <td>1.0</td>\n",
       "      <td>1005</td>\n",
       "      <td>29.91548</td>\n",
       "      <td>26475</td>\n",
       "      <td>15.06327</td>\n",
       "      <td>13.69972</td>\n",
       "      <td>46.190750</td>\n",
       "      <td>49.15203</td>\n",
       "      <td>405.768</td>\n",
       "      <td>10760.510</td>\n",
       "      <td>63.162</td>\n",
       "      <td>1996</td>\n",
       "      <td>1</td>\n",
       "      <td>0.377715</td>\n",
       "      <td>0.377715</td>\n",
       "      <td>1</td>\n",
       "      <td>5</td>\n",
       "      <td>0</td>\n",
       "      <td>10.183960</td>\n",
       "      <td>0.0</td>\n",
       "    </tr>\n",
       "    <tr>\n",
       "      <th>67</th>\n",
       "      <td>0.0</td>\n",
       "      <td>1009</td>\n",
       "      <td>67.20457</td>\n",
       "      <td>43392</td>\n",
       "      <td>14.17542</td>\n",
       "      <td>12.99318</td>\n",
       "      <td>1.415007</td>\n",
       "      <td>48.97446</td>\n",
       "      <td>184.382</td>\n",
       "      <td>11094.820</td>\n",
       "      <td>21.692</td>\n",
       "      <td>1996</td>\n",
       "      <td>2</td>\n",
       "      <td>0.460915</td>\n",
       "      <td>0.000000</td>\n",
       "      <td>1</td>\n",
       "      <td>9</td>\n",
       "      <td>0</td>\n",
       "      <td>10.678030</td>\n",
       "      <td>0.0</td>\n",
       "    </tr>\n",
       "    <tr>\n",
       "      <th>84</th>\n",
       "      <td>1.0</td>\n",
       "      <td>1011</td>\n",
       "      <td>17.89899</td>\n",
       "      <td>11188</td>\n",
       "      <td>14.98927</td>\n",
       "      <td>14.13121</td>\n",
       "      <td>72.756520</td>\n",
       "      <td>49.91956</td>\n",
       "      <td>485.518</td>\n",
       "      <td>8349.506</td>\n",
       "      <td>63.162</td>\n",
       "      <td>1996</td>\n",
       "      <td>0</td>\n",
       "      <td>0.000000</td>\n",
       "      <td>0.893815</td>\n",
       "      <td>1</td>\n",
       "      <td>11</td>\n",
       "      <td>0</td>\n",
       "      <td>9.322598</td>\n",
       "      <td>0.0</td>\n",
       "    </tr>\n",
       "  </tbody>\n",
       "</table>\n",
       "</div>"
      ],
      "text/plain": [
       "    arrests  countyid   density   popul  perc1019  perc2029  percblack  \\\n",
       "16      8.0      1001  67.21535   40061  15.89077  13.17491  20.975510   \n",
       "33      6.0      1003  77.05643  123023  13.93886  11.63929  13.496660   \n",
       "50      1.0      1005  29.91548   26475  15.06327  13.69972  46.190750   \n",
       "67      0.0      1009  67.20457   43392  14.17542  12.99318   1.415007   \n",
       "84      1.0      1011  17.89899   11188  14.98927  14.13121  72.756520   \n",
       "\n",
       "    percmale  rpcincmaint  rpcpersinc  rpcunemins  year  murders  murdrate  \\\n",
       "16  48.70073      192.038   11852.760      26.796  1996        7  1.747335   \n",
       "33  48.83233      139.084   13583.020      28.710  1996        6  0.487714   \n",
       "50  49.15203      405.768   10760.510      63.162  1996        1  0.377715   \n",
       "67  48.97446      184.382   11094.820      21.692  1996        2  0.460915   \n",
       "84  49.91956      485.518    8349.506      63.162  1996        0  0.000000   \n",
       "\n",
       "    arrestrate  statefips  countyfips  execs     lpopul  execrate  \n",
       "16    1.996955          1           1      0  10.598160       0.0  \n",
       "33    0.487714          1           3      0  11.720130       0.0  \n",
       "50    0.377715          1           5      0  10.183960       0.0  \n",
       "67    0.000000          1           9      0  10.678030       0.0  \n",
       "84    0.893815          1          11      0   9.322598       0.0  "
      ]
     },
     "execution_count": 91,
     "metadata": {},
     "output_type": "execute_result"
    }
   ],
   "source": [
    "item = 'countymurders' # Выбрать из поля Item для вашего датасета\n",
    "package = 'wooldridge' # Выбрать из поля Package для вашего датасета\n",
    "\n",
    "data = sm.datasets.get_rdataset(item, package , cache=True).data\n",
    "data = data[data['year']==1996]\n",
    "data.head()"
   ]
  },
  {
   "cell_type": "code",
   "execution_count": 92,
   "id": "7b7e6409",
   "metadata": {},
   "outputs": [
    {
     "data": {
      "text/plain": [
       "2197"
      ]
     },
     "execution_count": 92,
     "metadata": {},
     "output_type": "execute_result"
    }
   ],
   "source": [
    "len(data['countyid'].unique())"
   ]
  },
  {
   "cell_type": "markdown",
   "id": "995e7390",
   "metadata": {},
   "source": [
    "Основная идея кластеризации разделить все наблюдения на несколько групп так, чтобы внутри группы наблюдения были максимально схожи, а группы при этом максимально отличались друг от друга"
   ]
  },
  {
   "cell_type": "markdown",
   "id": "aa236ee5",
   "metadata": {},
   "source": [
    "#### Проведем кластеризацию по двум признакам"
   ]
  },
  {
   "cell_type": "code",
   "execution_count": 130,
   "id": "1d74f697",
   "metadata": {},
   "outputs": [],
   "source": [
    "X = data[['murdrate', 'percblack']]"
   ]
  },
  {
   "cell_type": "code",
   "execution_count": 131,
   "id": "4e588222",
   "metadata": {},
   "outputs": [
    {
     "data": {
      "text/plain": [
       "<matplotlib.collections.PathCollection at 0x1b143eb6110>"
      ]
     },
     "execution_count": 131,
     "metadata": {},
     "output_type": "execute_result"
    },
    {
     "data": {
      "image/png": "[encoded data removed]",
      "text/plain": [
       "<Figure size 640x480 with 1 Axes>"
      ]
     },
     "metadata": {},
     "output_type": "display_data"
    }
   ],
   "source": [
    "plt.scatter(X['murdrate'], X['percblack'])"
   ]
  },
  {
   "cell_type": "markdown",
   "id": "2e806f86",
   "metadata": {},
   "source": [
    "#### Нормализуем переменные"
   ]
  },
  {
   "cell_type": "code",
   "execution_count": 132,
   "id": "3c98156a",
   "metadata": {},
   "outputs": [],
   "source": [
    "from sklearn.preprocessing import MinMaxScaler\n",
    "minmaxscaler =  MinMaxScaler().fit(X)  # fit does nothing\n",
    "X_norm = minmaxscaler.transform(X)"
   ]
  },
  {
   "cell_type": "code",
   "execution_count": 133,
   "id": "e5fcd161",
   "metadata": {},
   "outputs": [
    {
     "data": {
      "text/plain": [
       "<matplotlib.collections.PathCollection at 0x1b143dbff50>"
      ]
     },
     "execution_count": 133,
     "metadata": {},
     "output_type": "execute_result"
    },
    {
     "data": {
      "image/png": "[encoded data removed]",
      "text/plain": [
       "<Figure size 640x480 with 1 Axes>"
      ]
     },
     "metadata": {},
     "output_type": "display_data"
    }
   ],
   "source": [
    "plt.scatter(X_norm[:,0], X_norm[:,1])"
   ]
  },
  {
   "cell_type": "markdown",
   "id": "c16b680f",
   "metadata": {},
   "source": [
    "#### Для кластеризации применим метод K-means"
   ]
  },
  {
   "cell_type": "code",
   "execution_count": 134,
   "id": "ec9baac9",
   "metadata": {},
   "outputs": [],
   "source": [
    "from sklearn.cluster import KMeans\n",
    "kmeans = KMeans(n_clusters=2, random_state=0, n_init=\"auto\").fit(X_norm)"
   ]
  },
  {
   "cell_type": "code",
   "execution_count": 135,
   "id": "d58c43a1",
   "metadata": {},
   "outputs": [
    {
     "name": "stderr",
     "output_type": "stream",
     "text": [
      "C:\\Users\\D\\AppData\\Local\\Temp\\ipykernel_14860\\3425817590.py:1: SettingWithCopyWarning: \n",
      "A value is trying to be set on a copy of a slice from a DataFrame.\n",
      "Try using .loc[row_indexer,col_indexer] = value instead\n",
      "\n",
      "See the caveats in the documentation: https://pandas.pydata.org/pandas-docs/stable/user_guide/indexing.html#returning-a-view-versus-a-copy\n",
      "  X['cluster_2'] = kmeans.labels_\n"
     ]
    }
   ],
   "source": [
    "X['cluster_2'] = kmeans.labels_"
   ]
  },
  {
   "cell_type": "code",
   "execution_count": 136,
   "id": "020d5eee",
   "metadata": {},
   "outputs": [
    {
     "data": {
      "text/html": [
       "<div>\n",
       "<style scoped>\n",
       "    .dataframe tbody tr th:only-of-type {\n",
       "        vertical-align: middle;\n",
       "    }\n",
       "\n",
       "    .dataframe tbody tr th {\n",
       "        vertical-align: top;\n",
       "    }\n",
       "\n",
       "    .dataframe thead th {\n",
       "        text-align: right;\n",
       "    }\n",
       "</style>\n",
       "<table border=\"1\" class=\"dataframe\">\n",
       "  <thead>\n",
       "    <tr style=\"text-align: right;\">\n",
       "      <th></th>\n",
       "      <th>murdrate</th>\n",
       "      <th>percblack</th>\n",
       "      <th>cluster_2</th>\n",
       "    </tr>\n",
       "  </thead>\n",
       "  <tbody>\n",
       "    <tr>\n",
       "      <th>16</th>\n",
       "      <td>1.747335</td>\n",
       "      <td>20.975510</td>\n",
       "      <td>0</td>\n",
       "    </tr>\n",
       "    <tr>\n",
       "      <th>33</th>\n",
       "      <td>0.487714</td>\n",
       "      <td>13.496660</td>\n",
       "      <td>1</td>\n",
       "    </tr>\n",
       "    <tr>\n",
       "      <th>50</th>\n",
       "      <td>0.377715</td>\n",
       "      <td>46.190750</td>\n",
       "      <td>0</td>\n",
       "    </tr>\n",
       "    <tr>\n",
       "      <th>67</th>\n",
       "      <td>0.460915</td>\n",
       "      <td>1.415007</td>\n",
       "      <td>1</td>\n",
       "    </tr>\n",
       "    <tr>\n",
       "      <th>84</th>\n",
       "      <td>0.000000</td>\n",
       "      <td>72.756520</td>\n",
       "      <td>0</td>\n",
       "    </tr>\n",
       "    <tr>\n",
       "      <th>...</th>\n",
       "      <td>...</td>\n",
       "      <td>...</td>\n",
       "      <td>...</td>\n",
       "    </tr>\n",
       "    <tr>\n",
       "      <th>37280</th>\n",
       "      <td>0.496007</td>\n",
       "      <td>0.783691</td>\n",
       "      <td>1</td>\n",
       "    </tr>\n",
       "    <tr>\n",
       "      <th>37297</th>\n",
       "      <td>0.000000</td>\n",
       "      <td>0.287039</td>\n",
       "      <td>1</td>\n",
       "    </tr>\n",
       "    <tr>\n",
       "      <th>37314</th>\n",
       "      <td>0.000000</td>\n",
       "      <td>0.192545</td>\n",
       "      <td>1</td>\n",
       "    </tr>\n",
       "    <tr>\n",
       "      <th>37331</th>\n",
       "      <td>0.000000</td>\n",
       "      <td>0.243704</td>\n",
       "      <td>1</td>\n",
       "    </tr>\n",
       "    <tr>\n",
       "      <th>37348</th>\n",
       "      <td>0.000000</td>\n",
       "      <td>0.076289</td>\n",
       "      <td>1</td>\n",
       "    </tr>\n",
       "  </tbody>\n",
       "</table>\n",
       "<p>2197 rows × 3 columns</p>\n",
       "</div>"
      ],
      "text/plain": [
       "       murdrate  percblack  cluster_2\n",
       "16     1.747335  20.975510          0\n",
       "33     0.487714  13.496660          1\n",
       "50     0.377715  46.190750          0\n",
       "67     0.460915   1.415007          1\n",
       "84     0.000000  72.756520          0\n",
       "...         ...        ...        ...\n",
       "37280  0.496007   0.783691          1\n",
       "37297  0.000000   0.287039          1\n",
       "37314  0.000000   0.192545          1\n",
       "37331  0.000000   0.243704          1\n",
       "37348  0.000000   0.076289          1\n",
       "\n",
       "[2197 rows x 3 columns]"
      ]
     },
     "execution_count": 136,
     "metadata": {},
     "output_type": "execute_result"
    }
   ],
   "source": [
    "X"
   ]
  },
  {
   "cell_type": "code",
   "execution_count": 137,
   "id": "b3385076",
   "metadata": {},
   "outputs": [
    {
     "data": {
      "text/plain": [
       "<Axes: xlabel='murdrate', ylabel='percblack'>"
      ]
     },
     "execution_count": 137,
     "metadata": {},
     "output_type": "execute_result"
    },
    {
     "data": {
      "image/png": "[encoded data removed]",
      "text/plain": [
       "<Figure size 640x480 with 1 Axes>"
      ]
     },
     "metadata": {},
     "output_type": "display_data"
    }
   ],
   "source": [
    "sns.scatterplot(x = 'murdrate', y = 'percblack', hue = 'cluster_2', data = X)"
   ]
  },
  {
   "cell_type": "markdown",
   "id": "ab6a89f7",
   "metadata": {},
   "source": [
    "#### Попробуем разделить на 3 кластера"
   ]
  },
  {
   "cell_type": "code",
   "execution_count": 138,
   "id": "553ed2ac",
   "metadata": {},
   "outputs": [],
   "source": [
    "kmeans = KMeans(n_clusters = 3, random_state=0, n_init=\"auto\").fit(X_norm)"
   ]
  },
  {
   "cell_type": "code",
   "execution_count": 139,
   "id": "150ccb03",
   "metadata": {},
   "outputs": [
    {
     "name": "stderr",
     "output_type": "stream",
     "text": [
      "C:\\Users\\D\\AppData\\Local\\Temp\\ipykernel_14860\\2310907286.py:1: SettingWithCopyWarning: \n",
      "A value is trying to be set on a copy of a slice from a DataFrame.\n",
      "Try using .loc[row_indexer,col_indexer] = value instead\n",
      "\n",
      "See the caveats in the documentation: https://pandas.pydata.org/pandas-docs/stable/user_guide/indexing.html#returning-a-view-versus-a-copy\n",
      "  X['cluster_3'] = kmeans.labels_\n"
     ]
    }
   ],
   "source": [
    "X['cluster_3'] = kmeans.labels_"
   ]
  },
  {
   "cell_type": "code",
   "execution_count": 140,
   "id": "972ece5d",
   "metadata": {},
   "outputs": [
    {
     "data": {
      "text/plain": [
       "<Axes: xlabel='murdrate', ylabel='percblack'>"
      ]
     },
     "execution_count": 140,
     "metadata": {},
     "output_type": "execute_result"
    },
    {
     "data": {
      "image/png": "[encoded data removed]",
      "text/plain": [
       "<Figure size 640x480 with 1 Axes>"
      ]
     },
     "metadata": {},
     "output_type": "display_data"
    }
   ],
   "source": [
    "sns.scatterplot(x = 'murdrate', y = 'percblack', hue = 'cluster_3', data = X)"
   ]
  },
  {
   "cell_type": "code",
   "execution_count": 141,
   "id": "d0c9b1c7",
   "metadata": {},
   "outputs": [
    {
     "data": {
      "text/plain": [
       "Text(0.5, 1.0, 'Elbow curve')"
      ]
     },
     "execution_count": 141,
     "metadata": {},
     "output_type": "execute_result"
    },
    {
     "data": {
      "image/png": "[encoded data removed]",
      "text/plain": [
       "<Figure size 1500x500 with 1 Axes>"
      ]
     },
     "metadata": {},
     "output_type": "display_data"
    }
   ],
   "source": [
    "distorsions = []\n",
    "for k in range(2, 10):\n",
    "    kmeans = KMeans(n_clusters=k)\n",
    "    kmeans.fit(X_norm)\n",
    "    distorsions.append(kmeans.inertia_)\n",
    "\n",
    "fig = plt.figure(figsize=(15, 5))\n",
    "plt.plot(range(2, 10), distorsions)\n",
    "plt.grid(True)\n",
    "plt.title('Elbow curve')"
   ]
  },
  {
   "cell_type": "markdown",
   "id": "a44437a3",
   "metadata": {},
   "source": [
    "На основе метода локтя можем сказать, что наилучшим количеством кластеров является 5"
   ]
  },
  {
   "cell_type": "code",
   "execution_count": 144,
   "id": "9a7c70fe",
   "metadata": {},
   "outputs": [
    {
     "name": "stderr",
     "output_type": "stream",
     "text": [
      "C:\\Users\\D\\AppData\\Local\\Temp\\ipykernel_14860\\202845748.py:2: SettingWithCopyWarning: \n",
      "A value is trying to be set on a copy of a slice from a DataFrame.\n",
      "Try using .loc[row_indexer,col_indexer] = value instead\n",
      "\n",
      "See the caveats in the documentation: https://pandas.pydata.org/pandas-docs/stable/user_guide/indexing.html#returning-a-view-versus-a-copy\n",
      "  X['cluster_5'] = kmeans.labels_\n"
     ]
    },
    {
     "data": {
      "text/plain": [
       "<Axes: xlabel='murdrate', ylabel='percblack'>"
      ]
     },
     "execution_count": 144,
     "metadata": {},
     "output_type": "execute_result"
    },
    {
     "data": {
      "image/png": "[encoded data removed]",
      "text/plain": [
       "<Figure size 640x480 with 1 Axes>"
      ]
     },
     "metadata": {},
     "output_type": "display_data"
    }
   ],
   "source": [
    "kmeans = KMeans(n_clusters = 5, random_state=0, n_init=\"auto\").fit(X_norm)\n",
    "X['cluster_5'] = kmeans.labels_\n",
    "sns.scatterplot(x = 'murdrate', y = 'percblack', hue = 'cluster_5', data = X)"
   ]
  },
  {
   "cell_type": "markdown",
   "id": "a1776467",
   "metadata": {},
   "source": [
    "### Проведем кластеризацию, используя все переменные, доступные в данных"
   ]
  },
  {
   "cell_type": "code",
   "execution_count": 148,
   "id": "0e807f3a",
   "metadata": {},
   "outputs": [],
   "source": [
    "minmaxscaler =  MinMaxScaler().fit(data[num_vars + target_var])  # fit does nothing\n",
    "X_norm = minmaxscaler.transform(data[num_vars + target_var])"
   ]
  },
  {
   "cell_type": "code",
   "execution_count": 151,
   "id": "6f2363f9",
   "metadata": {},
   "outputs": [
    {
     "data": {
      "text/plain": [
       "Text(0.5, 1.0, 'Elbow curve')"
      ]
     },
     "execution_count": 151,
     "metadata": {},
     "output_type": "execute_result"
    },
    {
     "data": {
      "image/png": "[encoded data removed]",
      "text/plain": [
       "<Figure size 1500x500 with 1 Axes>"
      ]
     },
     "metadata": {},
     "output_type": "display_data"
    }
   ],
   "source": [
    "distorsions = []\n",
    "for k in range(2, 20):\n",
    "    kmeans = KMeans(n_clusters=k)\n",
    "    kmeans.fit(X_norm)\n",
    "    distorsions.append(kmeans.inertia_)\n",
    "\n",
    "fig = plt.figure(figsize=(15, 5))\n",
    "plt.plot(range(2, 20), distorsions)\n",
    "plt.grid(True)\n",
    "plt.title('Elbow curve')"
   ]
  },
  {
   "cell_type": "markdown",
   "id": "bcba1408",
   "metadata": {},
   "source": [
    "Выбирая между интерпретируемостью и точностью разделения, примем 10 кластеров за оптимальное число"
   ]
  },
  {
   "cell_type": "code",
   "execution_count": 155,
   "id": "ac8b6cb4",
   "metadata": {},
   "outputs": [],
   "source": [
    "kmeans = KMeans(n_clusters = 10, random_state=0, n_init=\"auto\").fit(X_norm)\n",
    "data['cluster'] = kmeans.labels_"
   ]
  },
  {
   "cell_type": "code",
   "execution_count": 157,
   "id": "e5896e44",
   "metadata": {},
   "outputs": [
    {
     "data": {
      "text/html": [
       "<div>\n",
       "<style scoped>\n",
       "    .dataframe tbody tr th:only-of-type {\n",
       "        vertical-align: middle;\n",
       "    }\n",
       "\n",
       "    .dataframe tbody tr th {\n",
       "        vertical-align: top;\n",
       "    }\n",
       "\n",
       "    .dataframe thead th {\n",
       "        text-align: right;\n",
       "    }\n",
       "</style>\n",
       "<table border=\"1\" class=\"dataframe\">\n",
       "  <thead>\n",
       "    <tr style=\"text-align: right;\">\n",
       "      <th></th>\n",
       "      <th>arrestrate</th>\n",
       "      <th>density</th>\n",
       "      <th>perc1019</th>\n",
       "      <th>perc2029</th>\n",
       "      <th>percblack</th>\n",
       "      <th>percmale</th>\n",
       "      <th>rpcincmaint</th>\n",
       "      <th>rpcpersinc</th>\n",
       "      <th>rpcunemins</th>\n",
       "      <th>execrate</th>\n",
       "      <th>murdrate</th>\n",
       "    </tr>\n",
       "    <tr>\n",
       "      <th>cluster</th>\n",
       "      <th></th>\n",
       "      <th></th>\n",
       "      <th></th>\n",
       "      <th></th>\n",
       "      <th></th>\n",
       "      <th></th>\n",
       "      <th></th>\n",
       "      <th></th>\n",
       "      <th></th>\n",
       "      <th></th>\n",
       "      <th></th>\n",
       "    </tr>\n",
       "  </thead>\n",
       "  <tbody>\n",
       "    <tr>\n",
       "      <th>0</th>\n",
       "      <td>1.667284</td>\n",
       "      <td>981.051724</td>\n",
       "      <td>16.034964</td>\n",
       "      <td>13.487021</td>\n",
       "      <td>50.467404</td>\n",
       "      <td>47.770825</td>\n",
       "      <td>421.767500</td>\n",
       "      <td>11066.379500</td>\n",
       "      <td>50.204000</td>\n",
       "      <td>0.006046</td>\n",
       "      <td>1.463844</td>\n",
       "    </tr>\n",
       "    <tr>\n",
       "      <th>1</th>\n",
       "      <td>0.391963</td>\n",
       "      <td>32.798465</td>\n",
       "      <td>14.281874</td>\n",
       "      <td>14.691693</td>\n",
       "      <td>8.981301</td>\n",
       "      <td>54.756658</td>\n",
       "      <td>203.828886</td>\n",
       "      <td>10725.305215</td>\n",
       "      <td>47.026253</td>\n",
       "      <td>0.028202</td>\n",
       "      <td>0.352699</td>\n",
       "    </tr>\n",
       "    <tr>\n",
       "      <th>2</th>\n",
       "      <td>0.256881</td>\n",
       "      <td>177.496001</td>\n",
       "      <td>14.503803</td>\n",
       "      <td>12.273741</td>\n",
       "      <td>3.515998</td>\n",
       "      <td>49.167119</td>\n",
       "      <td>136.044263</td>\n",
       "      <td>13970.351220</td>\n",
       "      <td>39.923035</td>\n",
       "      <td>0.002468</td>\n",
       "      <td>0.242997</td>\n",
       "    </tr>\n",
       "    <tr>\n",
       "      <th>3</th>\n",
       "      <td>0.890546</td>\n",
       "      <td>315.767046</td>\n",
       "      <td>14.618594</td>\n",
       "      <td>12.944408</td>\n",
       "      <td>26.248852</td>\n",
       "      <td>48.298273</td>\n",
       "      <td>247.746293</td>\n",
       "      <td>12422.238923</td>\n",
       "      <td>38.536756</td>\n",
       "      <td>0.001447</td>\n",
       "      <td>0.793995</td>\n",
       "    </tr>\n",
       "    <tr>\n",
       "      <th>4</th>\n",
       "      <td>0.341983</td>\n",
       "      <td>209.783453</td>\n",
       "      <td>15.260277</td>\n",
       "      <td>10.698677</td>\n",
       "      <td>1.903437</td>\n",
       "      <td>49.950666</td>\n",
       "      <td>233.314098</td>\n",
       "      <td>12068.927333</td>\n",
       "      <td>156.184902</td>\n",
       "      <td>0.000510</td>\n",
       "      <td>0.380095</td>\n",
       "    </tr>\n",
       "    <tr>\n",
       "      <th>5</th>\n",
       "      <td>0.287048</td>\n",
       "      <td>250.437243</td>\n",
       "      <td>16.740551</td>\n",
       "      <td>20.087174</td>\n",
       "      <td>6.039205</td>\n",
       "      <td>49.765423</td>\n",
       "      <td>144.808112</td>\n",
       "      <td>12551.546860</td>\n",
       "      <td>34.106168</td>\n",
       "      <td>0.001154</td>\n",
       "      <td>0.248627</td>\n",
       "    </tr>\n",
       "    <tr>\n",
       "      <th>6</th>\n",
       "      <td>0.349071</td>\n",
       "      <td>2548.132091</td>\n",
       "      <td>12.331838</td>\n",
       "      <td>13.595496</td>\n",
       "      <td>8.693043</td>\n",
       "      <td>49.042309</td>\n",
       "      <td>156.175684</td>\n",
       "      <td>21848.268026</td>\n",
       "      <td>61.802053</td>\n",
       "      <td>0.000279</td>\n",
       "      <td>0.359735</td>\n",
       "    </tr>\n",
       "    <tr>\n",
       "      <th>7</th>\n",
       "      <td>0.219059</td>\n",
       "      <td>24.210229</td>\n",
       "      <td>16.070438</td>\n",
       "      <td>9.820634</td>\n",
       "      <td>1.565667</td>\n",
       "      <td>49.370673</td>\n",
       "      <td>193.832748</td>\n",
       "      <td>11433.221308</td>\n",
       "      <td>33.291675</td>\n",
       "      <td>0.000224</td>\n",
       "      <td>0.228462</td>\n",
       "    </tr>\n",
       "    <tr>\n",
       "      <th>8</th>\n",
       "      <td>4.748166</td>\n",
       "      <td>10.234462</td>\n",
       "      <td>16.332431</td>\n",
       "      <td>9.734558</td>\n",
       "      <td>5.062744</td>\n",
       "      <td>50.098237</td>\n",
       "      <td>293.976222</td>\n",
       "      <td>10509.159481</td>\n",
       "      <td>34.711926</td>\n",
       "      <td>0.000000</td>\n",
       "      <td>3.558255</td>\n",
       "    </tr>\n",
       "    <tr>\n",
       "      <th>9</th>\n",
       "      <td>0.266189</td>\n",
       "      <td>87.570939</td>\n",
       "      <td>14.855853</td>\n",
       "      <td>11.092784</td>\n",
       "      <td>1.903243</td>\n",
       "      <td>49.306274</td>\n",
       "      <td>247.958455</td>\n",
       "      <td>11481.563841</td>\n",
       "      <td>83.866813</td>\n",
       "      <td>0.001881</td>\n",
       "      <td>0.247232</td>\n",
       "    </tr>\n",
       "  </tbody>\n",
       "</table>\n",
       "</div>"
      ],
      "text/plain": [
       "         arrestrate      density   perc1019   perc2029  percblack   percmale  \\\n",
       "cluster                                                                        \n",
       "0          1.667284   981.051724  16.034964  13.487021  50.467404  47.770825   \n",
       "1          0.391963    32.798465  14.281874  14.691693   8.981301  54.756658   \n",
       "2          0.256881   177.496001  14.503803  12.273741   3.515998  49.167119   \n",
       "3          0.890546   315.767046  14.618594  12.944408  26.248852  48.298273   \n",
       "4          0.341983   209.783453  15.260277  10.698677   1.903437  49.950666   \n",
       "5          0.287048   250.437243  16.740551  20.087174   6.039205  49.765423   \n",
       "6          0.349071  2548.132091  12.331838  13.595496   8.693043  49.042309   \n",
       "7          0.219059    24.210229  16.070438   9.820634   1.565667  49.370673   \n",
       "8          4.748166    10.234462  16.332431   9.734558   5.062744  50.098237   \n",
       "9          0.266189    87.570939  14.855853  11.092784   1.903243  49.306274   \n",
       "\n",
       "         rpcincmaint    rpcpersinc  rpcunemins  execrate  murdrate  \n",
       "cluster                                                             \n",
       "0         421.767500  11066.379500   50.204000  0.006046  1.463844  \n",
       "1         203.828886  10725.305215   47.026253  0.028202  0.352699  \n",
       "2         136.044263  13970.351220   39.923035  0.002468  0.242997  \n",
       "3         247.746293  12422.238923   38.536756  0.001447  0.793995  \n",
       "4         233.314098  12068.927333  156.184902  0.000510  0.380095  \n",
       "5         144.808112  12551.546860   34.106168  0.001154  0.248627  \n",
       "6         156.175684  21848.268026   61.802053  0.000279  0.359735  \n",
       "7         193.832748  11433.221308   33.291675  0.000224  0.228462  \n",
       "8         293.976222  10509.159481   34.711926  0.000000  3.558255  \n",
       "9         247.958455  11481.563841   83.866813  0.001881  0.247232  "
      ]
     },
     "execution_count": 157,
     "metadata": {},
     "output_type": "execute_result"
    }
   ],
   "source": [
    "data.groupby('cluster')[num_vars+target_var].mean()"
   ]
  },
  {
   "cell_type": "code",
   "execution_count": 154,
   "id": "ebf6bff9",
   "metadata": {},
   "outputs": [
    {
     "data": {
      "text/plain": [
       "<Axes: xlabel='murdrate', ylabel='percblack'>"
      ]
     },
     "execution_count": 154,
     "metadata": {},
     "output_type": "execute_result"
    },
    {
     "data": {
      "image/png": "[encoded data removed]",
      "text/plain": [
       "<Figure size 640x480 with 1 Axes>"
      ]
     },
     "metadata": {},
     "output_type": "display_data"
    }
   ],
   "source": [
    "sns.scatterplot(x = 'murdrate', y = 'percblack', hue = 'cluster', data = data)"
   ]
  },
  {
   "cell_type": "markdown",
   "id": "acc987e8",
   "metadata": {},
   "source": [
    "На базе сравнения средних величин по переменным можно каждому кластеру дать содержательную интерпретацию"
   ]
  },
  {
   "cell_type": "markdown",
   "id": "3309f954",
   "metadata": {},
   "source": [
    "Например, кластер 6 включает графства с высокой плотностью населения\n",
    "\n",
    "Кластер 8 включает графства с высоким процентом арестов\n",
    "\n",
    "Кластер 0 - это графства с самым высоким процентом черного населения \n",
    "\n",
    "И т.д.\n",
    "\n",
    "В кластере 8 самый высокий процент убийств и при этом отсутствует смертная казнь. Значит ли это, что отсутствие смертной казни ведет к повышению преступности?"
   ]
  }
 ],
 "metadata": {
  "colab": {
   "provenance": []
  },
  "kernelspec": {
   "display_name": "Python 3 (ipykernel)",
   "language": "python",
   "name": "python3"
  },
  "language_info": {
   "codemirror_mode": {
    "name": "ipython",
    "version": 3
   },
   "file_extension": ".py",
   "mimetype": "text/x-python",
   "name": "python",
   "nbconvert_exporter": "python",
   "pygments_lexer": "ipython3",
   "version": "3.11.5"
  }
 },
 "nbformat": 4,
 "nbformat_minor": 5
}
